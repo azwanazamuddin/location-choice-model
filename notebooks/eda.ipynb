{
 "cells": [
  {
   "cell_type": "markdown",
   "metadata": {},
   "source": [
    "# Exploratory Data Analysis"
   ]
  },
  {
   "cell_type": "markdown",
   "metadata": {},
   "source": [
    "#### Import Libraries"
   ]
  },
  {
   "cell_type": "code",
   "execution_count": 4,
   "metadata": {},
   "outputs": [],
   "source": [
    "import pandas as pd\n",
    "import googlemaps\n",
    "\n",
    "import numpy as np\n",
    "\n",
    "import requests\n",
    "\n",
    "import openpyxl\n",
    "\n",
    "import matplotlib.pyplot as plt\n",
    "import datetime\n",
    "\n",
    "import seaborn as sns"
   ]
  },
  {
   "cell_type": "markdown",
   "metadata": {},
   "source": [
    "#### Load Dataset"
   ]
  },
  {
   "cell_type": "code",
   "execution_count": 5,
   "metadata": {},
   "outputs": [
    {
     "data": {
      "text/html": [
       "<div>\n",
       "<style scoped>\n",
       "    .dataframe tbody tr th:only-of-type {\n",
       "        vertical-align: middle;\n",
       "    }\n",
       "\n",
       "    .dataframe tbody tr th {\n",
       "        vertical-align: top;\n",
       "    }\n",
       "\n",
       "    .dataframe thead th {\n",
       "        text-align: right;\n",
       "    }\n",
       "</style>\n",
       "<table border=\"1\" class=\"dataframe\">\n",
       "  <thead>\n",
       "    <tr style=\"text-align: right;\">\n",
       "      <th></th>\n",
       "      <th>id</th>\n",
       "      <th>id_telp</th>\n",
       "      <th>email</th>\n",
       "      <th>tanggal</th>\n",
       "      <th>jenis_pesanan</th>\n",
       "      <th>datetime_tugas</th>\n",
       "      <th>lokasi_jemput</th>\n",
       "      <th>lat_jemput</th>\n",
       "      <th>long_jemput</th>\n",
       "      <th>lokasi_tujuan</th>\n",
       "      <th>lat_tujuan</th>\n",
       "      <th>long_tujuan</th>\n",
       "      <th>datetime_selesai</th>\n",
       "      <th>jarak</th>\n",
       "      <th>pendapatan_bersih</th>\n",
       "      <th>poin_tambahan</th>\n",
       "      <th>jenis_pembayaran</th>\n",
       "      <th>jarak_jemput_tujuan</th>\n",
       "      <th>perbedaan_jarak</th>\n",
       "    </tr>\n",
       "  </thead>\n",
       "  <tbody>\n",
       "    <tr>\n",
       "      <th>0</th>\n",
       "      <td>16029</td>\n",
       "      <td>8.132182e+10</td>\n",
       "      <td>purwaramadhika@gmail.com</td>\n",
       "      <td>2023-05-04 00:00:00</td>\n",
       "      <td>Mart</td>\n",
       "      <td>2023-05-04 05:06:00</td>\n",
       "      <td>komp gading tutuka 2 blok k8 no 8, Cingcin, Ke...</td>\n",
       "      <td>-7.021726</td>\n",
       "      <td>107.505362</td>\n",
       "      <td>Jl. Gading Tutuka 2 No.42, Ciluncat, Kec. Cang...</td>\n",
       "      <td>-7.043931</td>\n",
       "      <td>107.540715</td>\n",
       "      <td>2023-05-04 05:31:00</td>\n",
       "      <td>2.50</td>\n",
       "      <td>8800</td>\n",
       "      <td>100.0</td>\n",
       "      <td>Dompet + Tunai</td>\n",
       "      <td>7.490</td>\n",
       "      <td>4.990</td>\n",
       "    </tr>\n",
       "    <tr>\n",
       "      <th>1</th>\n",
       "      <td>27243</td>\n",
       "      <td>NaN</td>\n",
       "      <td>deerah60@gmail.com</td>\n",
       "      <td>2023-05-08 00:00:00</td>\n",
       "      <td>Food</td>\n",
       "      <td>2023-05-08 11:23:00</td>\n",
       "      <td>Jl. Dakota 28 Sukaraja Cicendo Bandung</td>\n",
       "      <td>-6.894789</td>\n",
       "      <td>107.569360</td>\n",
       "      <td>No.154. Jalan Papajaran, Husen Sastranegara</td>\n",
       "      <td>-6.904878</td>\n",
       "      <td>107.579212</td>\n",
       "      <td>2023-05-08 11:51:00</td>\n",
       "      <td>1.89</td>\n",
       "      <td>7200</td>\n",
       "      <td>150.0</td>\n",
       "      <td>Dompet</td>\n",
       "      <td>6.880</td>\n",
       "      <td>4.990</td>\n",
       "    </tr>\n",
       "    <tr>\n",
       "      <th>2</th>\n",
       "      <td>14783</td>\n",
       "      <td>8.129765e+10</td>\n",
       "      <td>mrayfan17@gmail.com</td>\n",
       "      <td>2023-05-11 00:00:00</td>\n",
       "      <td>Food</td>\n",
       "      <td>2023-05-11 19:06:00</td>\n",
       "      <td>Jl. Terusan Jakarta No.6, Babakan Surabaya, Ke...</td>\n",
       "      <td>-6.913613</td>\n",
       "      <td>107.645752</td>\n",
       "      <td>Jl. Soekarno Hatta, Babakan Penghulu, Bandung ...</td>\n",
       "      <td>-6.937207</td>\n",
       "      <td>107.690535</td>\n",
       "      <td>2023-05-11 19:26:00</td>\n",
       "      <td>4.71</td>\n",
       "      <td>12000</td>\n",
       "      <td>150.0</td>\n",
       "      <td>Tunai</td>\n",
       "      <td>9.698</td>\n",
       "      <td>4.988</td>\n",
       "    </tr>\n",
       "    <tr>\n",
       "      <th>3</th>\n",
       "      <td>26411</td>\n",
       "      <td>NaN</td>\n",
       "      <td>daddykurniadi4647@gmail.com</td>\n",
       "      <td>2023-05-02 00:00:00</td>\n",
       "      <td>Food</td>\n",
       "      <td>2023-05-02 19:24:00</td>\n",
       "      <td>GF- Outdoor JL Ciumbuleuit No 147. He...</td>\n",
       "      <td>-6.875969</td>\n",
       "      <td>107.604215</td>\n",
       "      <td>Jl. Cipaku Indah X No.39, Ledeng, Kec...</td>\n",
       "      <td>-6.859268</td>\n",
       "      <td>107.600874</td>\n",
       "      <td>2023-05-02 19:37:00</td>\n",
       "      <td>2.36</td>\n",
       "      <td>8800</td>\n",
       "      <td>150.0</td>\n",
       "      <td>Dompet</td>\n",
       "      <td>7.347</td>\n",
       "      <td>4.987</td>\n",
       "    </tr>\n",
       "    <tr>\n",
       "      <th>4</th>\n",
       "      <td>16842</td>\n",
       "      <td>8.122494e+10</td>\n",
       "      <td>amrytaufikblur@gmail.com</td>\n",
       "      <td>2023-05-14 00:00:00</td>\n",
       "      <td>Ride</td>\n",
       "      <td>2023-05-14 08:00:00</td>\n",
       "      <td>jl dipatiukur no 107, lebakgede</td>\n",
       "      <td>-6.885659</td>\n",
       "      <td>107.614298</td>\n",
       "      <td>4J4F+4GM jalan gagak dalam</td>\n",
       "      <td>-6.931904</td>\n",
       "      <td>107.627052</td>\n",
       "      <td>2023-05-14 08:09:00</td>\n",
       "      <td>1.99</td>\n",
       "      <td>8000</td>\n",
       "      <td>150.0</td>\n",
       "      <td>Dompet</td>\n",
       "      <td>6.972</td>\n",
       "      <td>4.982</td>\n",
       "    </tr>\n",
       "  </tbody>\n",
       "</table>\n",
       "</div>"
      ],
      "text/plain": [
       "      id       id_telp                        email              tanggal  \\\n",
       "0  16029  8.132182e+10     purwaramadhika@gmail.com  2023-05-04 00:00:00   \n",
       "1  27243           NaN           deerah60@gmail.com  2023-05-08 00:00:00   \n",
       "2  14783  8.129765e+10          mrayfan17@gmail.com  2023-05-11 00:00:00   \n",
       "3  26411           NaN  daddykurniadi4647@gmail.com  2023-05-02 00:00:00   \n",
       "4  16842  8.122494e+10     amrytaufikblur@gmail.com  2023-05-14 00:00:00   \n",
       "\n",
       "  jenis_pesanan      datetime_tugas  \\\n",
       "0          Mart 2023-05-04 05:06:00   \n",
       "1          Food 2023-05-08 11:23:00   \n",
       "2          Food 2023-05-11 19:06:00   \n",
       "3          Food 2023-05-02 19:24:00   \n",
       "4          Ride 2023-05-14 08:00:00   \n",
       "\n",
       "                                       lokasi_jemput  lat_jemput  long_jemput  \\\n",
       "0  komp gading tutuka 2 blok k8 no 8, Cingcin, Ke...   -7.021726   107.505362   \n",
       "1             Jl. Dakota 28 Sukaraja Cicendo Bandung   -6.894789   107.569360   \n",
       "2  Jl. Terusan Jakarta No.6, Babakan Surabaya, Ke...   -6.913613   107.645752   \n",
       "3           GF- Outdoor JL Ciumbuleuit No 147. He...   -6.875969   107.604215   \n",
       "4                    jl dipatiukur no 107, lebakgede   -6.885659   107.614298   \n",
       "\n",
       "                                       lokasi_tujuan  lat_tujuan  long_tujuan  \\\n",
       "0  Jl. Gading Tutuka 2 No.42, Ciluncat, Kec. Cang...   -7.043931   107.540715   \n",
       "1        No.154. Jalan Papajaran, Husen Sastranegara   -6.904878   107.579212   \n",
       "2  Jl. Soekarno Hatta, Babakan Penghulu, Bandung ...   -6.937207   107.690535   \n",
       "3           Jl. Cipaku Indah X No.39, Ledeng, Kec...   -6.859268   107.600874   \n",
       "4                         4J4F+4GM jalan gagak dalam   -6.931904   107.627052   \n",
       "\n",
       "     datetime_selesai  jarak pendapatan_bersih  poin_tambahan  \\\n",
       "0 2023-05-04 05:31:00   2.50              8800          100.0   \n",
       "1 2023-05-08 11:51:00   1.89              7200          150.0   \n",
       "2 2023-05-11 19:26:00   4.71             12000          150.0   \n",
       "3 2023-05-02 19:37:00   2.36              8800          150.0   \n",
       "4 2023-05-14 08:09:00   1.99              8000          150.0   \n",
       "\n",
       "  jenis_pembayaran  jarak_jemput_tujuan  perbedaan_jarak  \n",
       "0   Dompet + Tunai                7.490            4.990  \n",
       "1           Dompet                6.880            4.990  \n",
       "2            Tunai                9.698            4.988  \n",
       "3           Dompet                7.347            4.987  \n",
       "4           Dompet                6.972            4.982  "
      ]
     },
     "execution_count": 5,
     "metadata": {},
     "output_type": "execute_result"
    }
   ],
   "source": [
    "# Load the Excel file into a pandas DataFrame\n",
    "df = pd.read_excel('../data/temp/for_eda.xlsx')\n",
    "df.head()"
   ]
  },
  {
   "cell_type": "code",
   "execution_count": 6,
   "metadata": {},
   "outputs": [
    {
     "data": {
      "text/plain": [
       "(27465, 19)"
      ]
     },
     "execution_count": 6,
     "metadata": {},
     "output_type": "execute_result"
    }
   ],
   "source": [
    "df.shape"
   ]
  },
  {
   "cell_type": "markdown",
   "metadata": {},
   "source": [
    "### Seluruh daerah (dalam dan luar kota bandung)"
   ]
  },
  {
   "cell_type": "code",
   "execution_count": 7,
   "metadata": {},
   "outputs": [
    {
     "data": {
      "text/html": [
       "<div>\n",
       "<style scoped>\n",
       "    .dataframe tbody tr th:only-of-type {\n",
       "        vertical-align: middle;\n",
       "    }\n",
       "\n",
       "    .dataframe tbody tr th {\n",
       "        vertical-align: top;\n",
       "    }\n",
       "\n",
       "    .dataframe thead th {\n",
       "        text-align: right;\n",
       "    }\n",
       "</style>\n",
       "<table border=\"1\" class=\"dataframe\">\n",
       "  <thead>\n",
       "    <tr style=\"text-align: right;\">\n",
       "      <th></th>\n",
       "      <th>id</th>\n",
       "      <th>id_telp</th>\n",
       "      <th>lat_jemput</th>\n",
       "      <th>long_jemput</th>\n",
       "      <th>lat_tujuan</th>\n",
       "      <th>long_tujuan</th>\n",
       "      <th>jarak</th>\n",
       "      <th>poin_tambahan</th>\n",
       "      <th>jarak_jemput_tujuan</th>\n",
       "      <th>perbedaan_jarak</th>\n",
       "    </tr>\n",
       "  </thead>\n",
       "  <tbody>\n",
       "    <tr>\n",
       "      <th>count</th>\n",
       "      <td>27465.000000</td>\n",
       "      <td>2.138100e+04</td>\n",
       "      <td>27465.000000</td>\n",
       "      <td>27465.000000</td>\n",
       "      <td>27465.000000</td>\n",
       "      <td>27465.000000</td>\n",
       "      <td>27465.000000</td>\n",
       "      <td>27442.000000</td>\n",
       "      <td>27465.000000</td>\n",
       "      <td>27465.000000</td>\n",
       "    </tr>\n",
       "    <tr>\n",
       "      <th>mean</th>\n",
       "      <td>14367.875077</td>\n",
       "      <td>1.195512e+11</td>\n",
       "      <td>-6.911439</td>\n",
       "      <td>107.611908</td>\n",
       "      <td>-6.911282</td>\n",
       "      <td>107.612263</td>\n",
       "      <td>3.679451</td>\n",
       "      <td>150.428971</td>\n",
       "      <td>4.031355</td>\n",
       "      <td>0.752807</td>\n",
       "    </tr>\n",
       "    <tr>\n",
       "      <th>std</th>\n",
       "      <td>8324.419757</td>\n",
       "      <td>1.755102e+11</td>\n",
       "      <td>0.025311</td>\n",
       "      <td>0.028344</td>\n",
       "      <td>0.028980</td>\n",
       "      <td>0.031968</td>\n",
       "      <td>2.956629</td>\n",
       "      <td>6.421310</td>\n",
       "      <td>3.097143</td>\n",
       "      <td>0.929463</td>\n",
       "    </tr>\n",
       "    <tr>\n",
       "      <th>min</th>\n",
       "      <td>3.000000</td>\n",
       "      <td>8.176327e+09</td>\n",
       "      <td>-7.078504</td>\n",
       "      <td>107.458683</td>\n",
       "      <td>-7.113588</td>\n",
       "      <td>107.414890</td>\n",
       "      <td>0.000000</td>\n",
       "      <td>3.820000</td>\n",
       "      <td>0.000000</td>\n",
       "      <td>0.000000</td>\n",
       "    </tr>\n",
       "    <tr>\n",
       "      <th>25%</th>\n",
       "      <td>7200.000000</td>\n",
       "      <td>8.128080e+10</td>\n",
       "      <td>-6.924122</td>\n",
       "      <td>107.597129</td>\n",
       "      <td>-6.927098</td>\n",
       "      <td>107.595887</td>\n",
       "      <td>1.660000</td>\n",
       "      <td>150.000000</td>\n",
       "      <td>1.905000</td>\n",
       "      <td>0.114000</td>\n",
       "    </tr>\n",
       "    <tr>\n",
       "      <th>50%</th>\n",
       "      <td>14314.000000</td>\n",
       "      <td>8.212093e+10</td>\n",
       "      <td>-6.908591</td>\n",
       "      <td>107.613733</td>\n",
       "      <td>-6.908586</td>\n",
       "      <td>107.612864</td>\n",
       "      <td>2.860000</td>\n",
       "      <td>150.000000</td>\n",
       "      <td>3.324000</td>\n",
       "      <td>0.401000</td>\n",
       "    </tr>\n",
       "    <tr>\n",
       "      <th>75%</th>\n",
       "      <td>21469.000000</td>\n",
       "      <td>8.532031e+10</td>\n",
       "      <td>-6.894532</td>\n",
       "      <td>107.625069</td>\n",
       "      <td>-6.891800</td>\n",
       "      <td>107.628526</td>\n",
       "      <td>4.780000</td>\n",
       "      <td>150.000000</td>\n",
       "      <td>5.292000</td>\n",
       "      <td>1.004000</td>\n",
       "    </tr>\n",
       "    <tr>\n",
       "      <th>max</th>\n",
       "      <td>28967.000000</td>\n",
       "      <td>8.956370e+11</td>\n",
       "      <td>-6.759178</td>\n",
       "      <td>107.816603</td>\n",
       "      <td>-6.778434</td>\n",
       "      <td>107.836598</td>\n",
       "      <td>45.450000</td>\n",
       "      <td>250.000000</td>\n",
       "      <td>46.916000</td>\n",
       "      <td>4.990000</td>\n",
       "    </tr>\n",
       "  </tbody>\n",
       "</table>\n",
       "</div>"
      ],
      "text/plain": [
       "                 id       id_telp    lat_jemput   long_jemput    lat_tujuan  \\\n",
       "count  27465.000000  2.138100e+04  27465.000000  27465.000000  27465.000000   \n",
       "mean   14367.875077  1.195512e+11     -6.911439    107.611908     -6.911282   \n",
       "std     8324.419757  1.755102e+11      0.025311      0.028344      0.028980   \n",
       "min        3.000000  8.176327e+09     -7.078504    107.458683     -7.113588   \n",
       "25%     7200.000000  8.128080e+10     -6.924122    107.597129     -6.927098   \n",
       "50%    14314.000000  8.212093e+10     -6.908591    107.613733     -6.908586   \n",
       "75%    21469.000000  8.532031e+10     -6.894532    107.625069     -6.891800   \n",
       "max    28967.000000  8.956370e+11     -6.759178    107.816603     -6.778434   \n",
       "\n",
       "        long_tujuan         jarak  poin_tambahan  jarak_jemput_tujuan  \\\n",
       "count  27465.000000  27465.000000   27442.000000         27465.000000   \n",
       "mean     107.612263      3.679451     150.428971             4.031355   \n",
       "std        0.031968      2.956629       6.421310             3.097143   \n",
       "min      107.414890      0.000000       3.820000             0.000000   \n",
       "25%      107.595887      1.660000     150.000000             1.905000   \n",
       "50%      107.612864      2.860000     150.000000             3.324000   \n",
       "75%      107.628526      4.780000     150.000000             5.292000   \n",
       "max      107.836598     45.450000     250.000000            46.916000   \n",
       "\n",
       "       perbedaan_jarak  \n",
       "count     27465.000000  \n",
       "mean          0.752807  \n",
       "std           0.929463  \n",
       "min           0.000000  \n",
       "25%           0.114000  \n",
       "50%           0.401000  \n",
       "75%           1.004000  \n",
       "max           4.990000  "
      ]
     },
     "execution_count": 7,
     "metadata": {},
     "output_type": "execute_result"
    }
   ],
   "source": [
    "df.describe()"
   ]
  },
  {
   "cell_type": "code",
   "execution_count": 8,
   "metadata": {},
   "outputs": [
    {
     "name": "stdout",
     "output_type": "stream",
     "text": [
      "<class 'pandas.core.frame.DataFrame'>\n",
      "RangeIndex: 27465 entries, 0 to 27464\n",
      "Data columns (total 19 columns):\n",
      " #   Column               Non-Null Count  Dtype         \n",
      "---  ------               --------------  -----         \n",
      " 0   id                   27465 non-null  int64         \n",
      " 1   id_telp              21381 non-null  float64       \n",
      " 2   email                26559 non-null  object        \n",
      " 3   tanggal              27426 non-null  object        \n",
      " 4   jenis_pesanan        27463 non-null  object        \n",
      " 5   datetime_tugas       27465 non-null  datetime64[ns]\n",
      " 6   lokasi_jemput        27465 non-null  object        \n",
      " 7   lat_jemput           27465 non-null  float64       \n",
      " 8   long_jemput          27465 non-null  float64       \n",
      " 9   lokasi_tujuan        27465 non-null  object        \n",
      " 10  lat_tujuan           27465 non-null  float64       \n",
      " 11  long_tujuan          27465 non-null  float64       \n",
      " 12  datetime_selesai     27465 non-null  datetime64[ns]\n",
      " 13  jarak                27465 non-null  float64       \n",
      " 14  pendapatan_bersih    27432 non-null  object        \n",
      " 15  poin_tambahan        27442 non-null  float64       \n",
      " 16  jenis_pembayaran     27464 non-null  object        \n",
      " 17  jarak_jemput_tujuan  27465 non-null  float64       \n",
      " 18  perbedaan_jarak      27465 non-null  float64       \n",
      "dtypes: datetime64[ns](2), float64(9), int64(1), object(7)\n",
      "memory usage: 4.0+ MB\n"
     ]
    }
   ],
   "source": [
    "df.info()"
   ]
  },
  {
   "cell_type": "markdown",
   "metadata": {},
   "source": [
    "#### Jenis Pesanan"
   ]
  },
  {
   "cell_type": "code",
   "execution_count": 9,
   "metadata": {},
   "outputs": [
    {
     "data": {
      "image/png": "[encoded data removed]",
      "text/plain": [
       "<Figure size 1000x600 with 1 Axes>"
      ]
     },
     "metadata": {},
     "output_type": "display_data"
    }
   ],
   "source": [
    "# Explore categorical variables like order type\n",
    "plt.figure(figsize=(10, 6))\n",
    "sns.countplot(data=df, x='jenis_pesanan')\n",
    "plt.title('Order Type Distribution')\n",
    "plt.xlabel('Order Type')\n",
    "plt.ylabel('Number of Orders')\n",
    "plt.xticks(rotation=45)\n",
    "plt.show()"
   ]
  },
  {
   "cell_type": "code",
   "execution_count": 10,
   "metadata": {},
   "outputs": [
    {
     "data": {
      "text/plain": [
       "Food            12496\n",
       "Ride            10545\n",
       "Kurir Barang     3428\n",
       "Send              801\n",
       "Mart              102\n",
       "Car                52\n",
       "Shop               30\n",
       "Go Shop             3\n",
       "Goshop              2\n",
       "Gomart              2\n",
       "GoMart              1\n",
       "Grocery             1\n",
       "Name: jenis_pesanan, dtype: int64"
      ]
     },
     "execution_count": 10,
     "metadata": {},
     "output_type": "execute_result"
    }
   ],
   "source": [
    "df['jenis_pesanan'].value_counts()"
   ]
  },
  {
   "cell_type": "markdown",
   "metadata": {},
   "source": [
    "Map value untuk Kurir Barang"
   ]
  },
  {
   "cell_type": "code",
   "execution_count": 11,
   "metadata": {},
   "outputs": [],
   "source": [
    "# map for 'Kurir Barang'\n",
    "kurir_barang_map = {\n",
    "    'Send': 'Kurir Barang',\n",
    "    'Mart': 'Kurir Barang',\n",
    "    'Shop': 'Kurir Barang',\n",
    "    'Go Shop': 'Kurir Barang',\n",
    "    'Goshop': 'Kurir Barang',\n",
    "    'Gomart': 'Kurir Barang',\n",
    "    'GoMart': 'Kurir Barang',\n",
    "    'Grocery': 'Kurir Barang'\n",
    "}"
   ]
  },
  {
   "cell_type": "code",
   "execution_count": 12,
   "metadata": {},
   "outputs": [],
   "source": [
    "# applying map dict\n",
    "df['jenis_pesanan'] = df['jenis_pesanan'].replace(kurir_barang_map)"
   ]
  },
  {
   "cell_type": "code",
   "execution_count": 13,
   "metadata": {},
   "outputs": [
    {
     "data": {
      "text/plain": [
       "Food            12496\n",
       "Ride            10545\n",
       "Kurir Barang     4370\n",
       "Car                52\n",
       "Name: jenis_pesanan, dtype: int64"
      ]
     },
     "execution_count": 13,
     "metadata": {},
     "output_type": "execute_result"
    }
   ],
   "source": [
    "df['jenis_pesanan'].value_counts()"
   ]
  },
  {
   "cell_type": "markdown",
   "metadata": {},
   "source": [
    "Hapus 'Car'"
   ]
  },
  {
   "cell_type": "code",
   "execution_count": 14,
   "metadata": {},
   "outputs": [
    {
     "data": {
      "text/plain": [
       "(27413, 19)"
      ]
     },
     "execution_count": 14,
     "metadata": {},
     "output_type": "execute_result"
    }
   ],
   "source": [
    "filtered_data = df[df['jenis_pesanan'] != 'Car']\n",
    "filtered_data.shape"
   ]
  },
  {
   "cell_type": "markdown",
   "metadata": {},
   "source": [
    "Export to excel (Data Transaksi v1)"
   ]
  },
  {
   "cell_type": "code",
   "execution_count": 15,
   "metadata": {},
   "outputs": [],
   "source": [
    "# filtered_data.to_excel('../data/transaction/v1.xlsx', index=False)"
   ]
  },
  {
   "cell_type": "markdown",
   "metadata": {},
   "source": [
    "##### Visualisasi Data Jenis Pesanan (ALL)"
   ]
  },
  {
   "cell_type": "code",
   "execution_count": 21,
   "metadata": {},
   "outputs": [
    {
     "data": {
      "image/png": "[encoded data removed]",
      "text/plain": [
       "<Figure size 1000x600 with 1 Axes>"
      ]
     },
     "metadata": {},
     "output_type": "display_data"
    }
   ],
   "source": [
    "# Define a custom color palette\n",
    "custom_palette = sns.color_palette(\"Set2\")\n",
    "\n",
    "# Explore categorical variables like order type\n",
    "plt.figure(figsize=(10, 6))\n",
    "sns.countplot(data=filtered_data, x='jenis_pesanan', palette=custom_palette)\n",
    "plt.title('Order Type Distribution')\n",
    "plt.xlabel('Order Type')\n",
    "plt.ylabel('Number of Orders')\n",
    "plt.xticks(rotation=45)\n",
    "plt.show()\n"
   ]
  },
  {
   "cell_type": "code",
   "execution_count": 29,
   "metadata": {},
   "outputs": [
    {
     "data": {
      "text/plain": [
       "Food            12496\n",
       "Ride            10545\n",
       "Kurir Barang     4370\n",
       "Name: jenis_pesanan, dtype: int64"
      ]
     },
     "execution_count": 29,
     "metadata": {},
     "output_type": "execute_result"
    }
   ],
   "source": [
    "filtered_data['jenis_pesanan'].value_counts()"
   ]
  },
  {
   "cell_type": "markdown",
   "metadata": {},
   "source": [
    "##### Pickup Dalam Bandung"
   ]
  },
  {
   "cell_type": "markdown",
   "metadata": {},
   "source": [
    "Load data dalam bandung"
   ]
  },
  {
   "cell_type": "code",
   "execution_count": 19,
   "metadata": {},
   "outputs": [
    {
     "name": "stderr",
     "output_type": "stream",
     "text": [
      "/home/superapp-research/anaconda3/envs/suapp/lib/python3.11/site-packages/openpyxl/worksheet/header_footer.py:48: UserWarning: Cannot parse header or footer so it will be ignored\n",
      "  warn(\"\"\"Cannot parse header or footer so it will be ignored\"\"\")\n"
     ]
    },
    {
     "data": {
      "text/html": [
       "<div>\n",
       "<style scoped>\n",
       "    .dataframe tbody tr th:only-of-type {\n",
       "        vertical-align: middle;\n",
       "    }\n",
       "\n",
       "    .dataframe tbody tr th {\n",
       "        vertical-align: top;\n",
       "    }\n",
       "\n",
       "    .dataframe thead th {\n",
       "        text-align: right;\n",
       "    }\n",
       "</style>\n",
       "<table border=\"1\" class=\"dataframe\">\n",
       "  <thead>\n",
       "    <tr style=\"text-align: right;\">\n",
       "      <th></th>\n",
       "      <th>OBJECTID</th>\n",
       "      <th>id</th>\n",
       "      <th>id_telp</th>\n",
       "      <th>email</th>\n",
       "      <th>tanggal</th>\n",
       "      <th>jenis_pesanan</th>\n",
       "      <th>datetime_tugas</th>\n",
       "      <th>lokasi_jemput</th>\n",
       "      <th>lat_jemput</th>\n",
       "      <th>long_jemput</th>\n",
       "      <th>lokasi_tujuan</th>\n",
       "      <th>lat_tujuan</th>\n",
       "      <th>long_tujuan</th>\n",
       "      <th>datetime_selesai</th>\n",
       "      <th>jarak</th>\n",
       "      <th>pendapatan_bersih</th>\n",
       "      <th>poin_tambahan</th>\n",
       "      <th>jenis_pembayaran</th>\n",
       "      <th>jarak_jemput_tujuan</th>\n",
       "      <th>perbedaan_jarak</th>\n",
       "    </tr>\n",
       "  </thead>\n",
       "  <tbody>\n",
       "    <tr>\n",
       "      <th>0</th>\n",
       "      <td>1</td>\n",
       "      <td>27243</td>\n",
       "      <td>NaN</td>\n",
       "      <td>deerah60@gmail.com</td>\n",
       "      <td>2023-05-08</td>\n",
       "      <td>Food</td>\n",
       "      <td>2023-05-08 11:23:00</td>\n",
       "      <td>Jl. Dakota 28 Sukaraja Cicendo Bandung</td>\n",
       "      <td>-6.894789</td>\n",
       "      <td>107.569360</td>\n",
       "      <td>No.154. Jalan Papajaran, Husen Sastranegara</td>\n",
       "      <td>-6.904878</td>\n",
       "      <td>107.579212</td>\n",
       "      <td>2023-05-08 11:51:00</td>\n",
       "      <td>1.89</td>\n",
       "      <td>7200.0</td>\n",
       "      <td>150.0</td>\n",
       "      <td>Dompet</td>\n",
       "      <td>6.880</td>\n",
       "      <td>4.990</td>\n",
       "    </tr>\n",
       "    <tr>\n",
       "      <th>1</th>\n",
       "      <td>2</td>\n",
       "      <td>14783</td>\n",
       "      <td>8.129765e+10</td>\n",
       "      <td>mrayfan17@gmail.com</td>\n",
       "      <td>2023-05-11</td>\n",
       "      <td>Food</td>\n",
       "      <td>2023-05-11 19:06:00</td>\n",
       "      <td>Jl. Terusan Jakarta No.6, Babakan Surabaya, Ke...</td>\n",
       "      <td>-6.913613</td>\n",
       "      <td>107.645752</td>\n",
       "      <td>Jl. Soekarno Hatta, Babakan Penghulu, Bandung ...</td>\n",
       "      <td>-6.937207</td>\n",
       "      <td>107.690535</td>\n",
       "      <td>2023-05-11 19:26:00</td>\n",
       "      <td>4.71</td>\n",
       "      <td>12000.0</td>\n",
       "      <td>150.0</td>\n",
       "      <td>Tunai</td>\n",
       "      <td>9.698</td>\n",
       "      <td>4.988</td>\n",
       "    </tr>\n",
       "    <tr>\n",
       "      <th>2</th>\n",
       "      <td>3</td>\n",
       "      <td>26411</td>\n",
       "      <td>NaN</td>\n",
       "      <td>daddykurniadi4647@gmail.com</td>\n",
       "      <td>2023-05-02</td>\n",
       "      <td>Food</td>\n",
       "      <td>2023-05-02 19:24:00</td>\n",
       "      <td>GF- Outdoor JL Ciumbuleuit No 147. He...</td>\n",
       "      <td>-6.875969</td>\n",
       "      <td>107.604215</td>\n",
       "      <td>Jl. Cipaku Indah X No.39, Ledeng, Kec...</td>\n",
       "      <td>-6.859268</td>\n",
       "      <td>107.600874</td>\n",
       "      <td>2023-05-02 19:37:00</td>\n",
       "      <td>2.36</td>\n",
       "      <td>8800.0</td>\n",
       "      <td>150.0</td>\n",
       "      <td>Dompet</td>\n",
       "      <td>7.347</td>\n",
       "      <td>4.987</td>\n",
       "    </tr>\n",
       "    <tr>\n",
       "      <th>3</th>\n",
       "      <td>4</td>\n",
       "      <td>16842</td>\n",
       "      <td>8.122494e+10</td>\n",
       "      <td>amrytaufikblur@gmail.com</td>\n",
       "      <td>2023-05-14</td>\n",
       "      <td>Ride</td>\n",
       "      <td>2023-05-14 08:00:00</td>\n",
       "      <td>jl dipatiukur no 107, lebakgede</td>\n",
       "      <td>-6.885659</td>\n",
       "      <td>107.614298</td>\n",
       "      <td>4J4F+4GM jalan gagak dalam</td>\n",
       "      <td>-6.931904</td>\n",
       "      <td>107.627052</td>\n",
       "      <td>2023-05-14 08:09:00</td>\n",
       "      <td>1.99</td>\n",
       "      <td>8000.0</td>\n",
       "      <td>150.0</td>\n",
       "      <td>Dompet</td>\n",
       "      <td>6.972</td>\n",
       "      <td>4.982</td>\n",
       "    </tr>\n",
       "    <tr>\n",
       "      <th>4</th>\n",
       "      <td>5</td>\n",
       "      <td>12944</td>\n",
       "      <td>8.212609e+10</td>\n",
       "      <td>sandisyahroni063@gmail.com</td>\n",
       "      <td>2023-05-12</td>\n",
       "      <td>Food</td>\n",
       "      <td>2023-05-12 07:35:00</td>\n",
       "      <td>Jl Padasuka No. 69, Pasirlayung, Cibeunying Kidul</td>\n",
       "      <td>-6.926493</td>\n",
       "      <td>107.670617</td>\n",
       "      <td>Jl Antapani Lama no. 17, Antapani Kulon, Antapani</td>\n",
       "      <td>-6.897393</td>\n",
       "      <td>107.652105</td>\n",
       "      <td>2023-05-12 07:45:00</td>\n",
       "      <td>1.63</td>\n",
       "      <td>7200.0</td>\n",
       "      <td>150.0</td>\n",
       "      <td>Dompet</td>\n",
       "      <td>6.606</td>\n",
       "      <td>4.976</td>\n",
       "    </tr>\n",
       "  </tbody>\n",
       "</table>\n",
       "</div>"
      ],
      "text/plain": [
       "   OBJECTID     id       id_telp                        email    tanggal  \\\n",
       "0         1  27243           NaN           deerah60@gmail.com 2023-05-08   \n",
       "1         2  14783  8.129765e+10          mrayfan17@gmail.com 2023-05-11   \n",
       "2         3  26411           NaN  daddykurniadi4647@gmail.com 2023-05-02   \n",
       "3         4  16842  8.122494e+10     amrytaufikblur@gmail.com 2023-05-14   \n",
       "4         5  12944  8.212609e+10   sandisyahroni063@gmail.com 2023-05-12   \n",
       "\n",
       "  jenis_pesanan      datetime_tugas  \\\n",
       "0          Food 2023-05-08 11:23:00   \n",
       "1          Food 2023-05-11 19:06:00   \n",
       "2          Food 2023-05-02 19:24:00   \n",
       "3          Ride 2023-05-14 08:00:00   \n",
       "4          Food 2023-05-12 07:35:00   \n",
       "\n",
       "                                       lokasi_jemput  lat_jemput  long_jemput  \\\n",
       "0             Jl. Dakota 28 Sukaraja Cicendo Bandung   -6.894789   107.569360   \n",
       "1  Jl. Terusan Jakarta No.6, Babakan Surabaya, Ke...   -6.913613   107.645752   \n",
       "2           GF- Outdoor JL Ciumbuleuit No 147. He...   -6.875969   107.604215   \n",
       "3                    jl dipatiukur no 107, lebakgede   -6.885659   107.614298   \n",
       "4  Jl Padasuka No. 69, Pasirlayung, Cibeunying Kidul   -6.926493   107.670617   \n",
       "\n",
       "                                       lokasi_tujuan  lat_tujuan  long_tujuan  \\\n",
       "0        No.154. Jalan Papajaran, Husen Sastranegara   -6.904878   107.579212   \n",
       "1  Jl. Soekarno Hatta, Babakan Penghulu, Bandung ...   -6.937207   107.690535   \n",
       "2           Jl. Cipaku Indah X No.39, Ledeng, Kec...   -6.859268   107.600874   \n",
       "3                         4J4F+4GM jalan gagak dalam   -6.931904   107.627052   \n",
       "4  Jl Antapani Lama no. 17, Antapani Kulon, Antapani   -6.897393   107.652105   \n",
       "\n",
       "     datetime_selesai  jarak  pendapatan_bersih  poin_tambahan  \\\n",
       "0 2023-05-08 11:51:00   1.89             7200.0          150.0   \n",
       "1 2023-05-11 19:26:00   4.71            12000.0          150.0   \n",
       "2 2023-05-02 19:37:00   2.36             8800.0          150.0   \n",
       "3 2023-05-14 08:09:00   1.99             8000.0          150.0   \n",
       "4 2023-05-12 07:45:00   1.63             7200.0          150.0   \n",
       "\n",
       "  jenis_pembayaran  jarak_jemput_tujuan  perbedaan_jarak  \n",
       "0           Dompet                6.880            4.990  \n",
       "1            Tunai                9.698            4.988  \n",
       "2           Dompet                7.347            4.987  \n",
       "3           Dompet                6.972            4.982  \n",
       "4           Dompet                6.606            4.976  "
      ]
     },
     "execution_count": 19,
     "metadata": {},
     "output_type": "execute_result"
    }
   ],
   "source": [
    "# Load the Excel file into a pandas DataFrame\n",
    "pickup_kota = pd.read_excel('../data/temp/pickup_kota_bandung.xlsx')\n",
    "pickup_kota.head()"
   ]
  },
  {
   "cell_type": "markdown",
   "metadata": {},
   "source": [
    "Visualisasi Data Jenis Pesanan "
   ]
  },
  {
   "cell_type": "code",
   "execution_count": 25,
   "metadata": {},
   "outputs": [
    {
     "data": {
      "image/png": "[encoded data removed]",
      "text/plain": [
       "<Figure size 1000x600 with 1 Axes>"
      ]
     },
     "metadata": {},
     "output_type": "display_data"
    }
   ],
   "source": [
    "# Define a custom color palette\n",
    "custom_palette = sns.color_palette(\"Set2\")\n",
    "\n",
    "# Define the order of categories\n",
    "category_order = ['Ride', 'Food', 'Kurir Barang']  # Replace with your desired order\n",
    "\n",
    "\n",
    "# Explore categorical variables like order type\n",
    "plt.figure(figsize=(10, 6))\n",
    "sns.countplot(data=pickup_kota, x='jenis_pesanan', palette=custom_palette, order=category_order)\n",
    "plt.title('Order Type Distribution')\n",
    "plt.xlabel('Order Type')\n",
    "plt.ylabel('Number of Orders')\n",
    "plt.xticks(rotation=45)\n",
    "plt.show()\n"
   ]
  },
  {
   "cell_type": "code",
   "execution_count": 26,
   "metadata": {},
   "outputs": [
    {
     "data": {
      "text/plain": [
       "Food            11621\n",
       "Ride             9334\n",
       "Kurir Barang     3866\n",
       "Name: jenis_pesanan, dtype: int64"
      ]
     },
     "execution_count": 26,
     "metadata": {},
     "output_type": "execute_result"
    }
   ],
   "source": [
    "pickup_kota['jenis_pesanan'].value_counts()"
   ]
  },
  {
   "cell_type": "markdown",
   "metadata": {},
   "source": [
    "##### Luar Bandung"
   ]
  },
  {
   "cell_type": "markdown",
   "metadata": {},
   "source": [
    "Load data luar bandung"
   ]
  },
  {
   "cell_type": "code",
   "execution_count": null,
   "metadata": {},
   "outputs": [
    {
     "name": "stderr",
     "output_type": "stream",
     "text": [
      "/home/superapp-research/anaconda3/envs/suapp/lib/python3.11/site-packages/openpyxl/worksheet/header_footer.py:48: UserWarning: Cannot parse header or footer so it will be ignored\n",
      "  warn(\"\"\"Cannot parse header or footer so it will be ignored\"\"\")\n"
     ]
    },
    {
     "data": {
      "text/html": [
       "<div>\n",
       "<style scoped>\n",
       "    .dataframe tbody tr th:only-of-type {\n",
       "        vertical-align: middle;\n",
       "    }\n",
       "\n",
       "    .dataframe tbody tr th {\n",
       "        vertical-align: top;\n",
       "    }\n",
       "\n",
       "    .dataframe thead th {\n",
       "        text-align: right;\n",
       "    }\n",
       "</style>\n",
       "<table border=\"1\" class=\"dataframe\">\n",
       "  <thead>\n",
       "    <tr style=\"text-align: right;\">\n",
       "      <th></th>\n",
       "      <th>OBJECTID</th>\n",
       "      <th>id</th>\n",
       "      <th>id_telp</th>\n",
       "      <th>email</th>\n",
       "      <th>tanggal</th>\n",
       "      <th>jenis_pesanan</th>\n",
       "      <th>datetime_tugas</th>\n",
       "      <th>lokasi_jemput</th>\n",
       "      <th>lat_jemput</th>\n",
       "      <th>long_jemput</th>\n",
       "      <th>lokasi_tujuan</th>\n",
       "      <th>lat_tujuan</th>\n",
       "      <th>long_tujuan</th>\n",
       "      <th>datetime_selesai</th>\n",
       "      <th>jarak</th>\n",
       "      <th>pendapatan_bersih</th>\n",
       "      <th>poin_tambahan</th>\n",
       "      <th>jenis_pembayaran</th>\n",
       "      <th>jarak_jemput_tujuan</th>\n",
       "      <th>perbedaan_jarak</th>\n",
       "    </tr>\n",
       "  </thead>\n",
       "  <tbody>\n",
       "    <tr>\n",
       "      <th>0</th>\n",
       "      <td>1</td>\n",
       "      <td>27243</td>\n",
       "      <td>NaN</td>\n",
       "      <td>deerah60@gmail.com</td>\n",
       "      <td>2023-05-08</td>\n",
       "      <td>Food</td>\n",
       "      <td>2023-05-08 11:23:00</td>\n",
       "      <td>Jl. Dakota 28 Sukaraja Cicendo Bandung</td>\n",
       "      <td>-6.894789</td>\n",
       "      <td>107.569360</td>\n",
       "      <td>No.154. Jalan Papajaran, Husen Sastranegara</td>\n",
       "      <td>-6.904878</td>\n",
       "      <td>107.579212</td>\n",
       "      <td>2023-05-08 11:51:00</td>\n",
       "      <td>1.89</td>\n",
       "      <td>7200.0</td>\n",
       "      <td>150.0</td>\n",
       "      <td>Dompet</td>\n",
       "      <td>6.880</td>\n",
       "      <td>4.990</td>\n",
       "    </tr>\n",
       "    <tr>\n",
       "      <th>1</th>\n",
       "      <td>2</td>\n",
       "      <td>14783</td>\n",
       "      <td>8.129765e+10</td>\n",
       "      <td>mrayfan17@gmail.com</td>\n",
       "      <td>2023-05-11</td>\n",
       "      <td>Food</td>\n",
       "      <td>2023-05-11 19:06:00</td>\n",
       "      <td>Jl. Terusan Jakarta No.6, Babakan Surabaya, Ke...</td>\n",
       "      <td>-6.913613</td>\n",
       "      <td>107.645752</td>\n",
       "      <td>Jl. Soekarno Hatta, Babakan Penghulu, Bandung ...</td>\n",
       "      <td>-6.937207</td>\n",
       "      <td>107.690535</td>\n",
       "      <td>2023-05-11 19:26:00</td>\n",
       "      <td>4.71</td>\n",
       "      <td>12000.0</td>\n",
       "      <td>150.0</td>\n",
       "      <td>Tunai</td>\n",
       "      <td>9.698</td>\n",
       "      <td>4.988</td>\n",
       "    </tr>\n",
       "    <tr>\n",
       "      <th>2</th>\n",
       "      <td>3</td>\n",
       "      <td>26411</td>\n",
       "      <td>NaN</td>\n",
       "      <td>daddykurniadi4647@gmail.com</td>\n",
       "      <td>2023-05-02</td>\n",
       "      <td>Food</td>\n",
       "      <td>2023-05-02 19:24:00</td>\n",
       "      <td>GF- Outdoor JL Ciumbuleuit No 147. He...</td>\n",
       "      <td>-6.875969</td>\n",
       "      <td>107.604215</td>\n",
       "      <td>Jl. Cipaku Indah X No.39, Ledeng, Kec...</td>\n",
       "      <td>-6.859268</td>\n",
       "      <td>107.600874</td>\n",
       "      <td>2023-05-02 19:37:00</td>\n",
       "      <td>2.36</td>\n",
       "      <td>8800.0</td>\n",
       "      <td>150.0</td>\n",
       "      <td>Dompet</td>\n",
       "      <td>7.347</td>\n",
       "      <td>4.987</td>\n",
       "    </tr>\n",
       "    <tr>\n",
       "      <th>3</th>\n",
       "      <td>4</td>\n",
       "      <td>16842</td>\n",
       "      <td>8.122494e+10</td>\n",
       "      <td>amrytaufikblur@gmail.com</td>\n",
       "      <td>2023-05-14</td>\n",
       "      <td>Ride</td>\n",
       "      <td>2023-05-14 08:00:00</td>\n",
       "      <td>jl dipatiukur no 107, lebakgede</td>\n",
       "      <td>-6.885659</td>\n",
       "      <td>107.614298</td>\n",
       "      <td>4J4F+4GM jalan gagak dalam</td>\n",
       "      <td>-6.931904</td>\n",
       "      <td>107.627052</td>\n",
       "      <td>2023-05-14 08:09:00</td>\n",
       "      <td>1.99</td>\n",
       "      <td>8000.0</td>\n",
       "      <td>150.0</td>\n",
       "      <td>Dompet</td>\n",
       "      <td>6.972</td>\n",
       "      <td>4.982</td>\n",
       "    </tr>\n",
       "    <tr>\n",
       "      <th>4</th>\n",
       "      <td>5</td>\n",
       "      <td>12944</td>\n",
       "      <td>8.212609e+10</td>\n",
       "      <td>sandisyahroni063@gmail.com</td>\n",
       "      <td>2023-05-12</td>\n",
       "      <td>Food</td>\n",
       "      <td>2023-05-12 07:35:00</td>\n",
       "      <td>Jl Padasuka No. 69, Pasirlayung, Cibeunying Kidul</td>\n",
       "      <td>-6.926493</td>\n",
       "      <td>107.670617</td>\n",
       "      <td>Jl Antapani Lama no. 17, Antapani Kulon, Antapani</td>\n",
       "      <td>-6.897393</td>\n",
       "      <td>107.652105</td>\n",
       "      <td>2023-05-12 07:45:00</td>\n",
       "      <td>1.63</td>\n",
       "      <td>7200.0</td>\n",
       "      <td>150.0</td>\n",
       "      <td>Dompet</td>\n",
       "      <td>6.606</td>\n",
       "      <td>4.976</td>\n",
       "    </tr>\n",
       "  </tbody>\n",
       "</table>\n",
       "</div>"
      ],
      "text/plain": [
       "   OBJECTID     id       id_telp                        email    tanggal  \\\n",
       "0         1  27243           NaN           deerah60@gmail.com 2023-05-08   \n",
       "1         2  14783  8.129765e+10          mrayfan17@gmail.com 2023-05-11   \n",
       "2         3  26411           NaN  daddykurniadi4647@gmail.com 2023-05-02   \n",
       "3         4  16842  8.122494e+10     amrytaufikblur@gmail.com 2023-05-14   \n",
       "4         5  12944  8.212609e+10   sandisyahroni063@gmail.com 2023-05-12   \n",
       "\n",
       "  jenis_pesanan      datetime_tugas  \\\n",
       "0          Food 2023-05-08 11:23:00   \n",
       "1          Food 2023-05-11 19:06:00   \n",
       "2          Food 2023-05-02 19:24:00   \n",
       "3          Ride 2023-05-14 08:00:00   \n",
       "4          Food 2023-05-12 07:35:00   \n",
       "\n",
       "                                       lokasi_jemput  lat_jemput  long_jemput  \\\n",
       "0             Jl. Dakota 28 Sukaraja Cicendo Bandung   -6.894789   107.569360   \n",
       "1  Jl. Terusan Jakarta No.6, Babakan Surabaya, Ke...   -6.913613   107.645752   \n",
       "2           GF- Outdoor JL Ciumbuleuit No 147. He...   -6.875969   107.604215   \n",
       "3                    jl dipatiukur no 107, lebakgede   -6.885659   107.614298   \n",
       "4  Jl Padasuka No. 69, Pasirlayung, Cibeunying Kidul   -6.926493   107.670617   \n",
       "\n",
       "                                       lokasi_tujuan  lat_tujuan  long_tujuan  \\\n",
       "0        No.154. Jalan Papajaran, Husen Sastranegara   -6.904878   107.579212   \n",
       "1  Jl. Soekarno Hatta, Babakan Penghulu, Bandung ...   -6.937207   107.690535   \n",
       "2           Jl. Cipaku Indah X No.39, Ledeng, Kec...   -6.859268   107.600874   \n",
       "3                         4J4F+4GM jalan gagak dalam   -6.931904   107.627052   \n",
       "4  Jl Antapani Lama no. 17, Antapani Kulon, Antapani   -6.897393   107.652105   \n",
       "\n",
       "     datetime_selesai  jarak  pendapatan_bersih  poin_tambahan  \\\n",
       "0 2023-05-08 11:51:00   1.89             7200.0          150.0   \n",
       "1 2023-05-11 19:26:00   4.71            12000.0          150.0   \n",
       "2 2023-05-02 19:37:00   2.36             8800.0          150.0   \n",
       "3 2023-05-14 08:09:00   1.99             8000.0          150.0   \n",
       "4 2023-05-12 07:45:00   1.63             7200.0          150.0   \n",
       "\n",
       "  jenis_pembayaran  jarak_jemput_tujuan  perbedaan_jarak  \n",
       "0           Dompet                6.880            4.990  \n",
       "1            Tunai                9.698            4.988  \n",
       "2           Dompet                7.347            4.987  \n",
       "3           Dompet                6.972            4.982  \n",
       "4           Dompet                6.606            4.976  "
      ]
     },
     "metadata": {},
     "output_type": "display_data"
    }
   ],
   "source": [
    "# Load the Excel file into a pandas DataFrame\n",
    "pickup_kota = pd.read_excel('../data/temp/pickup_luar_bandung.xlsx')\n",
    "pickup_kota.head()"
   ]
  },
  {
   "cell_type": "markdown",
   "metadata": {},
   "source": [
    "Visualisasi Data Jenis Pesanan"
   ]
  },
  {
   "cell_type": "code",
   "execution_count": null,
   "metadata": {},
   "outputs": [
    {
     "data": {
      "image/png": "[encoded data removed]",
      "text/plain": [
       "<Figure size 1000x600 with 1 Axes>"
      ]
     },
     "metadata": {},
     "output_type": "display_data"
    }
   ],
   "source": [
    "# Define a custom color palette\n",
    "custom_palette = sns.color_palette(\"Set2\")\n",
    "\n",
    "# Define the order of categories\n",
    "category_order = ['Ride', 'Food', 'Kurir Barang']  # Replace with your desired order\n",
    "\n",
    "\n",
    "# Explore categorical variables like order type\n",
    "plt.figure(figsize=(10, 6))\n",
    "sns.countplot(data=pickup_kota, x='jenis_pesanan', palette=custom_palette, order=category_order)\n",
    "plt.title('Order Type Distribution')\n",
    "plt.xlabel('Order Type')\n",
    "plt.ylabel('Number of Orders')\n",
    "plt.xticks(rotation=45)\n",
    "plt.show()\n"
   ]
  },
  {
   "cell_type": "code",
   "execution_count": null,
   "metadata": {},
   "outputs": [
    {
     "data": {
      "text/plain": [
       "Food            11621\n",
       "Ride             9334\n",
       "Kurir Barang     3866\n",
       "Name: jenis_pesanan, dtype: int64"
      ]
     },
     "metadata": {},
     "output_type": "display_data"
    }
   ],
   "source": [
    "pickup_kota['jenis_pesanan'].value_counts()"
   ]
  }
 ],
 "metadata": {
  "kernelspec": {
   "display_name": "suapp",
   "language": "python",
   "name": "python3"
  },
  "language_info": {
   "codemirror_mode": {
    "name": "ipython",
    "version": 3
   },
   "file_extension": ".py",
   "mimetype": "text/x-python",
   "name": "python",
   "nbconvert_exporter": "python",
   "pygments_lexer": "ipython3",
   "version": "3.11.4"
  },
  "orig_nbformat": 4
 },
 "nbformat": 4,
 "nbformat_minor": 2
}
