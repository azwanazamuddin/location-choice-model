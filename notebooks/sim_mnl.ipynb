{
 "cells": [
  {
   "cell_type": "code",
   "execution_count": 1,
   "metadata": {},
   "outputs": [
    {
     "ename": "NameError",
     "evalue": "name 'kelurahan_data' is not defined",
     "output_type": "error",
     "traceback": [
      "\u001b[0;31m---------------------------------------------------------------------------\u001b[0m",
      "\u001b[0;31mNameError\u001b[0m                                 Traceback (most recent call last)",
      "\u001b[1;32m/home/superapp-research/Documents/Super App Research/driver-side/location-choice-model/notebooks/sim_mnl.ipynb Cell 1\u001b[0m line \u001b[0;36m1\n\u001b[1;32m      <a href='vscode-notebook-cell://wsl%2Bubuntu-22.04/home/superapp-research/Documents/Super%20App%20Research/driver-side/location-choice-model/notebooks/sim_mnl.ipynb#W0sdnNjb2RlLXJlbW90ZQ%3D%3D?line=8'>9</a>\u001b[0m np\u001b[39m.\u001b[39mrandom\u001b[39m.\u001b[39mseed(\u001b[39m42\u001b[39m)  \u001b[39m# For reproducibility\u001b[39;00m\n\u001b[1;32m     <a href='vscode-notebook-cell://wsl%2Bubuntu-22.04/home/superapp-research/Documents/Super%20App%20Research/driver-side/location-choice-model/notebooks/sim_mnl.ipynb#W0sdnNjb2RlLXJlbW90ZQ%3D%3D?line=10'>11</a>\u001b[0m \u001b[39m# Adding simulated driver characteristics\u001b[39;00m\n\u001b[1;32m     <a href='vscode-notebook-cell://wsl%2Bubuntu-22.04/home/superapp-research/Documents/Super%20App%20Research/driver-side/location-choice-model/notebooks/sim_mnl.ipynb#W0sdnNjb2RlLXJlbW90ZQ%3D%3D?line=11'>12</a>\u001b[0m driver_data \u001b[39m=\u001b[39m pd\u001b[39m.\u001b[39mDataFrame({\n\u001b[1;32m     <a href='vscode-notebook-cell://wsl%2Bubuntu-22.04/home/superapp-research/Documents/Super%20App%20Research/driver-side/location-choice-model/notebooks/sim_mnl.ipynb#W0sdnNjb2RlLXJlbW90ZQ%3D%3D?line=12'>13</a>\u001b[0m     \u001b[39m'\u001b[39m\u001b[39mDriverID\u001b[39m\u001b[39m'\u001b[39m: np\u001b[39m.\u001b[39marange(\u001b[39m1\u001b[39m, num_drivers \u001b[39m+\u001b[39m \u001b[39m1\u001b[39m),\n\u001b[1;32m     <a href='vscode-notebook-cell://wsl%2Bubuntu-22.04/home/superapp-research/Documents/Super%20App%20Research/driver-side/location-choice-model/notebooks/sim_mnl.ipynb#W0sdnNjb2RlLXJlbW90ZQ%3D%3D?line=13'>14</a>\u001b[0m     \u001b[39m'\u001b[39m\u001b[39mDrivingExperience\u001b[39m\u001b[39m'\u001b[39m: np\u001b[39m.\u001b[39mrandom\u001b[39m.\u001b[39muniform(\u001b[39m1\u001b[39m, \u001b[39m10\u001b[39m, num_drivers),  \u001b[39m# Years of driving experience\u001b[39;00m\n\u001b[1;32m     <a href='vscode-notebook-cell://wsl%2Bubuntu-22.04/home/superapp-research/Documents/Super%20App%20Research/driver-side/location-choice-model/notebooks/sim_mnl.ipynb#W0sdnNjb2RlLXJlbW90ZQ%3D%3D?line=14'>15</a>\u001b[0m     \u001b[39m'\u001b[39m\u001b[39mPreference\u001b[39m\u001b[39m'\u001b[39m: np\u001b[39m.\u001b[39mrandom\u001b[39m.\u001b[39mchoice([\u001b[39m'\u001b[39m\u001b[39mSpeed\u001b[39m\u001b[39m'\u001b[39m, \u001b[39m'\u001b[39m\u001b[39mSafety\u001b[39m\u001b[39m'\u001b[39m, \u001b[39m'\u001b[39m\u001b[39mEarnings\u001b[39m\u001b[39m'\u001b[39m], num_drivers),  \u001b[39m# Driver's preference\u001b[39;00m\n\u001b[0;32m---> <a href='vscode-notebook-cell://wsl%2Bubuntu-22.04/home/superapp-research/Documents/Super%20App%20Research/driver-side/location-choice-model/notebooks/sim_mnl.ipynb#W0sdnNjb2RlLXJlbW90ZQ%3D%3D?line=15'>16</a>\u001b[0m     \u001b[39m'\u001b[39m\u001b[39mHistoricalFrequentKelurahan\u001b[39m\u001b[39m'\u001b[39m: np\u001b[39m.\u001b[39mrandom\u001b[39m.\u001b[39mchoice(kelurahan_data[\u001b[39m'\u001b[39m\u001b[39mKelurahan\u001b[39m\u001b[39m'\u001b[39m], num_drivers)  \u001b[39m# Frequently visited kelurahan\u001b[39;00m\n\u001b[1;32m     <a href='vscode-notebook-cell://wsl%2Bubuntu-22.04/home/superapp-research/Documents/Super%20App%20Research/driver-side/location-choice-model/notebooks/sim_mnl.ipynb#W0sdnNjb2RlLXJlbW90ZQ%3D%3D?line=16'>17</a>\u001b[0m })\n\u001b[1;32m     <a href='vscode-notebook-cell://wsl%2Bubuntu-22.04/home/superapp-research/Documents/Super%20App%20Research/driver-side/location-choice-model/notebooks/sim_mnl.ipynb#W0sdnNjb2RlLXJlbW90ZQ%3D%3D?line=18'>19</a>\u001b[0m \u001b[39m# Extend the simulated kelurahan_data with trip characteristics\u001b[39;00m\n\u001b[1;32m     <a href='vscode-notebook-cell://wsl%2Bubuntu-22.04/home/superapp-research/Documents/Super%20App%20Research/driver-side/location-choice-model/notebooks/sim_mnl.ipynb#W0sdnNjb2RlLXJlbW90ZQ%3D%3D?line=19'>20</a>\u001b[0m trip_data \u001b[39m=\u001b[39m pd\u001b[39m.\u001b[39mDataFrame({\n\u001b[1;32m     <a href='vscode-notebook-cell://wsl%2Bubuntu-22.04/home/superapp-research/Documents/Super%20App%20Research/driver-side/location-choice-model/notebooks/sim_mnl.ipynb#W0sdnNjb2RlLXJlbW90ZQ%3D%3D?line=20'>21</a>\u001b[0m     \u001b[39m'\u001b[39m\u001b[39mTripID\u001b[39m\u001b[39m'\u001b[39m: np\u001b[39m.\u001b[39marange(\u001b[39m1\u001b[39m, num_drivers \u001b[39m+\u001b[39m \u001b[39m1\u001b[39m),\n\u001b[1;32m     <a href='vscode-notebook-cell://wsl%2Bubuntu-22.04/home/superapp-research/Documents/Super%20App%20Research/driver-side/location-choice-model/notebooks/sim_mnl.ipynb#W0sdnNjb2RlLXJlbW90ZQ%3D%3D?line=21'>22</a>\u001b[0m     \u001b[39m'\u001b[39m\u001b[39mTripDuration\u001b[39m\u001b[39m'\u001b[39m: np\u001b[39m.\u001b[39mrandom\u001b[39m.\u001b[39muniform(\u001b[39m5\u001b[39m, \u001b[39m60\u001b[39m, num_drivers),  \u001b[39m# Trip duration in minutes\u001b[39;00m\n\u001b[0;32m   (...)\u001b[0m\n\u001b[1;32m     <a href='vscode-notebook-cell://wsl%2Bubuntu-22.04/home/superapp-research/Documents/Super%20App%20Research/driver-side/location-choice-model/notebooks/sim_mnl.ipynb#W0sdnNjb2RlLXJlbW90ZQ%3D%3D?line=24'>25</a>\u001b[0m     \u001b[39m'\u001b[39m\u001b[39mTripType\u001b[39m\u001b[39m'\u001b[39m: np\u001b[39m.\u001b[39mrandom\u001b[39m.\u001b[39mchoice([\u001b[39m'\u001b[39m\u001b[39mPerson\u001b[39m\u001b[39m'\u001b[39m, \u001b[39m'\u001b[39m\u001b[39mParcel\u001b[39m\u001b[39m'\u001b[39m], num_drivers)  \u001b[39m# Type of trip\u001b[39;00m\n\u001b[1;32m     <a href='vscode-notebook-cell://wsl%2Bubuntu-22.04/home/superapp-research/Documents/Super%20App%20Research/driver-side/location-choice-model/notebooks/sim_mnl.ipynb#W0sdnNjb2RlLXJlbW90ZQ%3D%3D?line=25'>26</a>\u001b[0m })\n",
      "\u001b[0;31mNameError\u001b[0m: name 'kelurahan_data' is not defined"
     ]
    }
   ],
   "source": [
    "import pandas as pd\n",
    "import numpy as np\n",
    "from scipy.optimize import minimize\n",
    "\n",
    "# Assume there are 100 drivers making decisions about where to go\n",
    "num_drivers = 100\n",
    "\n",
    "# Extend the kelurahan_data with additional trip and driver characteristics\n",
    "np.random.seed(42)  # For reproducibility\n",
    "\n",
    "# Adding simulated driver characteristics\n",
    "driver_data = pd.DataFrame({\n",
    "    'DriverID': np.arange(1, num_drivers + 1),\n",
    "    'DrivingExperience': np.random.uniform(1, 10, num_drivers),  # Years of driving experience\n",
    "    'Preference': np.random.choice(['Speed', 'Safety', 'Earnings'], num_drivers),  # Driver's preference\n",
    "    'HistoricalFrequentKelurahan': np.random.choice(kelurahan_data['Kelurahan'], num_drivers)  # Frequently visited kelurahan\n",
    "})\n",
    "\n",
    "# Extend the simulated kelurahan_data with trip characteristics\n",
    "trip_data = pd.DataFrame({\n",
    "    'TripID': np.arange(1, num_drivers + 1),\n",
    "    'TripDuration': np.random.uniform(5, 60, num_drivers),  # Trip duration in minutes\n",
    "    'TripDistance': np.random.uniform(1, 20, num_drivers),  # Trip distance in km\n",
    "    'PeakHour': np.random.choice([0, 1], num_drivers),  # Whether the trip is during peak hour\n",
    "    'TripType': np.random.choice(['Person', 'Parcel'], num_drivers)  # Type of trip\n",
    "})\n",
    "\n",
    "# Merge the driver data with trip data for a complete dataset\n",
    "complete_data = pd.merge(driver_data, trip_data, left_on='DriverID', right_on='TripID')\n",
    "complete_data = complete_data.join(kelurahan_data.set_index('Kelurahan'), on='HistoricalFrequentKelurahan')\n",
    "\n",
    "# Display the first few rows of the complete data\n",
    "complete_data.head()\n"
   ]
  },
  {
   "cell_type": "code",
   "execution_count": 7,
   "metadata": {},
   "outputs": [
    {
     "data": {
      "text/plain": [
       "       message: Optimization terminated successfully.\n",
       "       success: True\n",
       "        status: 0\n",
       "           fun: 5.571230173443072\n",
       "             x: [ 1.760e-01  3.088e-03  1.368e-01 -1.734e-05  2.214e-01\n",
       "                  3.047e-02  1.775e-01  7.459e-02 -2.142e-03]\n",
       "           nit: 629\n",
       "          nfev: 973\n",
       " final_simplex: (array([[ 1.760e-01,  3.088e-03, ...,  7.459e-02,\n",
       "                        -2.142e-03],\n",
       "                       [ 1.760e-01,  3.087e-03, ...,  7.461e-02,\n",
       "                        -2.084e-03],\n",
       "                       ...,\n",
       "                       [ 1.760e-01,  3.055e-03, ...,  7.458e-02,\n",
       "                        -2.152e-03],\n",
       "                       [ 1.760e-01,  3.058e-03, ...,  7.456e-02,\n",
       "                        -2.192e-03]]), array([ 5.571e+00,  5.571e+00,  5.571e+00,  5.571e+00,\n",
       "                        5.571e+00,  5.571e+00,  5.571e+00,  5.571e+00,\n",
       "                        5.571e+00,  5.571e+00]))"
      ]
     },
     "execution_count": 7,
     "metadata": {},
     "output_type": "execute_result"
    }
   ],
   "source": [
    "# Define the complex utility function including driver and trip characteristics\n",
    "def complex_utility_function(params, data):\n",
    "    (b_accessibility, b_demand_density, b_competition, b_expected_profit,\n",
    "     b_experience, b_duration, b_distance, b_peak_hour, b_trip_type_person) = params\n",
    "    \n",
    "    # Calculate utility based on kelurahan characteristics\n",
    "    utility = (b_accessibility * data['Aksesibilitas'] +\n",
    "               b_demand_density * data['KepadatanPermintaan'] -\n",
    "               b_competition * data['Persaingan'] +\n",
    "               b_expected_profit * data['KemungkinanKeuntungan'])\n",
    "    \n",
    "    # Add driver characteristics to utility\n",
    "    utility += b_experience * data['DrivingExperience']\n",
    "    \n",
    "    # Add trip characteristics to utility\n",
    "    utility += (b_duration * data['TripDuration'] +\n",
    "                b_distance * data['TripDistance'] -\n",
    "                b_peak_hour * data['PeakHour'])\n",
    "    \n",
    "    # Add a binary variable for trip type (1 if Person, 0 if Parcel)\n",
    "    utility += b_trip_type_person * (data['TripType'] == 'Person')\n",
    "    \n",
    "    # Scaling utilities to avoid very large or very small values\n",
    "    utility = utility - utility.max()\n",
    "    \n",
    "    return utility\n",
    "\n",
    "# Define the log-likelihood function for the complex model\n",
    "def complex_log_likelihood(params, data):\n",
    "    utilities = complex_utility_function(params, data)\n",
    "    exp_utilities = np.exp(utilities)\n",
    "    probabilities = exp_utilities / exp_utilities.sum()\n",
    "    probabilities = np.clip(probabilities, 1e-8, 1-1e-8)  # Avoid log(0)\n",
    "    log_prob = np.log(probabilities)\n",
    "    return -log_prob.mean()  # Negative of the mean log likelihood\n",
    "\n",
    "# Initial parameter values for the complex model\n",
    "initial_params_complex = [0.1] * 9  # Initial guesses for all parameters\n",
    "\n",
    "# Perform the optimization using the Nelder-Mead method for the complex model\n",
    "result_complex = minimize(complex_log_likelihood, initial_params_complex, args=(complete_data,), method='Nelder-Mead')\n",
    "\n",
    "# Display the optimization results for the complex model\n",
    "result_complex"
   ]
  }
 ],
 "metadata": {
  "kernelspec": {
   "display_name": "suapp",
   "language": "python",
   "name": "python3"
  },
  "language_info": {
   "codemirror_mode": {
    "name": "ipython",
    "version": 3
   },
   "file_extension": ".py",
   "mimetype": "text/x-python",
   "name": "python",
   "nbconvert_exporter": "python",
   "pygments_lexer": "ipython3",
   "version": "3.11.4"
  }
 },
 "nbformat": 4,
 "nbformat_minor": 2
}
