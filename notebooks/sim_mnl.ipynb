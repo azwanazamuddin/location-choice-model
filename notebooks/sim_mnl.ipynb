{
 "cells": [
  {
   "cell_type": "code",
   "execution_count": 1,
   "metadata": {},
   "outputs": [],
   "source": [
    "import numpy as np\n",
    "import pandas as pd\n",
    "from scipy.optimize import minimize\n",
    "\n",
    "np.random.seed(0)\n",
    "n_drivers = 100  # sampel pengemudi\n",
    "n_locations = 150  # sampel kelurahan\n",
    "\n",
    "# Data Pengemudi\n",
    "drivers_data = {\n",
    "    \"experience\": np.random.randint(1, 10, n_drivers),\n",
    "    \"preference\": np.random.randint(0, n_locations, n_drivers)\n",
    "}\n",
    "\n",
    "# Data Lokasi\n",
    "locations_data = {\n",
    "    \"demand_level\": np.random.uniform(1, 5, n_locations),\n",
    "    \"competition\": np.random.uniform(1, 3, n_locations),\n",
    "    \"safety\": np.random.uniform(1, 5, n_locations)\n",
    "}\n",
    "\n",
    "# Data Perjalanan\n",
    "travel_data = np.zeros((n_drivers, n_locations, 3))\n",
    "for i in range(n_drivers):\n",
    "    for j in range(n_locations):\n",
    "        distance = np.abs(j - drivers_data['preference'][i]) + np.random.uniform(0, 5)\n",
    "        time = distance / np.random.uniform(1, 3)\n",
    "        cost = distance * np.random.uniform(0.5, 1.5)\n",
    "        travel_data[i, j] = [distance, time, cost]"
   ]
  },
  {
   "cell_type": "code",
   "execution_count": 2,
   "metadata": {},
   "outputs": [],
   "source": [
    "# DataFrame Pengemudi\n",
    "drivers_df = pd.DataFrame(drivers_data)\n",
    "drivers_df['driver_id'] = range(n_drivers)\n",
    "drivers_df = drivers_df.set_index('driver_id')\n",
    "\n",
    "# DataFrame Lokasi\n",
    "locations_df = pd.DataFrame(locations_data)\n",
    "locations_df['location_id'] = range(n_locations)\n",
    "locations_df = locations_df.set_index('location_id')\n",
    "\n",
    "# DataFrame Data Perjalanan\n",
    "travel_data_reshaped = travel_data.reshape(n_drivers * n_locations, 3)\n",
    "travel_df = pd.DataFrame(travel_data_reshaped, columns=['distance', 'time', 'cost'])\n",
    "travel_df['driver_id'] = np.repeat(range(n_drivers), n_locations)\n",
    "travel_df['location_id'] = np.tile(range(n_locations), n_drivers)"
   ]
  },
  {
   "cell_type": "code",
   "execution_count": 4,
   "metadata": {},
   "outputs": [],
   "source": [
    "def utility_function(driver_id, location_id, beta):\n",
    "    driver = drivers_df.loc[driver_id]\n",
    "    location = locations_df.loc[location_id]\n",
    "    travel = travel_df[(travel_df.driver_id == driver_id) & (travel_df.location_id == location_id)].iloc[0]\n",
    "    \n",
    "    utility = (beta[0] * travel.distance +\n",
    "               beta[1] * travel.time +\n",
    "               beta[2] * travel.cost +\n",
    "               beta[3] * location.demand_level +\n",
    "               beta[4] * location.competition +\n",
    "               beta[5] * location.safety +\n",
    "               beta[6] * driver.experience +\n",
    "               beta[7] * (driver.preference == location_id))\n",
    "    return utility"
   ]
  },
  {
   "cell_type": "code",
   "execution_count": 5,
   "metadata": {},
   "outputs": [],
   "source": [
    "def log_likelihood(beta):\n",
    "    log_likelihood = 0\n",
    "    for driver_id in range(n_drivers):\n",
    "        utilities = np.array([utility_function(driver_id, location_id, beta) for location_id in range(n_locations)])\n",
    "        log_likelihood += -np.log(np.sum(np.exp(utilities - np.max(utilities))))  # Stabilitas numerik\n",
    "    return log_likelihood"
   ]
  },
  {
   "cell_type": "code",
   "execution_count": 7,
   "metadata": {},
   "outputs": [
    {
     "ename": "KeyboardInterrupt",
     "evalue": "",
     "output_type": "error",
     "traceback": [
      "\u001b[0;31m---------------------------------------------------------------------------\u001b[0m",
      "\u001b[0;31mKeyboardInterrupt\u001b[0m                         Traceback (most recent call last)",
      "\u001b[1;32m/home/peminumyakult/Documents/Python Workplace/Project/SuperApp Research/time_space/notebooks/sim_mnl.ipynb Cell 5\u001b[0m line \u001b[0;36m2\n\u001b[1;32m      <a href='vscode-notebook-cell://wsl%2Bubuntu-22.04/home/peminumyakult/Documents/Python%20Workplace/Project/SuperApp%20Research/time_space/notebooks/sim_mnl.ipynb#W3sdnNjb2RlLXJlbW90ZQ%3D%3D?line=0'>1</a>\u001b[0m initial_beta \u001b[39m=\u001b[39m np\u001b[39m.\u001b[39mzeros(\u001b[39m8\u001b[39m)\n\u001b[0;32m----> <a href='vscode-notebook-cell://wsl%2Bubuntu-22.04/home/peminumyakult/Documents/Python%20Workplace/Project/SuperApp%20Research/time_space/notebooks/sim_mnl.ipynb#W3sdnNjb2RlLXJlbW90ZQ%3D%3D?line=1'>2</a>\u001b[0m result \u001b[39m=\u001b[39m minimize(log_likelihood, initial_beta, method\u001b[39m=\u001b[39m\u001b[39m'\u001b[39m\u001b[39mNelder-Mead\u001b[39m\u001b[39m'\u001b[39m)\n\u001b[1;32m      <a href='vscode-notebook-cell://wsl%2Bubuntu-22.04/home/peminumyakult/Documents/Python%20Workplace/Project/SuperApp%20Research/time_space/notebooks/sim_mnl.ipynb#W3sdnNjb2RlLXJlbW90ZQ%3D%3D?line=3'>4</a>\u001b[0m \u001b[39m# Hasil Optimasi\u001b[39;00m\n\u001b[1;32m      <a href='vscode-notebook-cell://wsl%2Bubuntu-22.04/home/peminumyakult/Documents/Python%20Workplace/Project/SuperApp%20Research/time_space/notebooks/sim_mnl.ipynb#W3sdnNjb2RlLXJlbW90ZQ%3D%3D?line=4'>5</a>\u001b[0m \u001b[39mprint\u001b[39m(\u001b[39m\"\u001b[39m\u001b[39mOptimized Beta Parameters:\u001b[39m\u001b[39m\"\u001b[39m, result\u001b[39m.\u001b[39mx)\n",
      "File \u001b[0;32m~/anaconda3/envs/suapp/lib/python3.11/site-packages/scipy/optimize/_minimize.py:684\u001b[0m, in \u001b[0;36mminimize\u001b[0;34m(fun, x0, args, method, jac, hess, hessp, bounds, constraints, tol, callback, options)\u001b[0m\n\u001b[1;32m    681\u001b[0m     bounds \u001b[39m=\u001b[39m standardize_bounds(bounds, x0, meth)\n\u001b[1;32m    683\u001b[0m \u001b[39mif\u001b[39;00m meth \u001b[39m==\u001b[39m \u001b[39m'\u001b[39m\u001b[39mnelder-mead\u001b[39m\u001b[39m'\u001b[39m:\n\u001b[0;32m--> 684\u001b[0m     res \u001b[39m=\u001b[39m _minimize_neldermead(fun, x0, args, callback, bounds\u001b[39m=\u001b[39mbounds,\n\u001b[1;32m    685\u001b[0m                                \u001b[39m*\u001b[39m\u001b[39m*\u001b[39moptions)\n\u001b[1;32m    686\u001b[0m \u001b[39melif\u001b[39;00m meth \u001b[39m==\u001b[39m \u001b[39m'\u001b[39m\u001b[39mpowell\u001b[39m\u001b[39m'\u001b[39m:\n\u001b[1;32m    687\u001b[0m     res \u001b[39m=\u001b[39m _minimize_powell(fun, x0, args, callback, bounds, \u001b[39m*\u001b[39m\u001b[39m*\u001b[39moptions)\n",
      "File \u001b[0;32m~/anaconda3/envs/suapp/lib/python3.11/site-packages/scipy/optimize/_optimize.py:870\u001b[0m, in \u001b[0;36m_minimize_neldermead\u001b[0;34m(func, x0, args, callback, maxiter, maxfev, disp, return_all, initial_simplex, xatol, fatol, adaptive, bounds, **unknown_options)\u001b[0m\n\u001b[1;32m    868\u001b[0m \u001b[39mif\u001b[39;00m bounds \u001b[39mis\u001b[39;00m \u001b[39mnot\u001b[39;00m \u001b[39mNone\u001b[39;00m:\n\u001b[1;32m    869\u001b[0m     xr \u001b[39m=\u001b[39m np\u001b[39m.\u001b[39mclip(xr, lower_bound, upper_bound)\n\u001b[0;32m--> 870\u001b[0m fxr \u001b[39m=\u001b[39m func(xr)\n\u001b[1;32m    871\u001b[0m doshrink \u001b[39m=\u001b[39m \u001b[39m0\u001b[39m\n\u001b[1;32m    873\u001b[0m \u001b[39mif\u001b[39;00m fxr \u001b[39m<\u001b[39m fsim[\u001b[39m0\u001b[39m]:\n",
      "File \u001b[0;32m~/anaconda3/envs/suapp/lib/python3.11/site-packages/scipy/optimize/_optimize.py:569\u001b[0m, in \u001b[0;36m_wrap_scalar_function_maxfun_validation.<locals>.function_wrapper\u001b[0;34m(x, *wrapper_args)\u001b[0m\n\u001b[1;32m    567\u001b[0m ncalls[\u001b[39m0\u001b[39m] \u001b[39m+\u001b[39m\u001b[39m=\u001b[39m \u001b[39m1\u001b[39m\n\u001b[1;32m    568\u001b[0m \u001b[39m# A copy of x is sent to the user function (gh13740)\u001b[39;00m\n\u001b[0;32m--> 569\u001b[0m fx \u001b[39m=\u001b[39m function(np\u001b[39m.\u001b[39mcopy(x), \u001b[39m*\u001b[39m(wrapper_args \u001b[39m+\u001b[39m args))\n\u001b[1;32m    570\u001b[0m \u001b[39m# Ideally, we'd like to a have a true scalar returned from f(x). For\u001b[39;00m\n\u001b[1;32m    571\u001b[0m \u001b[39m# backwards-compatibility, also allow np.array([1.3]),\u001b[39;00m\n\u001b[1;32m    572\u001b[0m \u001b[39m# np.array([[1.3]]) etc.\u001b[39;00m\n\u001b[1;32m    573\u001b[0m \u001b[39mif\u001b[39;00m \u001b[39mnot\u001b[39;00m np\u001b[39m.\u001b[39misscalar(fx):\n",
      "\u001b[1;32m/home/peminumyakult/Documents/Python Workplace/Project/SuperApp Research/time_space/notebooks/sim_mnl.ipynb Cell 5\u001b[0m line \u001b[0;36m4\n\u001b[1;32m      <a href='vscode-notebook-cell://wsl%2Bubuntu-22.04/home/peminumyakult/Documents/Python%20Workplace/Project/SuperApp%20Research/time_space/notebooks/sim_mnl.ipynb#W3sdnNjb2RlLXJlbW90ZQ%3D%3D?line=1'>2</a>\u001b[0m log_likelihood \u001b[39m=\u001b[39m \u001b[39m0\u001b[39m\n\u001b[1;32m      <a href='vscode-notebook-cell://wsl%2Bubuntu-22.04/home/peminumyakult/Documents/Python%20Workplace/Project/SuperApp%20Research/time_space/notebooks/sim_mnl.ipynb#W3sdnNjb2RlLXJlbW90ZQ%3D%3D?line=2'>3</a>\u001b[0m \u001b[39mfor\u001b[39;00m driver_id \u001b[39min\u001b[39;00m \u001b[39mrange\u001b[39m(n_drivers):\n\u001b[0;32m----> <a href='vscode-notebook-cell://wsl%2Bubuntu-22.04/home/peminumyakult/Documents/Python%20Workplace/Project/SuperApp%20Research/time_space/notebooks/sim_mnl.ipynb#W3sdnNjb2RlLXJlbW90ZQ%3D%3D?line=3'>4</a>\u001b[0m     utilities \u001b[39m=\u001b[39m np\u001b[39m.\u001b[39marray([utility_function(driver_id, location_id, beta) \u001b[39mfor\u001b[39;00m location_id \u001b[39min\u001b[39;00m \u001b[39mrange\u001b[39m(n_locations)])\n\u001b[1;32m      <a href='vscode-notebook-cell://wsl%2Bubuntu-22.04/home/peminumyakult/Documents/Python%20Workplace/Project/SuperApp%20Research/time_space/notebooks/sim_mnl.ipynb#W3sdnNjb2RlLXJlbW90ZQ%3D%3D?line=4'>5</a>\u001b[0m     log_likelihood \u001b[39m+\u001b[39m\u001b[39m=\u001b[39m \u001b[39m-\u001b[39mnp\u001b[39m.\u001b[39mlog(np\u001b[39m.\u001b[39msum(np\u001b[39m.\u001b[39mexp(utilities \u001b[39m-\u001b[39m np\u001b[39m.\u001b[39mmax(utilities))))  \u001b[39m# Stabilitas numerik\u001b[39;00m\n\u001b[1;32m      <a href='vscode-notebook-cell://wsl%2Bubuntu-22.04/home/peminumyakult/Documents/Python%20Workplace/Project/SuperApp%20Research/time_space/notebooks/sim_mnl.ipynb#W3sdnNjb2RlLXJlbW90ZQ%3D%3D?line=5'>6</a>\u001b[0m \u001b[39mreturn\u001b[39;00m log_likelihood\n",
      "\u001b[1;32m/home/peminumyakult/Documents/Python Workplace/Project/SuperApp Research/time_space/notebooks/sim_mnl.ipynb Cell 5\u001b[0m line \u001b[0;36m4\n\u001b[1;32m      <a href='vscode-notebook-cell://wsl%2Bubuntu-22.04/home/peminumyakult/Documents/Python%20Workplace/Project/SuperApp%20Research/time_space/notebooks/sim_mnl.ipynb#W3sdnNjb2RlLXJlbW90ZQ%3D%3D?line=1'>2</a>\u001b[0m log_likelihood \u001b[39m=\u001b[39m \u001b[39m0\u001b[39m\n\u001b[1;32m      <a href='vscode-notebook-cell://wsl%2Bubuntu-22.04/home/peminumyakult/Documents/Python%20Workplace/Project/SuperApp%20Research/time_space/notebooks/sim_mnl.ipynb#W3sdnNjb2RlLXJlbW90ZQ%3D%3D?line=2'>3</a>\u001b[0m \u001b[39mfor\u001b[39;00m driver_id \u001b[39min\u001b[39;00m \u001b[39mrange\u001b[39m(n_drivers):\n\u001b[0;32m----> <a href='vscode-notebook-cell://wsl%2Bubuntu-22.04/home/peminumyakult/Documents/Python%20Workplace/Project/SuperApp%20Research/time_space/notebooks/sim_mnl.ipynb#W3sdnNjb2RlLXJlbW90ZQ%3D%3D?line=3'>4</a>\u001b[0m     utilities \u001b[39m=\u001b[39m np\u001b[39m.\u001b[39marray([utility_function(driver_id, location_id, beta) \u001b[39mfor\u001b[39;00m location_id \u001b[39min\u001b[39;00m \u001b[39mrange\u001b[39m(n_locations)])\n\u001b[1;32m      <a href='vscode-notebook-cell://wsl%2Bubuntu-22.04/home/peminumyakult/Documents/Python%20Workplace/Project/SuperApp%20Research/time_space/notebooks/sim_mnl.ipynb#W3sdnNjb2RlLXJlbW90ZQ%3D%3D?line=4'>5</a>\u001b[0m     log_likelihood \u001b[39m+\u001b[39m\u001b[39m=\u001b[39m \u001b[39m-\u001b[39mnp\u001b[39m.\u001b[39mlog(np\u001b[39m.\u001b[39msum(np\u001b[39m.\u001b[39mexp(utilities \u001b[39m-\u001b[39m np\u001b[39m.\u001b[39mmax(utilities))))  \u001b[39m# Stabilitas numerik\u001b[39;00m\n\u001b[1;32m      <a href='vscode-notebook-cell://wsl%2Bubuntu-22.04/home/peminumyakult/Documents/Python%20Workplace/Project/SuperApp%20Research/time_space/notebooks/sim_mnl.ipynb#W3sdnNjb2RlLXJlbW90ZQ%3D%3D?line=5'>6</a>\u001b[0m \u001b[39mreturn\u001b[39;00m log_likelihood\n",
      "\u001b[1;32m/home/peminumyakult/Documents/Python Workplace/Project/SuperApp Research/time_space/notebooks/sim_mnl.ipynb Cell 5\u001b[0m line \u001b[0;36m4\n\u001b[1;32m      <a href='vscode-notebook-cell://wsl%2Bubuntu-22.04/home/peminumyakult/Documents/Python%20Workplace/Project/SuperApp%20Research/time_space/notebooks/sim_mnl.ipynb#W3sdnNjb2RlLXJlbW90ZQ%3D%3D?line=1'>2</a>\u001b[0m driver \u001b[39m=\u001b[39m drivers_df\u001b[39m.\u001b[39mloc[driver_id]\n\u001b[1;32m      <a href='vscode-notebook-cell://wsl%2Bubuntu-22.04/home/peminumyakult/Documents/Python%20Workplace/Project/SuperApp%20Research/time_space/notebooks/sim_mnl.ipynb#W3sdnNjb2RlLXJlbW90ZQ%3D%3D?line=2'>3</a>\u001b[0m location \u001b[39m=\u001b[39m locations_df\u001b[39m.\u001b[39mloc[location_id]\n\u001b[0;32m----> <a href='vscode-notebook-cell://wsl%2Bubuntu-22.04/home/peminumyakult/Documents/Python%20Workplace/Project/SuperApp%20Research/time_space/notebooks/sim_mnl.ipynb#W3sdnNjb2RlLXJlbW90ZQ%3D%3D?line=3'>4</a>\u001b[0m travel \u001b[39m=\u001b[39m travel_df[(travel_df\u001b[39m.\u001b[39mdriver_id \u001b[39m==\u001b[39m driver_id) \u001b[39m&\u001b[39m (travel_df\u001b[39m.\u001b[39mlocation_id \u001b[39m==\u001b[39m location_id)]\u001b[39m.\u001b[39miloc[\u001b[39m0\u001b[39m]\n\u001b[1;32m      <a href='vscode-notebook-cell://wsl%2Bubuntu-22.04/home/peminumyakult/Documents/Python%20Workplace/Project/SuperApp%20Research/time_space/notebooks/sim_mnl.ipynb#W3sdnNjb2RlLXJlbW90ZQ%3D%3D?line=5'>6</a>\u001b[0m utility \u001b[39m=\u001b[39m (beta[\u001b[39m0\u001b[39m] \u001b[39m*\u001b[39m travel\u001b[39m.\u001b[39mdistance \u001b[39m+\u001b[39m\n\u001b[1;32m      <a href='vscode-notebook-cell://wsl%2Bubuntu-22.04/home/peminumyakult/Documents/Python%20Workplace/Project/SuperApp%20Research/time_space/notebooks/sim_mnl.ipynb#W3sdnNjb2RlLXJlbW90ZQ%3D%3D?line=6'>7</a>\u001b[0m            beta[\u001b[39m1\u001b[39m] \u001b[39m*\u001b[39m travel\u001b[39m.\u001b[39mtime \u001b[39m+\u001b[39m\n\u001b[1;32m      <a href='vscode-notebook-cell://wsl%2Bubuntu-22.04/home/peminumyakult/Documents/Python%20Workplace/Project/SuperApp%20Research/time_space/notebooks/sim_mnl.ipynb#W3sdnNjb2RlLXJlbW90ZQ%3D%3D?line=7'>8</a>\u001b[0m            beta[\u001b[39m2\u001b[39m] \u001b[39m*\u001b[39m travel\u001b[39m.\u001b[39mcost \u001b[39m+\u001b[39m\n\u001b[0;32m   (...)\u001b[0m\n\u001b[1;32m     <a href='vscode-notebook-cell://wsl%2Bubuntu-22.04/home/peminumyakult/Documents/Python%20Workplace/Project/SuperApp%20Research/time_space/notebooks/sim_mnl.ipynb#W3sdnNjb2RlLXJlbW90ZQ%3D%3D?line=11'>12</a>\u001b[0m            beta[\u001b[39m6\u001b[39m] \u001b[39m*\u001b[39m driver\u001b[39m.\u001b[39mexperience \u001b[39m+\u001b[39m\n\u001b[1;32m     <a href='vscode-notebook-cell://wsl%2Bubuntu-22.04/home/peminumyakult/Documents/Python%20Workplace/Project/SuperApp%20Research/time_space/notebooks/sim_mnl.ipynb#W3sdnNjb2RlLXJlbW90ZQ%3D%3D?line=12'>13</a>\u001b[0m            beta[\u001b[39m7\u001b[39m] \u001b[39m*\u001b[39m (driver\u001b[39m.\u001b[39mpreference \u001b[39m==\u001b[39m location_id))\n\u001b[1;32m     <a href='vscode-notebook-cell://wsl%2Bubuntu-22.04/home/peminumyakult/Documents/Python%20Workplace/Project/SuperApp%20Research/time_space/notebooks/sim_mnl.ipynb#W3sdnNjb2RlLXJlbW90ZQ%3D%3D?line=13'>14</a>\u001b[0m \u001b[39mreturn\u001b[39;00m utility\n",
      "File \u001b[0;32m~/anaconda3/envs/suapp/lib/python3.11/site-packages/pandas/core/frame.py:3887\u001b[0m, in \u001b[0;36mDataFrame.__getitem__\u001b[0;34m(self, key)\u001b[0m\n\u001b[1;32m   3885\u001b[0m \u001b[39m# Do we have a (boolean) 1d indexer?\u001b[39;00m\n\u001b[1;32m   3886\u001b[0m \u001b[39mif\u001b[39;00m com\u001b[39m.\u001b[39mis_bool_indexer(key):\n\u001b[0;32m-> 3887\u001b[0m     \u001b[39mreturn\u001b[39;00m \u001b[39mself\u001b[39m\u001b[39m.\u001b[39m_getitem_bool_array(key)\n\u001b[1;32m   3889\u001b[0m \u001b[39m# We are left with two options: a single key, and a collection of keys,\u001b[39;00m\n\u001b[1;32m   3890\u001b[0m \u001b[39m# We interpret tuples as collections only for non-MultiIndex\u001b[39;00m\n\u001b[1;32m   3891\u001b[0m is_single_key \u001b[39m=\u001b[39m \u001b[39misinstance\u001b[39m(key, \u001b[39mtuple\u001b[39m) \u001b[39mor\u001b[39;00m \u001b[39mnot\u001b[39;00m is_list_like(key)\n",
      "File \u001b[0;32m~/anaconda3/envs/suapp/lib/python3.11/site-packages/pandas/core/frame.py:3949\u001b[0m, in \u001b[0;36mDataFrame._getitem_bool_array\u001b[0;34m(self, key)\u001b[0m\n\u001b[1;32m   3946\u001b[0m     \u001b[39mreturn\u001b[39;00m \u001b[39mself\u001b[39m\u001b[39m.\u001b[39mcopy(deep\u001b[39m=\u001b[39m\u001b[39mNone\u001b[39;00m)\n\u001b[1;32m   3948\u001b[0m indexer \u001b[39m=\u001b[39m key\u001b[39m.\u001b[39mnonzero()[\u001b[39m0\u001b[39m]\n\u001b[0;32m-> 3949\u001b[0m \u001b[39mreturn\u001b[39;00m \u001b[39mself\u001b[39m\u001b[39m.\u001b[39m_take_with_is_copy(indexer, axis\u001b[39m=\u001b[39m\u001b[39m0\u001b[39m)\n",
      "File \u001b[0;32m~/anaconda3/envs/suapp/lib/python3.11/site-packages/pandas/core/generic.py:4088\u001b[0m, in \u001b[0;36mNDFrame._take_with_is_copy\u001b[0;34m(self, indices, axis)\u001b[0m\n\u001b[1;32m   4077\u001b[0m \u001b[39m@final\u001b[39m\n\u001b[1;32m   4078\u001b[0m \u001b[39mdef\u001b[39;00m \u001b[39m_take_with_is_copy\u001b[39m(\u001b[39mself\u001b[39m, indices, axis: Axis \u001b[39m=\u001b[39m \u001b[39m0\u001b[39m) \u001b[39m-\u001b[39m\u001b[39m>\u001b[39m Self:\n\u001b[1;32m   4079\u001b[0m \u001b[39m    \u001b[39m\u001b[39m\"\"\"\u001b[39;00m\n\u001b[1;32m   4080\u001b[0m \u001b[39m    Internal version of the `take` method that sets the `_is_copy`\u001b[39;00m\n\u001b[1;32m   4081\u001b[0m \u001b[39m    attribute to keep track of the parent dataframe (using in indexing\u001b[39;00m\n\u001b[0;32m   (...)\u001b[0m\n\u001b[1;32m   4086\u001b[0m \u001b[39m    See the docstring of `take` for full explanation of the parameters.\u001b[39;00m\n\u001b[1;32m   4087\u001b[0m \u001b[39m    \"\"\"\u001b[39;00m\n\u001b[0;32m-> 4088\u001b[0m     result \u001b[39m=\u001b[39m \u001b[39mself\u001b[39m\u001b[39m.\u001b[39mtake(indices\u001b[39m=\u001b[39mindices, axis\u001b[39m=\u001b[39maxis)\n\u001b[1;32m   4089\u001b[0m     \u001b[39m# Maybe set copy if we didn't actually change the index.\u001b[39;00m\n\u001b[1;32m   4090\u001b[0m     \u001b[39mif\u001b[39;00m \u001b[39mself\u001b[39m\u001b[39m.\u001b[39mndim \u001b[39m==\u001b[39m \u001b[39m2\u001b[39m \u001b[39mand\u001b[39;00m \u001b[39mnot\u001b[39;00m result\u001b[39m.\u001b[39m_get_axis(axis)\u001b[39m.\u001b[39mequals(\u001b[39mself\u001b[39m\u001b[39m.\u001b[39m_get_axis(axis)):\n",
      "File \u001b[0;32m~/anaconda3/envs/suapp/lib/python3.11/site-packages/pandas/core/generic.py:4068\u001b[0m, in \u001b[0;36mNDFrame.take\u001b[0;34m(self, indices, axis, **kwargs)\u001b[0m\n\u001b[1;32m   4063\u001b[0m     \u001b[39m# We can get here with a slice via DataFrame.__getitem__\u001b[39;00m\n\u001b[1;32m   4064\u001b[0m     indices \u001b[39m=\u001b[39m np\u001b[39m.\u001b[39marange(\n\u001b[1;32m   4065\u001b[0m         indices\u001b[39m.\u001b[39mstart, indices\u001b[39m.\u001b[39mstop, indices\u001b[39m.\u001b[39mstep, dtype\u001b[39m=\u001b[39mnp\u001b[39m.\u001b[39mintp\n\u001b[1;32m   4066\u001b[0m     )\n\u001b[0;32m-> 4068\u001b[0m new_data \u001b[39m=\u001b[39m \u001b[39mself\u001b[39m\u001b[39m.\u001b[39m_mgr\u001b[39m.\u001b[39mtake(\n\u001b[1;32m   4069\u001b[0m     indices,\n\u001b[1;32m   4070\u001b[0m     axis\u001b[39m=\u001b[39m\u001b[39mself\u001b[39m\u001b[39m.\u001b[39m_get_block_manager_axis(axis),\n\u001b[1;32m   4071\u001b[0m     verify\u001b[39m=\u001b[39m\u001b[39mTrue\u001b[39;00m,\n\u001b[1;32m   4072\u001b[0m )\n\u001b[1;32m   4073\u001b[0m \u001b[39mreturn\u001b[39;00m \u001b[39mself\u001b[39m\u001b[39m.\u001b[39m_constructor_from_mgr(new_data, axes\u001b[39m=\u001b[39mnew_data\u001b[39m.\u001b[39maxes)\u001b[39m.\u001b[39m__finalize__(\n\u001b[1;32m   4074\u001b[0m     \u001b[39mself\u001b[39m, method\u001b[39m=\u001b[39m\u001b[39m\"\u001b[39m\u001b[39mtake\u001b[39m\u001b[39m\"\u001b[39m\n\u001b[1;32m   4075\u001b[0m )\n",
      "File \u001b[0;32m~/anaconda3/envs/suapp/lib/python3.11/site-packages/pandas/core/internals/managers.py:877\u001b[0m, in \u001b[0;36mBaseBlockManager.take\u001b[0;34m(self, indexer, axis, verify)\u001b[0m\n\u001b[1;32m    874\u001b[0m indexer \u001b[39m=\u001b[39m maybe_convert_indices(indexer, n, verify\u001b[39m=\u001b[39mverify)\n\u001b[1;32m    876\u001b[0m new_labels \u001b[39m=\u001b[39m \u001b[39mself\u001b[39m\u001b[39m.\u001b[39maxes[axis]\u001b[39m.\u001b[39mtake(indexer)\n\u001b[0;32m--> 877\u001b[0m \u001b[39mreturn\u001b[39;00m \u001b[39mself\u001b[39m\u001b[39m.\u001b[39mreindex_indexer(\n\u001b[1;32m    878\u001b[0m     new_axis\u001b[39m=\u001b[39mnew_labels,\n\u001b[1;32m    879\u001b[0m     indexer\u001b[39m=\u001b[39mindexer,\n\u001b[1;32m    880\u001b[0m     axis\u001b[39m=\u001b[39maxis,\n\u001b[1;32m    881\u001b[0m     allow_dups\u001b[39m=\u001b[39m\u001b[39mTrue\u001b[39;00m,\n\u001b[1;32m    882\u001b[0m     copy\u001b[39m=\u001b[39m\u001b[39mNone\u001b[39;00m,\n\u001b[1;32m    883\u001b[0m )\n",
      "File \u001b[0;32m~/anaconda3/envs/suapp/lib/python3.11/site-packages/pandas/core/internals/managers.py:670\u001b[0m, in \u001b[0;36mBaseBlockManager.reindex_indexer\u001b[0;34m(self, new_axis, indexer, axis, fill_value, allow_dups, copy, only_slice, use_na_proxy)\u001b[0m\n\u001b[1;32m    663\u001b[0m     new_blocks \u001b[39m=\u001b[39m \u001b[39mself\u001b[39m\u001b[39m.\u001b[39m_slice_take_blocks_ax0(\n\u001b[1;32m    664\u001b[0m         indexer,\n\u001b[1;32m    665\u001b[0m         fill_value\u001b[39m=\u001b[39mfill_value,\n\u001b[1;32m    666\u001b[0m         only_slice\u001b[39m=\u001b[39monly_slice,\n\u001b[1;32m    667\u001b[0m         use_na_proxy\u001b[39m=\u001b[39muse_na_proxy,\n\u001b[1;32m    668\u001b[0m     )\n\u001b[1;32m    669\u001b[0m \u001b[39melse\u001b[39;00m:\n\u001b[0;32m--> 670\u001b[0m     new_blocks \u001b[39m=\u001b[39m [\n\u001b[1;32m    671\u001b[0m         blk\u001b[39m.\u001b[39mtake_nd(\n\u001b[1;32m    672\u001b[0m             indexer,\n\u001b[1;32m    673\u001b[0m             axis\u001b[39m=\u001b[39m\u001b[39m1\u001b[39m,\n\u001b[1;32m    674\u001b[0m             fill_value\u001b[39m=\u001b[39m(\n\u001b[1;32m    675\u001b[0m                 fill_value \u001b[39mif\u001b[39;00m fill_value \u001b[39mis\u001b[39;00m \u001b[39mnot\u001b[39;00m \u001b[39mNone\u001b[39;00m \u001b[39melse\u001b[39;00m blk\u001b[39m.\u001b[39mfill_value\n\u001b[1;32m    676\u001b[0m             ),\n\u001b[1;32m    677\u001b[0m         )\n\u001b[1;32m    678\u001b[0m         \u001b[39mfor\u001b[39;00m blk \u001b[39min\u001b[39;00m \u001b[39mself\u001b[39m\u001b[39m.\u001b[39mblocks\n\u001b[1;32m    679\u001b[0m     ]\n\u001b[1;32m    681\u001b[0m new_axes \u001b[39m=\u001b[39m \u001b[39mlist\u001b[39m(\u001b[39mself\u001b[39m\u001b[39m.\u001b[39maxes)\n\u001b[1;32m    682\u001b[0m new_axes[axis] \u001b[39m=\u001b[39m new_axis\n",
      "File \u001b[0;32m~/anaconda3/envs/suapp/lib/python3.11/site-packages/pandas/core/internals/managers.py:671\u001b[0m, in \u001b[0;36m<listcomp>\u001b[0;34m(.0)\u001b[0m\n\u001b[1;32m    663\u001b[0m     new_blocks \u001b[39m=\u001b[39m \u001b[39mself\u001b[39m\u001b[39m.\u001b[39m_slice_take_blocks_ax0(\n\u001b[1;32m    664\u001b[0m         indexer,\n\u001b[1;32m    665\u001b[0m         fill_value\u001b[39m=\u001b[39mfill_value,\n\u001b[1;32m    666\u001b[0m         only_slice\u001b[39m=\u001b[39monly_slice,\n\u001b[1;32m    667\u001b[0m         use_na_proxy\u001b[39m=\u001b[39muse_na_proxy,\n\u001b[1;32m    668\u001b[0m     )\n\u001b[1;32m    669\u001b[0m \u001b[39melse\u001b[39;00m:\n\u001b[1;32m    670\u001b[0m     new_blocks \u001b[39m=\u001b[39m [\n\u001b[0;32m--> 671\u001b[0m         blk\u001b[39m.\u001b[39mtake_nd(\n\u001b[1;32m    672\u001b[0m             indexer,\n\u001b[1;32m    673\u001b[0m             axis\u001b[39m=\u001b[39m\u001b[39m1\u001b[39m,\n\u001b[1;32m    674\u001b[0m             fill_value\u001b[39m=\u001b[39m(\n\u001b[1;32m    675\u001b[0m                 fill_value \u001b[39mif\u001b[39;00m fill_value \u001b[39mis\u001b[39;00m \u001b[39mnot\u001b[39;00m \u001b[39mNone\u001b[39;00m \u001b[39melse\u001b[39;00m blk\u001b[39m.\u001b[39mfill_value\n\u001b[1;32m    676\u001b[0m             ),\n\u001b[1;32m    677\u001b[0m         )\n\u001b[1;32m    678\u001b[0m         \u001b[39mfor\u001b[39;00m blk \u001b[39min\u001b[39;00m \u001b[39mself\u001b[39m\u001b[39m.\u001b[39mblocks\n\u001b[1;32m    679\u001b[0m     ]\n\u001b[1;32m    681\u001b[0m new_axes \u001b[39m=\u001b[39m \u001b[39mlist\u001b[39m(\u001b[39mself\u001b[39m\u001b[39m.\u001b[39maxes)\n\u001b[1;32m    682\u001b[0m new_axes[axis] \u001b[39m=\u001b[39m new_axis\n",
      "File \u001b[0;32m~/anaconda3/envs/suapp/lib/python3.11/site-packages/pandas/core/internals/blocks.py:1061\u001b[0m, in \u001b[0;36mBlock.take_nd\u001b[0;34m(self, indexer, axis, new_mgr_locs, fill_value)\u001b[0m\n\u001b[1;32m   1058\u001b[0m     allow_fill \u001b[39m=\u001b[39m \u001b[39mTrue\u001b[39;00m\n\u001b[1;32m   1060\u001b[0m \u001b[39m# Note: algos.take_nd has upcast logic similar to coerce_to_target_dtype\u001b[39;00m\n\u001b[0;32m-> 1061\u001b[0m new_values \u001b[39m=\u001b[39m algos\u001b[39m.\u001b[39mtake_nd(\n\u001b[1;32m   1062\u001b[0m     values, indexer, axis\u001b[39m=\u001b[39maxis, allow_fill\u001b[39m=\u001b[39mallow_fill, fill_value\u001b[39m=\u001b[39mfill_value\n\u001b[1;32m   1063\u001b[0m )\n\u001b[1;32m   1065\u001b[0m \u001b[39m# Called from three places in managers, all of which satisfy\u001b[39;00m\n\u001b[1;32m   1066\u001b[0m \u001b[39m#  these assertions\u001b[39;00m\n\u001b[1;32m   1067\u001b[0m \u001b[39mif\u001b[39;00m \u001b[39misinstance\u001b[39m(\u001b[39mself\u001b[39m, ExtensionBlock):\n\u001b[1;32m   1068\u001b[0m     \u001b[39m# NB: in this case, the 'axis' kwarg will be ignored in the\u001b[39;00m\n\u001b[1;32m   1069\u001b[0m     \u001b[39m#  algos.take_nd call above.\u001b[39;00m\n",
      "File \u001b[0;32m~/anaconda3/envs/suapp/lib/python3.11/site-packages/pandas/core/array_algos/take.py:118\u001b[0m, in \u001b[0;36mtake_nd\u001b[0;34m(arr, indexer, axis, fill_value, allow_fill)\u001b[0m\n\u001b[1;32m    115\u001b[0m     \u001b[39mreturn\u001b[39;00m arr\u001b[39m.\u001b[39mtake(indexer, fill_value\u001b[39m=\u001b[39mfill_value, allow_fill\u001b[39m=\u001b[39mallow_fill)\n\u001b[1;32m    117\u001b[0m arr \u001b[39m=\u001b[39m np\u001b[39m.\u001b[39masarray(arr)\n\u001b[0;32m--> 118\u001b[0m \u001b[39mreturn\u001b[39;00m _take_nd_ndarray(arr, indexer, axis, fill_value, allow_fill)\n",
      "File \u001b[0;32m~/anaconda3/envs/suapp/lib/python3.11/site-packages/pandas/core/array_algos/take.py:134\u001b[0m, in \u001b[0;36m_take_nd_ndarray\u001b[0;34m(arr, indexer, axis, fill_value, allow_fill)\u001b[0m\n\u001b[1;32m    131\u001b[0m \u001b[39melse\u001b[39;00m:\n\u001b[1;32m    132\u001b[0m     indexer \u001b[39m=\u001b[39m ensure_platform_int(indexer)\n\u001b[0;32m--> 134\u001b[0m dtype, fill_value, mask_info \u001b[39m=\u001b[39m _take_preprocess_indexer_and_fill_value(\n\u001b[1;32m    135\u001b[0m     arr, indexer, fill_value, allow_fill\n\u001b[1;32m    136\u001b[0m )\n\u001b[1;32m    138\u001b[0m flip_order \u001b[39m=\u001b[39m \u001b[39mFalse\u001b[39;00m\n\u001b[1;32m    139\u001b[0m \u001b[39mif\u001b[39;00m arr\u001b[39m.\u001b[39mndim \u001b[39m==\u001b[39m \u001b[39m2\u001b[39m \u001b[39mand\u001b[39;00m arr\u001b[39m.\u001b[39mflags\u001b[39m.\u001b[39mf_contiguous:\n",
      "File \u001b[0;32m~/anaconda3/envs/suapp/lib/python3.11/site-packages/pandas/core/array_algos/take.py:580\u001b[0m, in \u001b[0;36m_take_preprocess_indexer_and_fill_value\u001b[0;34m(arr, indexer, fill_value, allow_fill, mask)\u001b[0m\n\u001b[1;32m    576\u001b[0m     mask_info \u001b[39m=\u001b[39m \u001b[39mNone\u001b[39;00m, \u001b[39mFalse\u001b[39;00m\n\u001b[1;32m    577\u001b[0m \u001b[39melse\u001b[39;00m:\n\u001b[1;32m    578\u001b[0m     \u001b[39m# check for promotion based on types only (do this first because\u001b[39;00m\n\u001b[1;32m    579\u001b[0m     \u001b[39m# it's faster than computing a mask)\u001b[39;00m\n\u001b[0;32m--> 580\u001b[0m     dtype, fill_value \u001b[39m=\u001b[39m maybe_promote(arr\u001b[39m.\u001b[39mdtype, fill_value)\n\u001b[1;32m    581\u001b[0m     \u001b[39mif\u001b[39;00m dtype \u001b[39m!=\u001b[39m arr\u001b[39m.\u001b[39mdtype:\n\u001b[1;32m    582\u001b[0m         \u001b[39m# check if promotion is actually required based on indexer\u001b[39;00m\n\u001b[1;32m    583\u001b[0m         \u001b[39mif\u001b[39;00m mask \u001b[39mis\u001b[39;00m \u001b[39mnot\u001b[39;00m \u001b[39mNone\u001b[39;00m:\n",
      "File \u001b[0;32m~/anaconda3/envs/suapp/lib/python3.11/site-packages/pandas/core/dtypes/cast.py:582\u001b[0m, in \u001b[0;36mmaybe_promote\u001b[0;34m(dtype, fill_value)\u001b[0m\n\u001b[1;32m    579\u001b[0m         \u001b[39mexcept\u001b[39;00m \u001b[39mTypeError\u001b[39;00m:\n\u001b[1;32m    580\u001b[0m             \u001b[39mpass\u001b[39;00m\n\u001b[0;32m--> 582\u001b[0m     fill_value \u001b[39m=\u001b[39m _canonical_nans\u001b[39m.\u001b[39mget(\u001b[39mtype\u001b[39m(fill_value), fill_value)\n\u001b[1;32m    584\u001b[0m \u001b[39m# for performance, we are using a cached version of the actual implementation\u001b[39;00m\n\u001b[1;32m    585\u001b[0m \u001b[39m# of the function in _maybe_promote. However, this doesn't always work (in case\u001b[39;00m\n\u001b[1;32m    586\u001b[0m \u001b[39m# of non-hashable arguments), so we fallback to the actual implementation if needed\u001b[39;00m\n\u001b[1;32m    587\u001b[0m \u001b[39mtry\u001b[39;00m:\n\u001b[1;32m    588\u001b[0m     \u001b[39m# error: Argument 3 to \"__call__\" of \"_lru_cache_wrapper\" has incompatible type\u001b[39;00m\n\u001b[1;32m    589\u001b[0m     \u001b[39m# \"Type[Any]\"; expected \"Hashable\"  [arg-type]\u001b[39;00m\n",
      "\u001b[0;31mKeyboardInterrupt\u001b[0m: "
     ]
    }
   ],
   "source": [
    "initial_beta = np.zeros(8)\n",
    "result = minimize(log_likelihood, initial_beta, method='Nelder-Mead')\n",
    "\n",
    "# Menghitung Statistik Tambahan\n",
    "L0 = log_likelihood(np.zeros_like(initial_beta))\n",
    "LL = result.fun\n",
    "k = len(result.x)\n",
    "rho_square = 1 - (LL / L0)\n",
    "rho_square_adj = 1 - ((LL - k) / L0)\n",
    "std_err = np.sqrt(np.diag(np.linalg.inv(result.hess_inv)))\n",
    "t_stats = result.x / std_err\n",
    "\n",
    "# Menampilkan Hasil\n",
    "print(\"Optimized Beta Parameters:\", result.x)\n",
    "print(\"Log-Likelihood:\", LL)\n",
    "print(\"L(0):\", L0)\n",
    "print(\"Rho-Square:\", rho_square)\n",
    "print(\"Adjusted Rho-Square:\", rho_square_adj)\n",
    "print(\"T-Statistic:\", t_stats)"
   ]
  }
 ],
 "metadata": {
  "kernelspec": {
   "display_name": "suapp",
   "language": "python",
   "name": "python3"
  },
  "language_info": {
   "codemirror_mode": {
    "name": "ipython",
    "version": 3
   },
   "file_extension": ".py",
   "mimetype": "text/x-python",
   "name": "python",
   "nbconvert_exporter": "python",
   "pygments_lexer": "ipython3",
   "version": "3.11.4"
  }
 },
 "nbformat": 4,
 "nbformat_minor": 2
}
