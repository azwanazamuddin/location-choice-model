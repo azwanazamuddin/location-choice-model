{
 "cells": [
  {
   "cell_type": "code",
   "execution_count": 1,
   "metadata": {},
   "outputs": [],
   "source": [
    "import numpy as np\n",
    "import pandas as pd\n",
    "from scipy.optimize import minimize\n",
    "\n",
    "np.random.seed(0)\n",
    "n_drivers = 100  # sampel pengemudi\n",
    "n_locations = 150  # sampel kelurahan\n",
    "\n",
    "# Data Pengemudi\n",
    "drivers_data = {\n",
    "    \"experience\": np.random.randint(1, 10, n_drivers),\n",
    "    \"preference\": np.random.randint(0, n_locations, n_drivers)\n",
    "}\n",
    "\n",
    "# Data Lokasi\n",
    "locations_data = {\n",
    "    \"demand_level\": np.random.uniform(1, 5, n_locations),\n",
    "    \"competition\": np.random.uniform(1, 3, n_locations),\n",
    "    \"safety\": np.random.uniform(1, 5, n_locations)\n",
    "}\n",
    "\n",
    "# Data Perjalanan\n",
    "travel_data = np.zeros((n_drivers, n_locations, 3))\n",
    "for i in range(n_drivers):\n",
    "    for j in range(n_locations):\n",
    "        distance = np.abs(j - drivers_data['preference'][i]) + np.random.uniform(0, 5)\n",
    "        time = distance / np.random.uniform(1, 3)\n",
    "        cost = distance * np.random.uniform(0.5, 1.5)\n",
    "        travel_data[i, j] = [distance, time, cost]"
   ]
  },
  {
   "cell_type": "code",
   "execution_count": 8,
   "metadata": {},
   "outputs": [
    {
     "data": {
      "text/plain": [
       "(           experience  preference\n",
       " driver_id                        \n",
       " 0                   6           2\n",
       " 1                   1           3\n",
       " 2                   4           3\n",
       " 3                   4          18\n",
       " 4                   8          14,\n",
       "              demand_level  competition    safety\n",
       " location_id                                     \n",
       " 0                2.680301     1.100740  4.905618\n",
       " 1                1.202352     2.398196  3.470632\n",
       " 2                2.461984     2.984793  3.169995\n",
       " 3                1.066512     1.534525  4.418454\n",
       " 4                1.922969     2.358181  3.975338,\n",
       "    distance      time      cost  driver_id  location_id\n",
       " 0  4.701806  1.696989  5.547564          0            0\n",
       " 1  3.933634  1.526156  2.869358          0            1\n",
       " 2  2.254770  0.773532  2.191076          0            2\n",
       " 3  3.114777  1.265715  3.570358          0            3\n",
       " 4  3.745833  1.432353  4.671351          0            4)"
      ]
     },
     "execution_count": 8,
     "metadata": {},
     "output_type": "execute_result"
    }
   ],
   "source": [
    "# Membuat data sintetis yang lebih realistis untuk model pilihan tujuan\n",
    "\n",
    "# Menetapkan seed untuk konsistensi hasil\n",
    "np.random.seed(0)\n",
    "\n",
    "# Jumlah pengemudi dan kelurahan\n",
    "n_drivers = 100  # Meningkatkan jumlah pengemudi\n",
    "n_locations = 20  # Mengurangi jumlah lokasi untuk lebih memfokuskan pilihan\n",
    "\n",
    "# Data Pengemudi\n",
    "drivers_data = {\n",
    "    \"experience\": np.random.randint(1, 10, n_drivers),\n",
    "    \"preference\": np.random.randint(0, n_locations, n_drivers)\n",
    "}\n",
    "\n",
    "# Data Lokasi\n",
    "locations_data = {\n",
    "    \"demand_level\": np.random.uniform(1, 5, n_locations),\n",
    "    \"competition\": np.random.uniform(1, 3, n_locations),\n",
    "    \"safety\": np.random.uniform(1, 5, n_locations)\n",
    "}\n",
    "\n",
    "# Membuat distribusi pilihan yang lebih realistis\n",
    "# Jarak: Lebih pendek untuk lokasi yang lebih disukai, dengan variasi acak\n",
    "# Waktu dan Biaya: Berkorelasi dengan jarak\n",
    "travel_data = np.zeros((n_drivers, n_locations, 3))\n",
    "for i in range(n_drivers):\n",
    "    for j in range(n_locations):\n",
    "        # Membuat beberapa lokasi lebih populer\n",
    "        popularity_factor = np.random.choice([0.5, 1, 1.5, 2], p=[0.1, 0.5, 0.3, 0.1])\n",
    "        distance = np.abs(j - drivers_data['preference'][i]) * popularity_factor + np.random.uniform(1, 5)\n",
    "        time = distance / np.random.uniform(1, 3)\n",
    "        cost = distance * np.random.uniform(0.5, 1.5)\n",
    "        travel_data[i, j] = [distance, time, cost]\n",
    "\n",
    "# Mengonversi data ke DataFrame pandas\n",
    "drivers_df = pd.DataFrame(drivers_data).set_index(pd.Index(range(n_drivers), name='driver_id'))\n",
    "locations_df = pd.DataFrame(locations_data).set_index(pd.Index(range(n_locations), name='location_id'))\n",
    "travel_df = pd.DataFrame(travel_data.reshape(n_drivers * n_locations, 3), columns=['distance', 'time', 'cost'])\n",
    "travel_df['driver_id'] = np.repeat(range(n_drivers), n_locations)\n",
    "travel_df['location_id'] = np.tile(range(n_locations), n_drivers)\n",
    "\n",
    "drivers_df.head(), locations_df.head(), travel_df.head()"
   ]
  },
  {
   "cell_type": "code",
   "execution_count": 2,
   "metadata": {},
   "outputs": [],
   "source": [
    "# DataFrame Pengemudi\n",
    "drivers_df = pd.DataFrame(drivers_data)\n",
    "drivers_df['driver_id'] = range(n_drivers)\n",
    "drivers_df = drivers_df.set_index('driver_id')\n",
    "\n",
    "# DataFrame Lokasi\n",
    "locations_df = pd.DataFrame(locations_data)\n",
    "locations_df['location_id'] = range(n_locations)\n",
    "locations_df = locations_df.set_index('location_id')\n",
    "\n",
    "# DataFrame Data Perjalanan\n",
    "travel_data_reshaped = travel_data.reshape(n_drivers * n_locations, 3)\n",
    "travel_df = pd.DataFrame(travel_data_reshaped, columns=['distance', 'time', 'cost'])\n",
    "travel_df['driver_id'] = np.repeat(range(n_drivers), n_locations)\n",
    "travel_df['location_id'] = np.tile(range(n_locations), n_drivers)"
   ]
  },
  {
   "cell_type": "code",
   "execution_count": 3,
   "metadata": {},
   "outputs": [],
   "source": [
    "def utility_function(driver_id, location_id, beta):\n",
    "    driver = drivers_df.loc[driver_id]\n",
    "    location = locations_df.loc[location_id]\n",
    "    travel = travel_df[(travel_df.driver_id == driver_id) & (travel_df.location_id == location_id)].iloc[0]\n",
    "    \n",
    "    utility = (beta[0] * travel.distance +\n",
    "               beta[1] * travel.time +\n",
    "               beta[2] * travel.cost +\n",
    "               beta[3] * location.demand_level +\n",
    "               beta[4] * location.competition +\n",
    "               beta[5] * location.safety +\n",
    "               beta[6] * driver.experience +\n",
    "               beta[7] * (driver.preference == location_id))\n",
    "    return utility"
   ]
  },
  {
   "cell_type": "code",
   "execution_count": 4,
   "metadata": {},
   "outputs": [],
   "source": [
    "def log_likelihood(beta):\n",
    "    log_likelihood = 0\n",
    "    for driver_id in range(n_drivers):\n",
    "        utilities = np.array([utility_function(driver_id, location_id, beta) for location_id in range(n_locations)])\n",
    "        log_likelihood += -np.log(np.sum(np.exp(utilities - np.max(utilities))))  # Stabilitas numerik\n",
    "    return log_likelihood"
   ]
  },
  {
   "cell_type": "code",
   "execution_count": 9,
   "metadata": {},
   "outputs": [
    {
     "ename": "KeyboardInterrupt",
     "evalue": "",
     "output_type": "error",
     "traceback": [
      "\u001b[0;31m---------------------------------------------------------------------------\u001b[0m",
      "\u001b[0;31mKeyboardInterrupt\u001b[0m                         Traceback (most recent call last)",
      "\u001b[1;32m/home/superapp-research/Documents/Super App Research/driver-side/location-choice-model/notebooks/sim_mnl.ipynb Cell 6\u001b[0m line \u001b[0;36m2\n\u001b[1;32m      <a href='vscode-notebook-cell://wsl%2Bubuntu-22.04/home/superapp-research/Documents/Super%20App%20Research/driver-side/location-choice-model/notebooks/sim_mnl.ipynb#W6sdnNjb2RlLXJlbW90ZQ%3D%3D?line=0'>1</a>\u001b[0m initial_beta \u001b[39m=\u001b[39m np\u001b[39m.\u001b[39mzeros(\u001b[39m8\u001b[39m)\n\u001b[0;32m----> <a href='vscode-notebook-cell://wsl%2Bubuntu-22.04/home/superapp-research/Documents/Super%20App%20Research/driver-side/location-choice-model/notebooks/sim_mnl.ipynb#W6sdnNjb2RlLXJlbW90ZQ%3D%3D?line=1'>2</a>\u001b[0m result \u001b[39m=\u001b[39m minimize(log_likelihood, initial_beta, method\u001b[39m=\u001b[39;49m\u001b[39m'\u001b[39;49m\u001b[39mNelder-Mead\u001b[39;49m\u001b[39m'\u001b[39;49m)\n",
      "File \u001b[0;32m~/anaconda3/envs/suapp/lib/python3.11/site-packages/scipy/optimize/_minimize.py:684\u001b[0m, in \u001b[0;36mminimize\u001b[0;34m(fun, x0, args, method, jac, hess, hessp, bounds, constraints, tol, callback, options)\u001b[0m\n\u001b[1;32m    681\u001b[0m     bounds \u001b[39m=\u001b[39m standardize_bounds(bounds, x0, meth)\n\u001b[1;32m    683\u001b[0m \u001b[39mif\u001b[39;00m meth \u001b[39m==\u001b[39m \u001b[39m'\u001b[39m\u001b[39mnelder-mead\u001b[39m\u001b[39m'\u001b[39m:\n\u001b[0;32m--> 684\u001b[0m     res \u001b[39m=\u001b[39m _minimize_neldermead(fun, x0, args, callback, bounds\u001b[39m=\u001b[39;49mbounds,\n\u001b[1;32m    685\u001b[0m                                \u001b[39m*\u001b[39;49m\u001b[39m*\u001b[39;49moptions)\n\u001b[1;32m    686\u001b[0m \u001b[39melif\u001b[39;00m meth \u001b[39m==\u001b[39m \u001b[39m'\u001b[39m\u001b[39mpowell\u001b[39m\u001b[39m'\u001b[39m:\n\u001b[1;32m    687\u001b[0m     res \u001b[39m=\u001b[39m _minimize_powell(fun, x0, args, callback, bounds, \u001b[39m*\u001b[39m\u001b[39m*\u001b[39moptions)\n",
      "File \u001b[0;32m~/anaconda3/envs/suapp/lib/python3.11/site-packages/scipy/optimize/_optimize.py:870\u001b[0m, in \u001b[0;36m_minimize_neldermead\u001b[0;34m(func, x0, args, callback, maxiter, maxfev, disp, return_all, initial_simplex, xatol, fatol, adaptive, bounds, **unknown_options)\u001b[0m\n\u001b[1;32m    868\u001b[0m \u001b[39mif\u001b[39;00m bounds \u001b[39mis\u001b[39;00m \u001b[39mnot\u001b[39;00m \u001b[39mNone\u001b[39;00m:\n\u001b[1;32m    869\u001b[0m     xr \u001b[39m=\u001b[39m np\u001b[39m.\u001b[39mclip(xr, lower_bound, upper_bound)\n\u001b[0;32m--> 870\u001b[0m fxr \u001b[39m=\u001b[39m func(xr)\n\u001b[1;32m    871\u001b[0m doshrink \u001b[39m=\u001b[39m \u001b[39m0\u001b[39m\n\u001b[1;32m    873\u001b[0m \u001b[39mif\u001b[39;00m fxr \u001b[39m<\u001b[39m fsim[\u001b[39m0\u001b[39m]:\n",
      "File \u001b[0;32m~/anaconda3/envs/suapp/lib/python3.11/site-packages/scipy/optimize/_optimize.py:569\u001b[0m, in \u001b[0;36m_wrap_scalar_function_maxfun_validation.<locals>.function_wrapper\u001b[0;34m(x, *wrapper_args)\u001b[0m\n\u001b[1;32m    567\u001b[0m ncalls[\u001b[39m0\u001b[39m] \u001b[39m+\u001b[39m\u001b[39m=\u001b[39m \u001b[39m1\u001b[39m\n\u001b[1;32m    568\u001b[0m \u001b[39m# A copy of x is sent to the user function (gh13740)\u001b[39;00m\n\u001b[0;32m--> 569\u001b[0m fx \u001b[39m=\u001b[39m function(np\u001b[39m.\u001b[39;49mcopy(x), \u001b[39m*\u001b[39;49m(wrapper_args \u001b[39m+\u001b[39;49m args))\n\u001b[1;32m    570\u001b[0m \u001b[39m# Ideally, we'd like to a have a true scalar returned from f(x). For\u001b[39;00m\n\u001b[1;32m    571\u001b[0m \u001b[39m# backwards-compatibility, also allow np.array([1.3]),\u001b[39;00m\n\u001b[1;32m    572\u001b[0m \u001b[39m# np.array([[1.3]]) etc.\u001b[39;00m\n\u001b[1;32m    573\u001b[0m \u001b[39mif\u001b[39;00m \u001b[39mnot\u001b[39;00m np\u001b[39m.\u001b[39misscalar(fx):\n",
      "\u001b[1;32m/home/superapp-research/Documents/Super App Research/driver-side/location-choice-model/notebooks/sim_mnl.ipynb Cell 6\u001b[0m line \u001b[0;36m4\n\u001b[1;32m      <a href='vscode-notebook-cell://wsl%2Bubuntu-22.04/home/superapp-research/Documents/Super%20App%20Research/driver-side/location-choice-model/notebooks/sim_mnl.ipynb#W6sdnNjb2RlLXJlbW90ZQ%3D%3D?line=1'>2</a>\u001b[0m log_likelihood \u001b[39m=\u001b[39m \u001b[39m0\u001b[39m\n\u001b[1;32m      <a href='vscode-notebook-cell://wsl%2Bubuntu-22.04/home/superapp-research/Documents/Super%20App%20Research/driver-side/location-choice-model/notebooks/sim_mnl.ipynb#W6sdnNjb2RlLXJlbW90ZQ%3D%3D?line=2'>3</a>\u001b[0m \u001b[39mfor\u001b[39;00m driver_id \u001b[39min\u001b[39;00m \u001b[39mrange\u001b[39m(n_drivers):\n\u001b[0;32m----> <a href='vscode-notebook-cell://wsl%2Bubuntu-22.04/home/superapp-research/Documents/Super%20App%20Research/driver-side/location-choice-model/notebooks/sim_mnl.ipynb#W6sdnNjb2RlLXJlbW90ZQ%3D%3D?line=3'>4</a>\u001b[0m     utilities \u001b[39m=\u001b[39m np\u001b[39m.\u001b[39marray([utility_function(driver_id, location_id, beta) \u001b[39mfor\u001b[39;49;00m location_id \u001b[39min\u001b[39;49;00m \u001b[39mrange\u001b[39;49m(n_locations)])\n\u001b[1;32m      <a href='vscode-notebook-cell://wsl%2Bubuntu-22.04/home/superapp-research/Documents/Super%20App%20Research/driver-side/location-choice-model/notebooks/sim_mnl.ipynb#W6sdnNjb2RlLXJlbW90ZQ%3D%3D?line=4'>5</a>\u001b[0m     log_likelihood \u001b[39m+\u001b[39m\u001b[39m=\u001b[39m \u001b[39m-\u001b[39mnp\u001b[39m.\u001b[39mlog(np\u001b[39m.\u001b[39msum(np\u001b[39m.\u001b[39mexp(utilities \u001b[39m-\u001b[39m np\u001b[39m.\u001b[39mmax(utilities))))  \u001b[39m# Stabilitas numerik\u001b[39;00m\n\u001b[1;32m      <a href='vscode-notebook-cell://wsl%2Bubuntu-22.04/home/superapp-research/Documents/Super%20App%20Research/driver-side/location-choice-model/notebooks/sim_mnl.ipynb#W6sdnNjb2RlLXJlbW90ZQ%3D%3D?line=5'>6</a>\u001b[0m \u001b[39mreturn\u001b[39;00m log_likelihood\n",
      "\u001b[1;32m/home/superapp-research/Documents/Super App Research/driver-side/location-choice-model/notebooks/sim_mnl.ipynb Cell 6\u001b[0m line \u001b[0;36m4\n\u001b[1;32m      <a href='vscode-notebook-cell://wsl%2Bubuntu-22.04/home/superapp-research/Documents/Super%20App%20Research/driver-side/location-choice-model/notebooks/sim_mnl.ipynb#W6sdnNjb2RlLXJlbW90ZQ%3D%3D?line=1'>2</a>\u001b[0m log_likelihood \u001b[39m=\u001b[39m \u001b[39m0\u001b[39m\n\u001b[1;32m      <a href='vscode-notebook-cell://wsl%2Bubuntu-22.04/home/superapp-research/Documents/Super%20App%20Research/driver-side/location-choice-model/notebooks/sim_mnl.ipynb#W6sdnNjb2RlLXJlbW90ZQ%3D%3D?line=2'>3</a>\u001b[0m \u001b[39mfor\u001b[39;00m driver_id \u001b[39min\u001b[39;00m \u001b[39mrange\u001b[39m(n_drivers):\n\u001b[0;32m----> <a href='vscode-notebook-cell://wsl%2Bubuntu-22.04/home/superapp-research/Documents/Super%20App%20Research/driver-side/location-choice-model/notebooks/sim_mnl.ipynb#W6sdnNjb2RlLXJlbW90ZQ%3D%3D?line=3'>4</a>\u001b[0m     utilities \u001b[39m=\u001b[39m np\u001b[39m.\u001b[39marray([utility_function(driver_id, location_id, beta) \u001b[39mfor\u001b[39;00m location_id \u001b[39min\u001b[39;00m \u001b[39mrange\u001b[39m(n_locations)])\n\u001b[1;32m      <a href='vscode-notebook-cell://wsl%2Bubuntu-22.04/home/superapp-research/Documents/Super%20App%20Research/driver-side/location-choice-model/notebooks/sim_mnl.ipynb#W6sdnNjb2RlLXJlbW90ZQ%3D%3D?line=4'>5</a>\u001b[0m     log_likelihood \u001b[39m+\u001b[39m\u001b[39m=\u001b[39m \u001b[39m-\u001b[39mnp\u001b[39m.\u001b[39mlog(np\u001b[39m.\u001b[39msum(np\u001b[39m.\u001b[39mexp(utilities \u001b[39m-\u001b[39m np\u001b[39m.\u001b[39mmax(utilities))))  \u001b[39m# Stabilitas numerik\u001b[39;00m\n\u001b[1;32m      <a href='vscode-notebook-cell://wsl%2Bubuntu-22.04/home/superapp-research/Documents/Super%20App%20Research/driver-side/location-choice-model/notebooks/sim_mnl.ipynb#W6sdnNjb2RlLXJlbW90ZQ%3D%3D?line=5'>6</a>\u001b[0m \u001b[39mreturn\u001b[39;00m log_likelihood\n",
      "\u001b[1;32m/home/superapp-research/Documents/Super App Research/driver-side/location-choice-model/notebooks/sim_mnl.ipynb Cell 6\u001b[0m line \u001b[0;36m4\n\u001b[1;32m      <a href='vscode-notebook-cell://wsl%2Bubuntu-22.04/home/superapp-research/Documents/Super%20App%20Research/driver-side/location-choice-model/notebooks/sim_mnl.ipynb#W6sdnNjb2RlLXJlbW90ZQ%3D%3D?line=1'>2</a>\u001b[0m driver \u001b[39m=\u001b[39m drivers_df\u001b[39m.\u001b[39mloc[driver_id]\n\u001b[1;32m      <a href='vscode-notebook-cell://wsl%2Bubuntu-22.04/home/superapp-research/Documents/Super%20App%20Research/driver-side/location-choice-model/notebooks/sim_mnl.ipynb#W6sdnNjb2RlLXJlbW90ZQ%3D%3D?line=2'>3</a>\u001b[0m location \u001b[39m=\u001b[39m locations_df\u001b[39m.\u001b[39mloc[location_id]\n\u001b[0;32m----> <a href='vscode-notebook-cell://wsl%2Bubuntu-22.04/home/superapp-research/Documents/Super%20App%20Research/driver-side/location-choice-model/notebooks/sim_mnl.ipynb#W6sdnNjb2RlLXJlbW90ZQ%3D%3D?line=3'>4</a>\u001b[0m travel \u001b[39m=\u001b[39m travel_df[(travel_df\u001b[39m.\u001b[39;49mdriver_id \u001b[39m==\u001b[39;49m driver_id) \u001b[39m&\u001b[39;49m (travel_df\u001b[39m.\u001b[39;49mlocation_id \u001b[39m==\u001b[39;49m location_id)]\u001b[39m.\u001b[39miloc[\u001b[39m0\u001b[39m]\n\u001b[1;32m      <a href='vscode-notebook-cell://wsl%2Bubuntu-22.04/home/superapp-research/Documents/Super%20App%20Research/driver-side/location-choice-model/notebooks/sim_mnl.ipynb#W6sdnNjb2RlLXJlbW90ZQ%3D%3D?line=5'>6</a>\u001b[0m utility \u001b[39m=\u001b[39m (beta[\u001b[39m0\u001b[39m] \u001b[39m*\u001b[39m travel\u001b[39m.\u001b[39mdistance \u001b[39m+\u001b[39m\n\u001b[1;32m      <a href='vscode-notebook-cell://wsl%2Bubuntu-22.04/home/superapp-research/Documents/Super%20App%20Research/driver-side/location-choice-model/notebooks/sim_mnl.ipynb#W6sdnNjb2RlLXJlbW90ZQ%3D%3D?line=6'>7</a>\u001b[0m            beta[\u001b[39m1\u001b[39m] \u001b[39m*\u001b[39m travel\u001b[39m.\u001b[39mtime \u001b[39m+\u001b[39m\n\u001b[1;32m      <a href='vscode-notebook-cell://wsl%2Bubuntu-22.04/home/superapp-research/Documents/Super%20App%20Research/driver-side/location-choice-model/notebooks/sim_mnl.ipynb#W6sdnNjb2RlLXJlbW90ZQ%3D%3D?line=7'>8</a>\u001b[0m            beta[\u001b[39m2\u001b[39m] \u001b[39m*\u001b[39m travel\u001b[39m.\u001b[39mcost \u001b[39m+\u001b[39m\n\u001b[0;32m   (...)\u001b[0m\n\u001b[1;32m     <a href='vscode-notebook-cell://wsl%2Bubuntu-22.04/home/superapp-research/Documents/Super%20App%20Research/driver-side/location-choice-model/notebooks/sim_mnl.ipynb#W6sdnNjb2RlLXJlbW90ZQ%3D%3D?line=11'>12</a>\u001b[0m            beta[\u001b[39m6\u001b[39m] \u001b[39m*\u001b[39m driver\u001b[39m.\u001b[39mexperience \u001b[39m+\u001b[39m\n\u001b[1;32m     <a href='vscode-notebook-cell://wsl%2Bubuntu-22.04/home/superapp-research/Documents/Super%20App%20Research/driver-side/location-choice-model/notebooks/sim_mnl.ipynb#W6sdnNjb2RlLXJlbW90ZQ%3D%3D?line=12'>13</a>\u001b[0m            beta[\u001b[39m7\u001b[39m] \u001b[39m*\u001b[39m (driver\u001b[39m.\u001b[39mpreference \u001b[39m==\u001b[39m location_id))\n\u001b[1;32m     <a href='vscode-notebook-cell://wsl%2Bubuntu-22.04/home/superapp-research/Documents/Super%20App%20Research/driver-side/location-choice-model/notebooks/sim_mnl.ipynb#W6sdnNjb2RlLXJlbW90ZQ%3D%3D?line=13'>14</a>\u001b[0m \u001b[39mreturn\u001b[39;00m utility\n",
      "File \u001b[0;32m~/anaconda3/envs/suapp/lib/python3.11/site-packages/pandas/core/ops/common.py:81\u001b[0m, in \u001b[0;36m_unpack_zerodim_and_defer.<locals>.new_method\u001b[0;34m(self, other)\u001b[0m\n\u001b[1;32m     77\u001b[0m             \u001b[39mreturn\u001b[39;00m \u001b[39mNotImplemented\u001b[39m\n\u001b[1;32m     79\u001b[0m other \u001b[39m=\u001b[39m item_from_zerodim(other)\n\u001b[0;32m---> 81\u001b[0m \u001b[39mreturn\u001b[39;00m method(\u001b[39mself\u001b[39;49m, other)\n",
      "File \u001b[0;32m~/anaconda3/envs/suapp/lib/python3.11/site-packages/pandas/core/arraylike.py:70\u001b[0m, in \u001b[0;36mOpsMixin.__and__\u001b[0;34m(self, other)\u001b[0m\n\u001b[1;32m     68\u001b[0m \u001b[39m@unpack_zerodim_and_defer\u001b[39m(\u001b[39m\"\u001b[39m\u001b[39m__and__\u001b[39m\u001b[39m\"\u001b[39m)\n\u001b[1;32m     69\u001b[0m \u001b[39mdef\u001b[39;00m \u001b[39m__and__\u001b[39m(\u001b[39mself\u001b[39m, other):\n\u001b[0;32m---> 70\u001b[0m     \u001b[39mreturn\u001b[39;00m \u001b[39mself\u001b[39;49m\u001b[39m.\u001b[39;49m_logical_method(other, operator\u001b[39m.\u001b[39;49mand_)\n",
      "File \u001b[0;32m~/anaconda3/envs/suapp/lib/python3.11/site-packages/pandas/core/series.py:6102\u001b[0m, in \u001b[0;36mSeries._logical_method\u001b[0;34m(self, other, op)\u001b[0m\n\u001b[1;32m   6101\u001b[0m \u001b[39mdef\u001b[39;00m \u001b[39m_logical_method\u001b[39m(\u001b[39mself\u001b[39m, other, op):\n\u001b[0;32m-> 6102\u001b[0m     res_name \u001b[39m=\u001b[39m ops\u001b[39m.\u001b[39;49mget_op_result_name(\u001b[39mself\u001b[39;49m, other)\n\u001b[1;32m   6103\u001b[0m     \u001b[39mself\u001b[39m, other \u001b[39m=\u001b[39m ops\u001b[39m.\u001b[39malign_method_SERIES(\u001b[39mself\u001b[39m, other, align_asobject\u001b[39m=\u001b[39m\u001b[39mTrue\u001b[39;00m)\n\u001b[1;32m   6105\u001b[0m     lvalues \u001b[39m=\u001b[39m \u001b[39mself\u001b[39m\u001b[39m.\u001b[39m_values\n",
      "File \u001b[0;32m~/anaconda3/envs/suapp/lib/python3.11/site-packages/pandas/core/ops/common.py:102\u001b[0m, in \u001b[0;36mget_op_result_name\u001b[0;34m(left, right)\u001b[0m\n\u001b[1;32m     87\u001b[0m \u001b[39m\u001b[39m\u001b[39m\"\"\"\u001b[39;00m\n\u001b[1;32m     88\u001b[0m \u001b[39mFind the appropriate name to pin to an operation result.  This result\u001b[39;00m\n\u001b[1;32m     89\u001b[0m \u001b[39mshould always be either an Index or a Series.\u001b[39;00m\n\u001b[0;32m   (...)\u001b[0m\n\u001b[1;32m     99\u001b[0m \u001b[39m    Usually a string\u001b[39;00m\n\u001b[1;32m    100\u001b[0m \u001b[39m\"\"\"\u001b[39;00m\n\u001b[1;32m    101\u001b[0m \u001b[39mif\u001b[39;00m \u001b[39misinstance\u001b[39m(right, (ABCSeries, ABCIndex)):\n\u001b[0;32m--> 102\u001b[0m     name \u001b[39m=\u001b[39m _maybe_match_name(left, right)\n\u001b[1;32m    103\u001b[0m \u001b[39melse\u001b[39;00m:\n\u001b[1;32m    104\u001b[0m     name \u001b[39m=\u001b[39m left\u001b[39m.\u001b[39mname\n",
      "File \u001b[0;32m~/anaconda3/envs/suapp/lib/python3.11/site-packages/pandas/core/ops/common.py:132\u001b[0m, in \u001b[0;36m_maybe_match_name\u001b[0;34m(a, b)\u001b[0m\n\u001b[1;32m    130\u001b[0m \u001b[39mif\u001b[39;00m a_has \u001b[39mand\u001b[39;00m b_has:\n\u001b[1;32m    131\u001b[0m     \u001b[39mtry\u001b[39;00m:\n\u001b[0;32m--> 132\u001b[0m         \u001b[39mif\u001b[39;00m a\u001b[39m.\u001b[39mname \u001b[39m==\u001b[39m b\u001b[39m.\u001b[39;49mname:\n\u001b[1;32m    133\u001b[0m             \u001b[39mreturn\u001b[39;00m a\u001b[39m.\u001b[39mname\n\u001b[1;32m    134\u001b[0m         \u001b[39melif\u001b[39;00m is_matching_na(a\u001b[39m.\u001b[39mname, b\u001b[39m.\u001b[39mname):\n\u001b[1;32m    135\u001b[0m             \u001b[39m# e.g. both are np.nan\u001b[39;00m\n",
      "File \u001b[0;32m~/anaconda3/envs/suapp/lib/python3.11/site-packages/pandas/core/series.py:626\u001b[0m, in \u001b[0;36mSeries.name\u001b[0;34m(self)\u001b[0m\n\u001b[1;32m    623\u001b[0m     \u001b[39m# DataFrame compatibility\u001b[39;00m\n\u001b[1;32m    624\u001b[0m     \u001b[39mreturn\u001b[39;00m \u001b[39mself\u001b[39m\u001b[39m.\u001b[39mdtype\n\u001b[0;32m--> 626\u001b[0m \u001b[39m@property\u001b[39m\n\u001b[1;32m    627\u001b[0m \u001b[39mdef\u001b[39;00m \u001b[39mname\u001b[39m(\u001b[39mself\u001b[39m) \u001b[39m-\u001b[39m\u001b[39m>\u001b[39m Hashable:\n\u001b[1;32m    628\u001b[0m \u001b[39m    \u001b[39m\u001b[39m\"\"\"\u001b[39;00m\n\u001b[1;32m    629\u001b[0m \u001b[39m    Return the name of the Series.\u001b[39;00m\n\u001b[1;32m    630\u001b[0m \n\u001b[0;32m   (...)\u001b[0m\n\u001b[1;32m    672\u001b[0m \u001b[39m    'Even Numbers'\u001b[39;00m\n\u001b[1;32m    673\u001b[0m \u001b[39m    \"\"\"\u001b[39;00m\n\u001b[1;32m    674\u001b[0m     \u001b[39mreturn\u001b[39;00m \u001b[39mself\u001b[39m\u001b[39m.\u001b[39m_name\n",
      "\u001b[0;31mKeyboardInterrupt\u001b[0m: "
     ]
    }
   ],
   "source": [
    "initial_beta = np.zeros(8)\n",
    "result = minimize(log_likelihood, initial_beta, method='Nelder-Mead')"
   ]
  },
  {
   "cell_type": "code",
   "execution_count": 6,
   "metadata": {},
   "outputs": [
    {
     "name": "stdout",
     "output_type": "stream",
     "text": [
      "Optimized Beta Parameters: [0. 0. 0. 0. 0. 0. 0. 0.]\n",
      "Log-Likelihood: -501.0635294096246\n",
      "L(0): -501.0635294096246\n",
      "Rho-Square: 0.0\n",
      "Adjusted Rho-Square: -0.015966039295308487\n"
     ]
    }
   ],
   "source": [
    "# Menghitung Statistik Tambahan\n",
    "L0 = log_likelihood(np.zeros_like(initial_beta))\n",
    "LL = result.fun\n",
    "k = len(result.x)\n",
    "rho_square = 1 - (LL / L0)\n",
    "rho_square_adj = 1 - ((LL - k) / L0)\n",
    "# std_err = np.sqrt(np.diag(np.linalg.inv(result.hess_inv)))\n",
    "# t_stats = result.x / std_err\n",
    "\n",
    "# Menampilkan Hasil\n",
    "print(\"Optimized Beta Parameters:\", result.x)\n",
    "print(\"Log-Likelihood:\", LL)\n",
    "print(\"L(0):\", L0)\n",
    "print(\"Rho-Square:\", rho_square)\n",
    "print(\"Adjusted Rho-Square:\", rho_square_adj)\n",
    "# print(\"T-Statistic:\", t_stats)"
   ]
  }
 ],
 "metadata": {
  "kernelspec": {
   "display_name": "suapp",
   "language": "python",
   "name": "python3"
  },
  "language_info": {
   "codemirror_mode": {
    "name": "ipython",
    "version": 3
   },
   "file_extension": ".py",
   "mimetype": "text/x-python",
   "name": "python",
   "nbconvert_exporter": "python",
   "pygments_lexer": "ipython3",
   "version": "3.11.4"
  }
 },
 "nbformat": 4,
 "nbformat_minor": 2
}
