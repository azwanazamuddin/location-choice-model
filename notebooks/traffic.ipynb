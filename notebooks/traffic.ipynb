{
 "cells": [
  {
   "cell_type": "markdown",
   "metadata": {},
   "source": [
    "# Get Traffic Data Bandung"
   ]
  },
  {
   "cell_type": "code",
   "execution_count": 1,
   "metadata": {},
   "outputs": [],
   "source": [
    "import geopandas as gpd\n",
    "\n",
    "# Read the shapefile\n",
    "shapefile_path = \"../data/shapefile/centroid_bandung.shp\"\n",
    "gdf = gpd.read_file(shapefile_path)"
   ]
  },
  {
   "cell_type": "code",
   "execution_count": 2,
   "metadata": {},
   "outputs": [],
   "source": [
    "# Extract coordinates and attribute data\n",
    "gdf['latitude'] = gdf.geometry.y\n",
    "gdf['longitude'] = gdf.geometry.x"
   ]
  },
  {
   "cell_type": "code",
   "execution_count": 3,
   "metadata": {},
   "outputs": [],
   "source": [
    "gdf =  gdf[['NAME_4', 'latitude', 'longitude']]"
   ]
  },
  {
   "cell_type": "code",
   "execution_count": 15,
   "metadata": {},
   "outputs": [
    {
     "data": {
      "text/html": [
       "<div>\n",
       "<style scoped>\n",
       "    .dataframe tbody tr th:only-of-type {\n",
       "        vertical-align: middle;\n",
       "    }\n",
       "\n",
       "    .dataframe tbody tr th {\n",
       "        vertical-align: top;\n",
       "    }\n",
       "\n",
       "    .dataframe thead th {\n",
       "        text-align: right;\n",
       "    }\n",
       "</style>\n",
       "<table border=\"1\" class=\"dataframe\">\n",
       "  <thead>\n",
       "    <tr style=\"text-align: right;\">\n",
       "      <th></th>\n",
       "      <th>kelurahan</th>\n",
       "      <th>latitude</th>\n",
       "      <th>longitude</th>\n",
       "    </tr>\n",
       "  </thead>\n",
       "  <tbody>\n",
       "    <tr>\n",
       "      <th>0</th>\n",
       "      <td>Campaka</td>\n",
       "      <td>-6.900412</td>\n",
       "      <td>107.566504</td>\n",
       "    </tr>\n",
       "    <tr>\n",
       "      <th>1</th>\n",
       "      <td>Ciroyom</td>\n",
       "      <td>-6.915770</td>\n",
       "      <td>107.588252</td>\n",
       "    </tr>\n",
       "    <tr>\n",
       "      <th>2</th>\n",
       "      <td>Dungus Cariang</td>\n",
       "      <td>-6.914119</td>\n",
       "      <td>107.580806</td>\n",
       "    </tr>\n",
       "    <tr>\n",
       "      <th>3</th>\n",
       "      <td>Garuda</td>\n",
       "      <td>-6.911455</td>\n",
       "      <td>107.576032</td>\n",
       "    </tr>\n",
       "    <tr>\n",
       "      <th>4</th>\n",
       "      <td>Kebon Jeruk</td>\n",
       "      <td>-6.917187</td>\n",
       "      <td>107.598898</td>\n",
       "    </tr>\n",
       "    <tr>\n",
       "      <th>...</th>\n",
       "      <td>...</td>\n",
       "      <td>...</td>\n",
       "      <td>...</td>\n",
       "    </tr>\n",
       "    <tr>\n",
       "      <th>146</th>\n",
       "      <td>Cigending</td>\n",
       "      <td>-6.910509</td>\n",
       "      <td>107.697963</td>\n",
       "    </tr>\n",
       "    <tr>\n",
       "      <th>147</th>\n",
       "      <td>Pasanggrahan</td>\n",
       "      <td>-6.910776</td>\n",
       "      <td>107.713816</td>\n",
       "    </tr>\n",
       "    <tr>\n",
       "      <th>148</th>\n",
       "      <td>Pasir Endah</td>\n",
       "      <td>-6.904375</td>\n",
       "      <td>107.690213</td>\n",
       "    </tr>\n",
       "    <tr>\n",
       "      <th>149</th>\n",
       "      <td>Pasir Wangi</td>\n",
       "      <td>-6.899396</td>\n",
       "      <td>107.706198</td>\n",
       "    </tr>\n",
       "    <tr>\n",
       "      <th>150</th>\n",
       "      <td>Pasirjati</td>\n",
       "      <td>-6.902607</td>\n",
       "      <td>107.710287</td>\n",
       "    </tr>\n",
       "  </tbody>\n",
       "</table>\n",
       "<p>151 rows × 3 columns</p>\n",
       "</div>"
      ],
      "text/plain": [
       "          kelurahan  latitude   longitude\n",
       "0           Campaka -6.900412  107.566504\n",
       "1           Ciroyom -6.915770  107.588252\n",
       "2    Dungus Cariang -6.914119  107.580806\n",
       "3            Garuda -6.911455  107.576032\n",
       "4       Kebon Jeruk -6.917187  107.598898\n",
       "..              ...       ...         ...\n",
       "146       Cigending -6.910509  107.697963\n",
       "147    Pasanggrahan -6.910776  107.713816\n",
       "148     Pasir Endah -6.904375  107.690213\n",
       "149     Pasir Wangi -6.899396  107.706198\n",
       "150       Pasirjati -6.902607  107.710287\n",
       "\n",
       "[151 rows x 3 columns]"
      ]
     },
     "execution_count": 15,
     "metadata": {},
     "output_type": "execute_result"
    }
   ],
   "source": [
    "centroid = gdf.rename(columns = {\n",
    "    'NAME_4':'kelurahan'\n",
    "})\n",
    "centroid"
   ]
  },
  {
   "cell_type": "markdown",
   "metadata": {},
   "source": [
    "### Get Traffic Matrix\n",
    "Setiap peak hour? -> mau di tanggal berapa?\n",
    "Cek dulu peak hour"
   ]
  },
  {
   "cell_type": "code",
   "execution_count": null,
   "metadata": {},
   "outputs": [],
   "source": []
  }
 ],
 "metadata": {
  "kernelspec": {
   "display_name": "suapp",
   "language": "python",
   "name": "python3"
  },
  "language_info": {
   "codemirror_mode": {
    "name": "ipython",
    "version": 3
   },
   "file_extension": ".py",
   "mimetype": "text/x-python",
   "name": "python",
   "nbconvert_exporter": "python",
   "pygments_lexer": "ipython3",
   "version": "3.11.4"
  },
  "orig_nbformat": 4
 },
 "nbformat": 4,
 "nbformat_minor": 2
}
