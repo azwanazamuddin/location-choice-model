{
 "cells": [
  {
   "cell_type": "code",
   "execution_count": 2,
   "metadata": {},
   "outputs": [
    {
     "name": "stdout",
     "output_type": "stream",
     "text": [
      "<class 'pandas.core.frame.DataFrame'>\n",
      "RangeIndex: 5560 entries, 0 to 5559\n",
      "Data columns (total 15 columns):\n",
      " #   Column                           Non-Null Count  Dtype \n",
      "---  ------                           --------------  ----- \n",
      " 0   driver_id                        5560 non-null   object\n",
      " 1   loc_jumlah_taman                 5560 non-null   int64 \n",
      " 2   loc_jumlah_pickup                5560 non-null   int64 \n",
      " 3   loc_jumlah_sekolah               5560 non-null   int64 \n",
      " 4   loc_jumlah_ofm                   5560 non-null   int64 \n",
      " 5   jumlah_faskes                    5560 non-null   int64 \n",
      " 6   loc_jumlah_hotel                 5560 non-null   int64 \n",
      " 7   loc_jml_b_permukiman             5560 non-null   int64 \n",
      " 8   loc_populasi                     5560 non-null   int64 \n",
      " 9   loc_jumlah_terminal              5560 non-null   int64 \n",
      " 10  trip_jenis_pesanan_Ride          5560 non-null   bool  \n",
      " 11  trip_jenis_pesanan_Kurir Barang  5560 non-null   bool  \n",
      " 12  loc_jumlah_pasar                 5560 non-null   int64 \n",
      " 13  sosdem_usia                      5560 non-null   int64 \n",
      " 14  location_code                    5560 non-null   int64 \n",
      "dtypes: bool(2), int64(12), object(1)\n",
      "memory usage: 575.7+ KB\n"
     ]
    }
   ],
   "source": [
    "import pandas as pd\n",
    "\n",
    "# Membaca dataset\n",
    "file_path = '../data/Data_MNL_pagi.xlsx'\n",
    "data_trip = pd.read_excel(file_path)\n",
    "\n",
    "# Menampilkan informasi dasar dari dataset\n",
    "data_trip.info()"
   ]
  },
  {
   "cell_type": "code",
   "execution_count": 3,
   "metadata": {},
   "outputs": [
    {
     "data": {
      "text/html": [
       "<div>\n",
       "<style scoped>\n",
       "    .dataframe tbody tr th:only-of-type {\n",
       "        vertical-align: middle;\n",
       "    }\n",
       "\n",
       "    .dataframe tbody tr th {\n",
       "        vertical-align: top;\n",
       "    }\n",
       "\n",
       "    .dataframe thead th {\n",
       "        text-align: right;\n",
       "    }\n",
       "</style>\n",
       "<table border=\"1\" class=\"dataframe\">\n",
       "  <thead>\n",
       "    <tr style=\"text-align: right;\">\n",
       "      <th></th>\n",
       "      <th>driver_id</th>\n",
       "      <th>loc_jumlah_taman</th>\n",
       "      <th>loc_jumlah_pickup</th>\n",
       "      <th>loc_jumlah_sekolah</th>\n",
       "      <th>loc_jumlah_ofm</th>\n",
       "      <th>jumlah_faskes</th>\n",
       "      <th>loc_jumlah_hotel</th>\n",
       "      <th>loc_jml_b_permukiman</th>\n",
       "      <th>loc_populasi</th>\n",
       "      <th>loc_jumlah_terminal</th>\n",
       "      <th>trip_jenis_pesanan_Ride</th>\n",
       "      <th>trip_jenis_pesanan_Kurir Barang</th>\n",
       "      <th>loc_jumlah_pasar</th>\n",
       "      <th>sosdem_usia</th>\n",
       "      <th>location_code</th>\n",
       "    </tr>\n",
       "  </thead>\n",
       "  <tbody>\n",
       "    <tr>\n",
       "      <th>0</th>\n",
       "      <td>ikialink8@gmail.com</td>\n",
       "      <td>0</td>\n",
       "      <td>625</td>\n",
       "      <td>7</td>\n",
       "      <td>66</td>\n",
       "      <td>2</td>\n",
       "      <td>5</td>\n",
       "      <td>1014</td>\n",
       "      <td>13297</td>\n",
       "      <td>0</td>\n",
       "      <td>True</td>\n",
       "      <td>False</td>\n",
       "      <td>1</td>\n",
       "      <td>34</td>\n",
       "      <td>145</td>\n",
       "    </tr>\n",
       "    <tr>\n",
       "      <th>1</th>\n",
       "      <td>ikialink8@gmail.com</td>\n",
       "      <td>0</td>\n",
       "      <td>128</td>\n",
       "      <td>7</td>\n",
       "      <td>16</td>\n",
       "      <td>0</td>\n",
       "      <td>6</td>\n",
       "      <td>1328</td>\n",
       "      <td>7522</td>\n",
       "      <td>1</td>\n",
       "      <td>True</td>\n",
       "      <td>False</td>\n",
       "      <td>1</td>\n",
       "      <td>34</td>\n",
       "      <td>133</td>\n",
       "    </tr>\n",
       "    <tr>\n",
       "      <th>2</th>\n",
       "      <td>ikialink8@gmail.com</td>\n",
       "      <td>0</td>\n",
       "      <td>147</td>\n",
       "      <td>11</td>\n",
       "      <td>44</td>\n",
       "      <td>1</td>\n",
       "      <td>14</td>\n",
       "      <td>1419</td>\n",
       "      <td>10254</td>\n",
       "      <td>0</td>\n",
       "      <td>True</td>\n",
       "      <td>False</td>\n",
       "      <td>0</td>\n",
       "      <td>34</td>\n",
       "      <td>111</td>\n",
       "    </tr>\n",
       "    <tr>\n",
       "      <th>3</th>\n",
       "      <td>ikialink8@gmail.com</td>\n",
       "      <td>0</td>\n",
       "      <td>397</td>\n",
       "      <td>12</td>\n",
       "      <td>61</td>\n",
       "      <td>2</td>\n",
       "      <td>7</td>\n",
       "      <td>3453</td>\n",
       "      <td>23692</td>\n",
       "      <td>0</td>\n",
       "      <td>True</td>\n",
       "      <td>False</td>\n",
       "      <td>0</td>\n",
       "      <td>34</td>\n",
       "      <td>84</td>\n",
       "    </tr>\n",
       "    <tr>\n",
       "      <th>4</th>\n",
       "      <td>ikialink8@gmail.com</td>\n",
       "      <td>0</td>\n",
       "      <td>93</td>\n",
       "      <td>9</td>\n",
       "      <td>55</td>\n",
       "      <td>2</td>\n",
       "      <td>10</td>\n",
       "      <td>2909</td>\n",
       "      <td>14324</td>\n",
       "      <td>0</td>\n",
       "      <td>True</td>\n",
       "      <td>False</td>\n",
       "      <td>0</td>\n",
       "      <td>34</td>\n",
       "      <td>138</td>\n",
       "    </tr>\n",
       "  </tbody>\n",
       "</table>\n",
       "</div>"
      ],
      "text/plain": [
       "             driver_id  loc_jumlah_taman  loc_jumlah_pickup   \n",
       "0  ikialink8@gmail.com                 0                625  \\\n",
       "1  ikialink8@gmail.com                 0                128   \n",
       "2  ikialink8@gmail.com                 0                147   \n",
       "3  ikialink8@gmail.com                 0                397   \n",
       "4  ikialink8@gmail.com                 0                 93   \n",
       "\n",
       "   loc_jumlah_sekolah  loc_jumlah_ofm  jumlah_faskes  loc_jumlah_hotel   \n",
       "0                   7              66              2                 5  \\\n",
       "1                   7              16              0                 6   \n",
       "2                  11              44              1                14   \n",
       "3                  12              61              2                 7   \n",
       "4                   9              55              2                10   \n",
       "\n",
       "   loc_jml_b_permukiman  loc_populasi  loc_jumlah_terminal   \n",
       "0                  1014         13297                    0  \\\n",
       "1                  1328          7522                    1   \n",
       "2                  1419         10254                    0   \n",
       "3                  3453         23692                    0   \n",
       "4                  2909         14324                    0   \n",
       "\n",
       "   trip_jenis_pesanan_Ride  trip_jenis_pesanan_Kurir Barang  loc_jumlah_pasar   \n",
       "0                     True                            False                 1  \\\n",
       "1                     True                            False                 1   \n",
       "2                     True                            False                 0   \n",
       "3                     True                            False                 0   \n",
       "4                     True                            False                 0   \n",
       "\n",
       "   sosdem_usia  location_code  \n",
       "0           34            145  \n",
       "1           34            133  \n",
       "2           34            111  \n",
       "3           34             84  \n",
       "4           34            138  "
      ]
     },
     "execution_count": 3,
     "metadata": {},
     "output_type": "execute_result"
    }
   ],
   "source": [
    "data_trip.head()"
   ]
  },
  {
   "cell_type": "code",
   "execution_count": 4,
   "metadata": {},
   "outputs": [
    {
     "data": {
      "text/plain": [
       "Index(['driver_id', 'loc_jumlah_taman', 'loc_jumlah_pickup',\n",
       "       'loc_jumlah_sekolah', 'loc_jumlah_ofm', 'jumlah_faskes',\n",
       "       'loc_jumlah_hotel', 'loc_jml_b_permukiman', 'loc_populasi',\n",
       "       'loc_jumlah_terminal', 'trip_jenis_pesanan_Ride',\n",
       "       'trip_jenis_pesanan_Kurir Barang', 'loc_jumlah_pasar', 'sosdem_usia',\n",
       "       'location_code'],\n",
       "      dtype='object')"
      ]
     },
     "execution_count": 4,
     "metadata": {},
     "output_type": "execute_result"
    }
   ],
   "source": [
    "data_trip.columns"
   ]
  },
  {
   "cell_type": "code",
   "execution_count": 7,
   "metadata": {},
   "outputs": [
    {
     "data": {
      "text/plain": [
       "621"
      ]
     },
     "execution_count": 7,
     "metadata": {},
     "output_type": "execute_result"
    }
   ],
   "source": [
    "len(set(data_trip.driver_id))"
   ]
  },
  {
   "cell_type": "code",
   "execution_count": 9,
   "metadata": {},
   "outputs": [
    {
     "data": {
      "text/plain": [
       "<bound method IndexOpsMixin.value_counts of 0       ikialink8@gmail.com\n",
       "1       ikialink8@gmail.com\n",
       "2       ikialink8@gmail.com\n",
       "3       ikialink8@gmail.com\n",
       "4       ikialink8@gmail.com\n",
       "               ...         \n",
       "5555          82120934250.0\n",
       "5556          82120934250.0\n",
       "5557          82120934250.0\n",
       "5558          82120934250.0\n",
       "5559          82120934250.0\n",
       "Name: driver_id, Length: 5560, dtype: object>"
      ]
     },
     "execution_count": 9,
     "metadata": {},
     "output_type": "execute_result"
    }
   ],
   "source": [
    "data_trip['driver_id'].value_counts"
   ]
  },
  {
   "cell_type": "code",
   "execution_count": 4,
   "metadata": {},
   "outputs": [],
   "source": [
    "data_trip.rename(columns={'trip_jenis_pesanan_Kurir Barang': 'trip_jenis_pesanan_Kurir_Barang'}, inplace=True)"
   ]
  },
  {
   "cell_type": "code",
   "execution_count": 5,
   "metadata": {},
   "outputs": [],
   "source": [
    "# Definisi Fungsi Utilitas\n",
    "def utility_function(driver_id, location_id, beta, data_trip):\n",
    "    # Ambil baris data untuk pengemudi dan lokasi tertentu\n",
    "    data_row = data_trip[(data_trip.driver_id == driver_id) & (data_trip.location_code == location_id)]\n",
    "\n",
    "    # Jika kombinasi tidak ditemukan, kembalikan utilitas 0 atau nilai default\n",
    "    if data_row.empty:\n",
    "        return 0\n",
    "\n",
    "    data_row = data_row.iloc[0]\n",
    "\n",
    "    # Hitung utilitas berdasarkan variabel\n",
    "    utility = (beta[0] * data_row.loc_jumlah_taman + \n",
    "               beta[1] * data_row.loc_jumlah_pickup + \n",
    "               beta[2] * data_row.loc_jumlah_sekolah + \n",
    "               beta[3] * data_row.loc_jumlah_ofm + \n",
    "               beta[4] * data_row.jumlah_faskes + \n",
    "               beta[5] * data_row.loc_jumlah_hotel + \n",
    "               beta[6] * data_row.loc_jml_b_permukiman + \n",
    "               beta[7] * data_row.loc_populasi + \n",
    "               beta[8] * data_row.loc_jumlah_terminal + \n",
    "               beta[9] * data_row.trip_jenis_pesanan_Ride + \n",
    "               beta[10] * data_row.trip_jenis_pesanan_Kurir_Barang + \n",
    "               beta[11] * data_row.loc_jumlah_pasar + \n",
    "               beta[12] * data_row.sosdem_usia)  # N adalah jumlah total variabel\n",
    "    return utility"
   ]
  },
  {
   "cell_type": "code",
   "execution_count": 6,
   "metadata": {},
   "outputs": [],
   "source": [
    "def log_likelihood(beta, data_trip):\n",
    "    total_log_likelihood = 0\n",
    "\n",
    "    # Iterasi melalui setiap pengemudi\n",
    "    for driver_id in set(data_trip.driver_id):\n",
    "        # Iterasi melalui setiap lokasi\n",
    "        for location_id in set(data_trip.location_code):\n",
    "            # Menghitung utilitas untuk pengemudi dan lokasi tertentu\n",
    "            util = utility_function(driver_id, location_id, beta, data_trip)\n",
    "\n",
    "            # Menghitung ekponensial utilitas untuk pengemudi dan lokasi tertentu\n",
    "            exp_util = np.exp(util)\n",
    "\n",
    "            # Menghitung total ekponensial utilitas untuk semua lokasi bagi pengemudi tertentu\n",
    "            sum_exp_util = sum(np.exp(utility_function(driver_id, loc, beta, data_trip)) for loc in set(data_trip.location_code))\n",
    "\n",
    "            # Probabilitas pilihan lokasi ini oleh pengemudi\n",
    "            prob = exp_util / sum_exp_util\n",
    "\n",
    "            # Menambahkan log probabilitas ke log likelihood total jika pengemudi memilih lokasi ini\n",
    "            if not data_trip[(data_trip.driver_id == driver_id) & (data_trip.location_code == location_id)].empty:\n",
    "                total_log_likelihood += np.log(prob)\n",
    "\n",
    "    return -total_log_likelihood  # Minimisasi log-likelihood negatif\n"
   ]
  },
  {
   "cell_type": "code",
   "execution_count": 7,
   "metadata": {},
   "outputs": [
    {
     "ename": "KeyboardInterrupt",
     "evalue": "",
     "output_type": "error",
     "traceback": [
      "\u001b[0;31m---------------------------------------------------------------------------\u001b[0m",
      "\u001b[0;31mKeyboardInterrupt\u001b[0m                         Traceback (most recent call last)",
      "\u001b[1;32m/home/superapp-research/Documents/Super App Research/driver-side/location-choice-model/notebooks/bismillah_mnl_pagi.ipynb Cell 7\u001b[0m line \u001b[0;36m6\n\u001b[1;32m      <a href='vscode-notebook-cell://wsl%2Bubuntu-22.04/home/superapp-research/Documents/Super%20App%20Research/driver-side/location-choice-model/notebooks/bismillah_mnl_pagi.ipynb#X10sdnNjb2RlLXJlbW90ZQ%3D%3D?line=3'>4</a>\u001b[0m \u001b[39m# Estimasi Model dengan Toleransi Konvergensi\u001b[39;00m\n\u001b[1;32m      <a href='vscode-notebook-cell://wsl%2Bubuntu-22.04/home/superapp-research/Documents/Super%20App%20Research/driver-side/location-choice-model/notebooks/bismillah_mnl_pagi.ipynb#X10sdnNjb2RlLXJlbW90ZQ%3D%3D?line=4'>5</a>\u001b[0m initial_beta \u001b[39m=\u001b[39m np\u001b[39m.\u001b[39mzeros(\u001b[39m13\u001b[39m)  \u001b[39m# Sesuaikan jumlah ini sesuai jumlah variabel\u001b[39;00m\n\u001b[0;32m----> <a href='vscode-notebook-cell://wsl%2Bubuntu-22.04/home/superapp-research/Documents/Super%20App%20Research/driver-side/location-choice-model/notebooks/bismillah_mnl_pagi.ipynb#X10sdnNjb2RlLXJlbW90ZQ%3D%3D?line=5'>6</a>\u001b[0m result \u001b[39m=\u001b[39m minimize(log_likelihood, initial_beta, args\u001b[39m=\u001b[39;49m(data_trip), method\u001b[39m=\u001b[39;49m\u001b[39m'\u001b[39;49m\u001b[39mBFGS\u001b[39;49m\u001b[39m'\u001b[39;49m, tol\u001b[39m=\u001b[39;49m\u001b[39m1e-6\u001b[39;49m)\n\u001b[1;32m      <a href='vscode-notebook-cell://wsl%2Bubuntu-22.04/home/superapp-research/Documents/Super%20App%20Research/driver-side/location-choice-model/notebooks/bismillah_mnl_pagi.ipynb#X10sdnNjb2RlLXJlbW90ZQ%3D%3D?line=7'>8</a>\u001b[0m \u001b[39m# Menampilkan Hasil\u001b[39;00m\n\u001b[1;32m      <a href='vscode-notebook-cell://wsl%2Bubuntu-22.04/home/superapp-research/Documents/Super%20App%20Research/driver-side/location-choice-model/notebooks/bismillah_mnl_pagi.ipynb#X10sdnNjb2RlLXJlbW90ZQ%3D%3D?line=8'>9</a>\u001b[0m \u001b[39mprint\u001b[39m(\u001b[39m\"\u001b[39m\u001b[39mOptimized Beta Parameters:\u001b[39m\u001b[39m\"\u001b[39m, result\u001b[39m.\u001b[39mx)\n",
      "File \u001b[0;32m~/anaconda3/envs/suapp/lib/python3.11/site-packages/scipy/optimize/_minimize.py:691\u001b[0m, in \u001b[0;36mminimize\u001b[0;34m(fun, x0, args, method, jac, hess, hessp, bounds, constraints, tol, callback, options)\u001b[0m\n\u001b[1;32m    689\u001b[0m     res \u001b[39m=\u001b[39m _minimize_cg(fun, x0, args, jac, callback, \u001b[39m*\u001b[39m\u001b[39m*\u001b[39moptions)\n\u001b[1;32m    690\u001b[0m \u001b[39melif\u001b[39;00m meth \u001b[39m==\u001b[39m \u001b[39m'\u001b[39m\u001b[39mbfgs\u001b[39m\u001b[39m'\u001b[39m:\n\u001b[0;32m--> 691\u001b[0m     res \u001b[39m=\u001b[39m _minimize_bfgs(fun, x0, args, jac, callback, \u001b[39m*\u001b[39;49m\u001b[39m*\u001b[39;49moptions)\n\u001b[1;32m    692\u001b[0m \u001b[39melif\u001b[39;00m meth \u001b[39m==\u001b[39m \u001b[39m'\u001b[39m\u001b[39mnewton-cg\u001b[39m\u001b[39m'\u001b[39m:\n\u001b[1;32m    693\u001b[0m     res \u001b[39m=\u001b[39m _minimize_newtoncg(fun, x0, args, jac, hess, hessp, callback,\n\u001b[1;32m    694\u001b[0m                              \u001b[39m*\u001b[39m\u001b[39m*\u001b[39moptions)\n",
      "File \u001b[0;32m~/anaconda3/envs/suapp/lib/python3.11/site-packages/scipy/optimize/_optimize.py:1362\u001b[0m, in \u001b[0;36m_minimize_bfgs\u001b[0;34m(fun, x0, args, jac, callback, gtol, norm, eps, maxiter, disp, return_all, finite_diff_rel_step, xrtol, **unknown_options)\u001b[0m\n\u001b[1;32m   1359\u001b[0m \u001b[39mif\u001b[39;00m maxiter \u001b[39mis\u001b[39;00m \u001b[39mNone\u001b[39;00m:\n\u001b[1;32m   1360\u001b[0m     maxiter \u001b[39m=\u001b[39m \u001b[39mlen\u001b[39m(x0) \u001b[39m*\u001b[39m \u001b[39m200\u001b[39m\n\u001b[0;32m-> 1362\u001b[0m sf \u001b[39m=\u001b[39m _prepare_scalar_function(fun, x0, jac, args\u001b[39m=\u001b[39;49margs, epsilon\u001b[39m=\u001b[39;49meps,\n\u001b[1;32m   1363\u001b[0m                               finite_diff_rel_step\u001b[39m=\u001b[39;49mfinite_diff_rel_step)\n\u001b[1;32m   1365\u001b[0m f \u001b[39m=\u001b[39m sf\u001b[39m.\u001b[39mfun\n\u001b[1;32m   1366\u001b[0m myfprime \u001b[39m=\u001b[39m sf\u001b[39m.\u001b[39mgrad\n",
      "File \u001b[0;32m~/anaconda3/envs/suapp/lib/python3.11/site-packages/scipy/optimize/_optimize.py:332\u001b[0m, in \u001b[0;36m_prepare_scalar_function\u001b[0;34m(fun, x0, jac, args, bounds, epsilon, finite_diff_rel_step, hess)\u001b[0m\n\u001b[1;32m    328\u001b[0m     bounds \u001b[39m=\u001b[39m (\u001b[39m-\u001b[39mnp\u001b[39m.\u001b[39minf, np\u001b[39m.\u001b[39minf)\n\u001b[1;32m    330\u001b[0m \u001b[39m# ScalarFunction caches. Reuse of fun(x) during grad\u001b[39;00m\n\u001b[1;32m    331\u001b[0m \u001b[39m# calculation reduces overall function evaluations.\u001b[39;00m\n\u001b[0;32m--> 332\u001b[0m sf \u001b[39m=\u001b[39m ScalarFunction(fun, x0, args, grad, hess,\n\u001b[1;32m    333\u001b[0m                     finite_diff_rel_step, bounds, epsilon\u001b[39m=\u001b[39;49mepsilon)\n\u001b[1;32m    335\u001b[0m \u001b[39mreturn\u001b[39;00m sf\n",
      "File \u001b[0;32m~/anaconda3/envs/suapp/lib/python3.11/site-packages/scipy/optimize/_differentiable_functions.py:177\u001b[0m, in \u001b[0;36mScalarFunction.__init__\u001b[0;34m(self, fun, x0, args, grad, hess, finite_diff_rel_step, finite_diff_bounds, epsilon)\u001b[0m\n\u001b[1;32m    173\u001b[0m         \u001b[39mself\u001b[39m\u001b[39m.\u001b[39mg \u001b[39m=\u001b[39m approx_derivative(fun_wrapped, \u001b[39mself\u001b[39m\u001b[39m.\u001b[39mx, f0\u001b[39m=\u001b[39m\u001b[39mself\u001b[39m\u001b[39m.\u001b[39mf,\n\u001b[1;32m    174\u001b[0m                                    \u001b[39m*\u001b[39m\u001b[39m*\u001b[39mfinite_diff_options)\n\u001b[1;32m    176\u001b[0m \u001b[39mself\u001b[39m\u001b[39m.\u001b[39m_update_grad_impl \u001b[39m=\u001b[39m update_grad\n\u001b[0;32m--> 177\u001b[0m \u001b[39mself\u001b[39;49m\u001b[39m.\u001b[39;49m_update_grad()\n\u001b[1;32m    179\u001b[0m \u001b[39m# Hessian Evaluation\u001b[39;00m\n\u001b[1;32m    180\u001b[0m \u001b[39mif\u001b[39;00m \u001b[39mcallable\u001b[39m(hess):\n",
      "File \u001b[0;32m~/anaconda3/envs/suapp/lib/python3.11/site-packages/scipy/optimize/_differentiable_functions.py:256\u001b[0m, in \u001b[0;36mScalarFunction._update_grad\u001b[0;34m(self)\u001b[0m\n\u001b[1;32m    254\u001b[0m \u001b[39mdef\u001b[39;00m \u001b[39m_update_grad\u001b[39m(\u001b[39mself\u001b[39m):\n\u001b[1;32m    255\u001b[0m     \u001b[39mif\u001b[39;00m \u001b[39mnot\u001b[39;00m \u001b[39mself\u001b[39m\u001b[39m.\u001b[39mg_updated:\n\u001b[0;32m--> 256\u001b[0m         \u001b[39mself\u001b[39;49m\u001b[39m.\u001b[39;49m_update_grad_impl()\n\u001b[1;32m    257\u001b[0m         \u001b[39mself\u001b[39m\u001b[39m.\u001b[39mg_updated \u001b[39m=\u001b[39m \u001b[39mTrue\u001b[39;00m\n",
      "File \u001b[0;32m~/anaconda3/envs/suapp/lib/python3.11/site-packages/scipy/optimize/_differentiable_functions.py:173\u001b[0m, in \u001b[0;36mScalarFunction.__init__.<locals>.update_grad\u001b[0;34m()\u001b[0m\n\u001b[1;32m    171\u001b[0m \u001b[39mself\u001b[39m\u001b[39m.\u001b[39m_update_fun()\n\u001b[1;32m    172\u001b[0m \u001b[39mself\u001b[39m\u001b[39m.\u001b[39mngev \u001b[39m+\u001b[39m\u001b[39m=\u001b[39m \u001b[39m1\u001b[39m\n\u001b[0;32m--> 173\u001b[0m \u001b[39mself\u001b[39m\u001b[39m.\u001b[39mg \u001b[39m=\u001b[39m approx_derivative(fun_wrapped, \u001b[39mself\u001b[39;49m\u001b[39m.\u001b[39;49mx, f0\u001b[39m=\u001b[39;49m\u001b[39mself\u001b[39;49m\u001b[39m.\u001b[39;49mf,\n\u001b[1;32m    174\u001b[0m                            \u001b[39m*\u001b[39;49m\u001b[39m*\u001b[39;49mfinite_diff_options)\n",
      "File \u001b[0;32m~/anaconda3/envs/suapp/lib/python3.11/site-packages/scipy/optimize/_numdiff.py:505\u001b[0m, in \u001b[0;36mapprox_derivative\u001b[0;34m(fun, x0, method, rel_step, abs_step, f0, bounds, sparsity, as_linear_operator, args, kwargs)\u001b[0m\n\u001b[1;32m    502\u001b[0m     use_one_sided \u001b[39m=\u001b[39m \u001b[39mFalse\u001b[39;00m\n\u001b[1;32m    504\u001b[0m \u001b[39mif\u001b[39;00m sparsity \u001b[39mis\u001b[39;00m \u001b[39mNone\u001b[39;00m:\n\u001b[0;32m--> 505\u001b[0m     \u001b[39mreturn\u001b[39;00m _dense_difference(fun_wrapped, x0, f0, h,\n\u001b[1;32m    506\u001b[0m                              use_one_sided, method)\n\u001b[1;32m    507\u001b[0m \u001b[39melse\u001b[39;00m:\n\u001b[1;32m    508\u001b[0m     \u001b[39mif\u001b[39;00m \u001b[39mnot\u001b[39;00m issparse(sparsity) \u001b[39mand\u001b[39;00m \u001b[39mlen\u001b[39m(sparsity) \u001b[39m==\u001b[39m \u001b[39m2\u001b[39m:\n",
      "File \u001b[0;32m~/anaconda3/envs/suapp/lib/python3.11/site-packages/scipy/optimize/_numdiff.py:576\u001b[0m, in \u001b[0;36m_dense_difference\u001b[0;34m(fun, x0, f0, h, use_one_sided, method)\u001b[0m\n\u001b[1;32m    574\u001b[0m     x \u001b[39m=\u001b[39m x0 \u001b[39m+\u001b[39m h_vecs[i]\n\u001b[1;32m    575\u001b[0m     dx \u001b[39m=\u001b[39m x[i] \u001b[39m-\u001b[39m x0[i]  \u001b[39m# Recompute dx as exactly representable number.\u001b[39;00m\n\u001b[0;32m--> 576\u001b[0m     df \u001b[39m=\u001b[39m fun(x) \u001b[39m-\u001b[39m f0\n\u001b[1;32m    577\u001b[0m \u001b[39melif\u001b[39;00m method \u001b[39m==\u001b[39m \u001b[39m'\u001b[39m\u001b[39m3-point\u001b[39m\u001b[39m'\u001b[39m \u001b[39mand\u001b[39;00m use_one_sided[i]:\n\u001b[1;32m    578\u001b[0m     x1 \u001b[39m=\u001b[39m x0 \u001b[39m+\u001b[39m h_vecs[i]\n",
      "File \u001b[0;32m~/anaconda3/envs/suapp/lib/python3.11/site-packages/scipy/optimize/_numdiff.py:456\u001b[0m, in \u001b[0;36mapprox_derivative.<locals>.fun_wrapped\u001b[0;34m(x)\u001b[0m\n\u001b[1;32m    455\u001b[0m \u001b[39mdef\u001b[39;00m \u001b[39mfun_wrapped\u001b[39m(x):\n\u001b[0;32m--> 456\u001b[0m     f \u001b[39m=\u001b[39m np\u001b[39m.\u001b[39matleast_1d(fun(x, \u001b[39m*\u001b[39;49margs, \u001b[39m*\u001b[39;49m\u001b[39m*\u001b[39;49mkwargs))\n\u001b[1;32m    457\u001b[0m     \u001b[39mif\u001b[39;00m f\u001b[39m.\u001b[39mndim \u001b[39m>\u001b[39m \u001b[39m1\u001b[39m:\n\u001b[1;32m    458\u001b[0m         \u001b[39mraise\u001b[39;00m \u001b[39mRuntimeError\u001b[39;00m(\u001b[39m\"\u001b[39m\u001b[39m`fun` return value has \u001b[39m\u001b[39m\"\u001b[39m\n\u001b[1;32m    459\u001b[0m                            \u001b[39m\"\u001b[39m\u001b[39mmore than 1 dimension.\u001b[39m\u001b[39m\"\u001b[39m)\n",
      "File \u001b[0;32m~/anaconda3/envs/suapp/lib/python3.11/site-packages/scipy/optimize/_differentiable_functions.py:137\u001b[0m, in \u001b[0;36mScalarFunction.__init__.<locals>.fun_wrapped\u001b[0;34m(x)\u001b[0m\n\u001b[1;32m    133\u001b[0m \u001b[39mself\u001b[39m\u001b[39m.\u001b[39mnfev \u001b[39m+\u001b[39m\u001b[39m=\u001b[39m \u001b[39m1\u001b[39m\n\u001b[1;32m    134\u001b[0m \u001b[39m# Send a copy because the user may overwrite it.\u001b[39;00m\n\u001b[1;32m    135\u001b[0m \u001b[39m# Overwriting results in undefined behaviour because\u001b[39;00m\n\u001b[1;32m    136\u001b[0m \u001b[39m# fun(self.x) will change self.x, with the two no longer linked.\u001b[39;00m\n\u001b[0;32m--> 137\u001b[0m fx \u001b[39m=\u001b[39m fun(np\u001b[39m.\u001b[39;49mcopy(x), \u001b[39m*\u001b[39;49margs)\n\u001b[1;32m    138\u001b[0m \u001b[39m# Make sure the function returns a true scalar\u001b[39;00m\n\u001b[1;32m    139\u001b[0m \u001b[39mif\u001b[39;00m \u001b[39mnot\u001b[39;00m np\u001b[39m.\u001b[39misscalar(fx):\n",
      "\u001b[1;32m/home/superapp-research/Documents/Super App Research/driver-side/location-choice-model/notebooks/bismillah_mnl_pagi.ipynb Cell 7\u001b[0m line \u001b[0;36m1\n\u001b[1;32m     <a href='vscode-notebook-cell://wsl%2Bubuntu-22.04/home/superapp-research/Documents/Super%20App%20Research/driver-side/location-choice-model/notebooks/bismillah_mnl_pagi.ipynb#X10sdnNjb2RlLXJlbW90ZQ%3D%3D?line=11'>12</a>\u001b[0m exp_util \u001b[39m=\u001b[39m np\u001b[39m.\u001b[39mexp(util)\n\u001b[1;32m     <a href='vscode-notebook-cell://wsl%2Bubuntu-22.04/home/superapp-research/Documents/Super%20App%20Research/driver-side/location-choice-model/notebooks/bismillah_mnl_pagi.ipynb#X10sdnNjb2RlLXJlbW90ZQ%3D%3D?line=13'>14</a>\u001b[0m \u001b[39m# Menghitung total ekponensial utilitas untuk semua lokasi bagi pengemudi tertentu\u001b[39;00m\n\u001b[0;32m---> <a href='vscode-notebook-cell://wsl%2Bubuntu-22.04/home/superapp-research/Documents/Super%20App%20Research/driver-side/location-choice-model/notebooks/bismillah_mnl_pagi.ipynb#X10sdnNjb2RlLXJlbW90ZQ%3D%3D?line=14'>15</a>\u001b[0m sum_exp_util \u001b[39m=\u001b[39m \u001b[39msum\u001b[39m(np\u001b[39m.\u001b[39mexp(utility_function(driver_id, loc, beta, data_trip)) \u001b[39mfor\u001b[39;00m loc \u001b[39min\u001b[39;00m \u001b[39mset\u001b[39m(data_trip\u001b[39m.\u001b[39mlocation_code))\n\u001b[1;32m     <a href='vscode-notebook-cell://wsl%2Bubuntu-22.04/home/superapp-research/Documents/Super%20App%20Research/driver-side/location-choice-model/notebooks/bismillah_mnl_pagi.ipynb#X10sdnNjb2RlLXJlbW90ZQ%3D%3D?line=16'>17</a>\u001b[0m \u001b[39m# Probabilitas pilihan lokasi ini oleh pengemudi\u001b[39;00m\n\u001b[1;32m     <a href='vscode-notebook-cell://wsl%2Bubuntu-22.04/home/superapp-research/Documents/Super%20App%20Research/driver-side/location-choice-model/notebooks/bismillah_mnl_pagi.ipynb#X10sdnNjb2RlLXJlbW90ZQ%3D%3D?line=17'>18</a>\u001b[0m prob \u001b[39m=\u001b[39m exp_util \u001b[39m/\u001b[39m sum_exp_util\n",
      "\u001b[1;32m/home/superapp-research/Documents/Super App Research/driver-side/location-choice-model/notebooks/bismillah_mnl_pagi.ipynb Cell 7\u001b[0m line \u001b[0;36m1\n\u001b[1;32m     <a href='vscode-notebook-cell://wsl%2Bubuntu-22.04/home/superapp-research/Documents/Super%20App%20Research/driver-side/location-choice-model/notebooks/bismillah_mnl_pagi.ipynb#X10sdnNjb2RlLXJlbW90ZQ%3D%3D?line=11'>12</a>\u001b[0m exp_util \u001b[39m=\u001b[39m np\u001b[39m.\u001b[39mexp(util)\n\u001b[1;32m     <a href='vscode-notebook-cell://wsl%2Bubuntu-22.04/home/superapp-research/Documents/Super%20App%20Research/driver-side/location-choice-model/notebooks/bismillah_mnl_pagi.ipynb#X10sdnNjb2RlLXJlbW90ZQ%3D%3D?line=13'>14</a>\u001b[0m \u001b[39m# Menghitung total ekponensial utilitas untuk semua lokasi bagi pengemudi tertentu\u001b[39;00m\n\u001b[0;32m---> <a href='vscode-notebook-cell://wsl%2Bubuntu-22.04/home/superapp-research/Documents/Super%20App%20Research/driver-side/location-choice-model/notebooks/bismillah_mnl_pagi.ipynb#X10sdnNjb2RlLXJlbW90ZQ%3D%3D?line=14'>15</a>\u001b[0m sum_exp_util \u001b[39m=\u001b[39m \u001b[39msum\u001b[39m(np\u001b[39m.\u001b[39mexp(utility_function(driver_id, loc, beta, data_trip)) \u001b[39mfor\u001b[39;00m loc \u001b[39min\u001b[39;00m \u001b[39mset\u001b[39m(data_trip\u001b[39m.\u001b[39mlocation_code))\n\u001b[1;32m     <a href='vscode-notebook-cell://wsl%2Bubuntu-22.04/home/superapp-research/Documents/Super%20App%20Research/driver-side/location-choice-model/notebooks/bismillah_mnl_pagi.ipynb#X10sdnNjb2RlLXJlbW90ZQ%3D%3D?line=16'>17</a>\u001b[0m \u001b[39m# Probabilitas pilihan lokasi ini oleh pengemudi\u001b[39;00m\n\u001b[1;32m     <a href='vscode-notebook-cell://wsl%2Bubuntu-22.04/home/superapp-research/Documents/Super%20App%20Research/driver-side/location-choice-model/notebooks/bismillah_mnl_pagi.ipynb#X10sdnNjb2RlLXJlbW90ZQ%3D%3D?line=17'>18</a>\u001b[0m prob \u001b[39m=\u001b[39m exp_util \u001b[39m/\u001b[39m sum_exp_util\n",
      "\u001b[1;32m/home/superapp-research/Documents/Super App Research/driver-side/location-choice-model/notebooks/bismillah_mnl_pagi.ipynb Cell 7\u001b[0m line \u001b[0;36m4\n\u001b[1;32m      <a href='vscode-notebook-cell://wsl%2Bubuntu-22.04/home/superapp-research/Documents/Super%20App%20Research/driver-side/location-choice-model/notebooks/bismillah_mnl_pagi.ipynb#X10sdnNjb2RlLXJlbW90ZQ%3D%3D?line=1'>2</a>\u001b[0m \u001b[39mdef\u001b[39;00m \u001b[39mutility_function\u001b[39m(driver_id, location_id, beta, data_trip):\n\u001b[1;32m      <a href='vscode-notebook-cell://wsl%2Bubuntu-22.04/home/superapp-research/Documents/Super%20App%20Research/driver-side/location-choice-model/notebooks/bismillah_mnl_pagi.ipynb#X10sdnNjb2RlLXJlbW90ZQ%3D%3D?line=2'>3</a>\u001b[0m     \u001b[39m# Ambil baris data untuk pengemudi dan lokasi tertentu\u001b[39;00m\n\u001b[0;32m----> <a href='vscode-notebook-cell://wsl%2Bubuntu-22.04/home/superapp-research/Documents/Super%20App%20Research/driver-side/location-choice-model/notebooks/bismillah_mnl_pagi.ipynb#X10sdnNjb2RlLXJlbW90ZQ%3D%3D?line=3'>4</a>\u001b[0m     data_row \u001b[39m=\u001b[39m data_trip[(data_trip\u001b[39m.\u001b[39;49mdriver_id \u001b[39m==\u001b[39;49m driver_id) \u001b[39m&\u001b[39;49m (data_trip\u001b[39m.\u001b[39;49mlocation_code \u001b[39m==\u001b[39;49m location_id)]\n\u001b[1;32m      <a href='vscode-notebook-cell://wsl%2Bubuntu-22.04/home/superapp-research/Documents/Super%20App%20Research/driver-side/location-choice-model/notebooks/bismillah_mnl_pagi.ipynb#X10sdnNjb2RlLXJlbW90ZQ%3D%3D?line=5'>6</a>\u001b[0m     \u001b[39m# Jika kombinasi tidak ditemukan, kembalikan utilitas 0 atau nilai default\u001b[39;00m\n\u001b[1;32m      <a href='vscode-notebook-cell://wsl%2Bubuntu-22.04/home/superapp-research/Documents/Super%20App%20Research/driver-side/location-choice-model/notebooks/bismillah_mnl_pagi.ipynb#X10sdnNjb2RlLXJlbW90ZQ%3D%3D?line=6'>7</a>\u001b[0m     \u001b[39mif\u001b[39;00m data_row\u001b[39m.\u001b[39mempty:\n",
      "File \u001b[0;32m~/anaconda3/envs/suapp/lib/python3.11/site-packages/pandas/core/frame.py:3751\u001b[0m, in \u001b[0;36mDataFrame.__getitem__\u001b[0;34m(self, key)\u001b[0m\n\u001b[1;32m   3749\u001b[0m \u001b[39m# Do we have a (boolean) 1d indexer?\u001b[39;00m\n\u001b[1;32m   3750\u001b[0m \u001b[39mif\u001b[39;00m com\u001b[39m.\u001b[39mis_bool_indexer(key):\n\u001b[0;32m-> 3751\u001b[0m     \u001b[39mreturn\u001b[39;00m \u001b[39mself\u001b[39;49m\u001b[39m.\u001b[39;49m_getitem_bool_array(key)\n\u001b[1;32m   3753\u001b[0m \u001b[39m# We are left with two options: a single key, and a collection of keys,\u001b[39;00m\n\u001b[1;32m   3754\u001b[0m \u001b[39m# We interpret tuples as collections only for non-MultiIndex\u001b[39;00m\n\u001b[1;32m   3755\u001b[0m is_single_key \u001b[39m=\u001b[39m \u001b[39misinstance\u001b[39m(key, \u001b[39mtuple\u001b[39m) \u001b[39mor\u001b[39;00m \u001b[39mnot\u001b[39;00m is_list_like(key)\n",
      "File \u001b[0;32m~/anaconda3/envs/suapp/lib/python3.11/site-packages/pandas/core/frame.py:3810\u001b[0m, in \u001b[0;36mDataFrame._getitem_bool_array\u001b[0;34m(self, key)\u001b[0m\n\u001b[1;32m   3807\u001b[0m     \u001b[39mreturn\u001b[39;00m \u001b[39mself\u001b[39m\u001b[39m.\u001b[39mcopy(deep\u001b[39m=\u001b[39m\u001b[39mNone\u001b[39;00m)\n\u001b[1;32m   3809\u001b[0m indexer \u001b[39m=\u001b[39m key\u001b[39m.\u001b[39mnonzero()[\u001b[39m0\u001b[39m]\n\u001b[0;32m-> 3810\u001b[0m \u001b[39mreturn\u001b[39;00m \u001b[39mself\u001b[39;49m\u001b[39m.\u001b[39;49m_take_with_is_copy(indexer, axis\u001b[39m=\u001b[39;49m\u001b[39m0\u001b[39;49m)\n",
      "File \u001b[0;32m~/anaconda3/envs/suapp/lib/python3.11/site-packages/pandas/core/generic.py:3948\u001b[0m, in \u001b[0;36mNDFrame._take_with_is_copy\u001b[0;34m(self, indices, axis)\u001b[0m\n\u001b[1;32m   3940\u001b[0m \u001b[39mdef\u001b[39;00m \u001b[39m_take_with_is_copy\u001b[39m(\u001b[39mself\u001b[39m: NDFrameT, indices, axis: Axis \u001b[39m=\u001b[39m \u001b[39m0\u001b[39m) \u001b[39m-\u001b[39m\u001b[39m>\u001b[39m NDFrameT:\n\u001b[1;32m   3941\u001b[0m \u001b[39m    \u001b[39m\u001b[39m\"\"\"\u001b[39;00m\n\u001b[1;32m   3942\u001b[0m \u001b[39m    Internal version of the `take` method that sets the `_is_copy`\u001b[39;00m\n\u001b[1;32m   3943\u001b[0m \u001b[39m    attribute to keep track of the parent dataframe (using in indexing\u001b[39;00m\n\u001b[0;32m   (...)\u001b[0m\n\u001b[1;32m   3946\u001b[0m \u001b[39m    See the docstring of `take` for full explanation of the parameters.\u001b[39;00m\n\u001b[1;32m   3947\u001b[0m \u001b[39m    \"\"\"\u001b[39;00m\n\u001b[0;32m-> 3948\u001b[0m     result \u001b[39m=\u001b[39m \u001b[39mself\u001b[39;49m\u001b[39m.\u001b[39;49m_take(indices\u001b[39m=\u001b[39;49mindices, axis\u001b[39m=\u001b[39;49maxis)\n\u001b[1;32m   3949\u001b[0m     \u001b[39m# Maybe set copy if we didn't actually change the index.\u001b[39;00m\n\u001b[1;32m   3950\u001b[0m     \u001b[39mif\u001b[39;00m \u001b[39mnot\u001b[39;00m result\u001b[39m.\u001b[39m_get_axis(axis)\u001b[39m.\u001b[39mequals(\u001b[39mself\u001b[39m\u001b[39m.\u001b[39m_get_axis(axis)):\n",
      "File \u001b[0;32m~/anaconda3/envs/suapp/lib/python3.11/site-packages/pandas/core/generic.py:3932\u001b[0m, in \u001b[0;36mNDFrame._take\u001b[0;34m(self, indices, axis, convert_indices)\u001b[0m\n\u001b[1;32m   3924\u001b[0m     \u001b[39mif\u001b[39;00m (\n\u001b[1;32m   3925\u001b[0m         axis \u001b[39m==\u001b[39m \u001b[39m0\u001b[39m\n\u001b[1;32m   3926\u001b[0m         \u001b[39mand\u001b[39;00m indices\u001b[39m.\u001b[39mndim \u001b[39m==\u001b[39m \u001b[39m1\u001b[39m\n\u001b[1;32m   3927\u001b[0m         \u001b[39mand\u001b[39;00m using_copy_on_write()\n\u001b[1;32m   3928\u001b[0m         \u001b[39mand\u001b[39;00m is_range_indexer(indices, \u001b[39mlen\u001b[39m(\u001b[39mself\u001b[39m))\n\u001b[1;32m   3929\u001b[0m     ):\n\u001b[1;32m   3930\u001b[0m         \u001b[39mreturn\u001b[39;00m \u001b[39mself\u001b[39m\u001b[39m.\u001b[39mcopy(deep\u001b[39m=\u001b[39m\u001b[39mNone\u001b[39;00m)\n\u001b[0;32m-> 3932\u001b[0m new_data \u001b[39m=\u001b[39m \u001b[39mself\u001b[39;49m\u001b[39m.\u001b[39;49m_mgr\u001b[39m.\u001b[39;49mtake(\n\u001b[1;32m   3933\u001b[0m     indices,\n\u001b[1;32m   3934\u001b[0m     axis\u001b[39m=\u001b[39;49m\u001b[39mself\u001b[39;49m\u001b[39m.\u001b[39;49m_get_block_manager_axis(axis),\n\u001b[1;32m   3935\u001b[0m     verify\u001b[39m=\u001b[39;49m\u001b[39mTrue\u001b[39;49;00m,\n\u001b[1;32m   3936\u001b[0m     convert_indices\u001b[39m=\u001b[39;49mconvert_indices,\n\u001b[1;32m   3937\u001b[0m )\n\u001b[1;32m   3938\u001b[0m \u001b[39mreturn\u001b[39;00m \u001b[39mself\u001b[39m\u001b[39m.\u001b[39m_constructor(new_data)\u001b[39m.\u001b[39m__finalize__(\u001b[39mself\u001b[39m, method\u001b[39m=\u001b[39m\u001b[39m\"\u001b[39m\u001b[39mtake\u001b[39m\u001b[39m\"\u001b[39m)\n",
      "File \u001b[0;32m~/anaconda3/envs/suapp/lib/python3.11/site-packages/pandas/core/internals/managers.py:962\u001b[0m, in \u001b[0;36mBaseBlockManager.take\u001b[0;34m(self, indexer, axis, verify, convert_indices)\u001b[0m\n\u001b[1;32m    959\u001b[0m \u001b[39mif\u001b[39;00m convert_indices:\n\u001b[1;32m    960\u001b[0m     indexer \u001b[39m=\u001b[39m maybe_convert_indices(indexer, n, verify\u001b[39m=\u001b[39mverify)\n\u001b[0;32m--> 962\u001b[0m new_labels \u001b[39m=\u001b[39m \u001b[39mself\u001b[39;49m\u001b[39m.\u001b[39;49maxes[axis]\u001b[39m.\u001b[39;49mtake(indexer)\n\u001b[1;32m    963\u001b[0m \u001b[39mreturn\u001b[39;00m \u001b[39mself\u001b[39m\u001b[39m.\u001b[39mreindex_indexer(\n\u001b[1;32m    964\u001b[0m     new_axis\u001b[39m=\u001b[39mnew_labels,\n\u001b[1;32m    965\u001b[0m     indexer\u001b[39m=\u001b[39mindexer,\n\u001b[0;32m   (...)\u001b[0m\n\u001b[1;32m    968\u001b[0m     copy\u001b[39m=\u001b[39m\u001b[39mNone\u001b[39;00m,\n\u001b[1;32m    969\u001b[0m )\n",
      "File \u001b[0;32m~/anaconda3/envs/suapp/lib/python3.11/site-packages/pandas/core/indexes/base.py:1088\u001b[0m, in \u001b[0;36mIndex.take\u001b[0;34m(self, indices, axis, allow_fill, fill_value, **kwargs)\u001b[0m\n\u001b[1;32m   1084\u001b[0m allow_fill \u001b[39m=\u001b[39m \u001b[39mself\u001b[39m\u001b[39m.\u001b[39m_maybe_disallow_fill(allow_fill, fill_value, indices)\n\u001b[1;32m   1086\u001b[0m \u001b[39m# Note: we discard fill_value and use self._na_value, only relevant\u001b[39;00m\n\u001b[1;32m   1087\u001b[0m \u001b[39m#  in the case where allow_fill is True and fill_value is not None\u001b[39;00m\n\u001b[0;32m-> 1088\u001b[0m values \u001b[39m=\u001b[39m \u001b[39mself\u001b[39;49m\u001b[39m.\u001b[39;49m_values\n\u001b[1;32m   1089\u001b[0m \u001b[39mif\u001b[39;00m \u001b[39misinstance\u001b[39m(values, np\u001b[39m.\u001b[39mndarray):\n\u001b[1;32m   1090\u001b[0m     taken \u001b[39m=\u001b[39m algos\u001b[39m.\u001b[39mtake(\n\u001b[1;32m   1091\u001b[0m         values, indices, allow_fill\u001b[39m=\u001b[39mallow_fill, fill_value\u001b[39m=\u001b[39m\u001b[39mself\u001b[39m\u001b[39m.\u001b[39m_na_value\n\u001b[1;32m   1092\u001b[0m     )\n",
      "File \u001b[0;32m~/anaconda3/envs/suapp/lib/python3.11/site-packages/pandas/core/indexes/base.py:4936\u001b[0m, in \u001b[0;36mIndex._values\u001b[0;34m(self)\u001b[0m\n\u001b[1;32m   4933\u001b[0m         array \u001b[39m=\u001b[39m PandasArray(array)\n\u001b[1;32m   4934\u001b[0m     \u001b[39mreturn\u001b[39;00m array\n\u001b[0;32m-> 4936\u001b[0m \u001b[39m@property\u001b[39m\n\u001b[1;32m   4937\u001b[0m \u001b[39mdef\u001b[39;00m \u001b[39m_values\u001b[39m(\u001b[39mself\u001b[39m) \u001b[39m-\u001b[39m\u001b[39m>\u001b[39m ExtensionArray \u001b[39m|\u001b[39m np\u001b[39m.\u001b[39mndarray:\n\u001b[1;32m   4938\u001b[0m \u001b[39m    \u001b[39m\u001b[39m\"\"\"\u001b[39;00m\n\u001b[1;32m   4939\u001b[0m \u001b[39m    The best array representation.\u001b[39;00m\n\u001b[1;32m   4940\u001b[0m \n\u001b[0;32m   (...)\u001b[0m\n\u001b[1;32m   4958\u001b[0m \u001b[39m    values : Values\u001b[39;00m\n\u001b[1;32m   4959\u001b[0m \u001b[39m    \"\"\"\u001b[39;00m\n\u001b[1;32m   4960\u001b[0m     \u001b[39mreturn\u001b[39;00m \u001b[39mself\u001b[39m\u001b[39m.\u001b[39m_data\n",
      "\u001b[0;31mKeyboardInterrupt\u001b[0m: "
     ]
    }
   ],
   "source": [
    "from scipy.optimize import minimize\n",
    "import numpy as np\n",
    "\n",
    "# Estimasi Model dengan Toleransi Konvergensi\n",
    "initial_beta = np.zeros(13)  # Sesuaikan jumlah ini sesuai jumlah variabel\n",
    "result = minimize(log_likelihood, initial_beta, args=(data_trip), method='BFGS', tol=1e-6)\n",
    "\n",
    "# Menampilkan Hasil\n",
    "print(\"Optimized Beta Parameters:\", result.x)"
   ]
  }
 ],
 "metadata": {
  "kernelspec": {
   "display_name": "suapp",
   "language": "python",
   "name": "python3"
  },
  "language_info": {
   "codemirror_mode": {
    "name": "ipython",
    "version": 3
   },
   "file_extension": ".py",
   "mimetype": "text/x-python",
   "name": "python",
   "nbconvert_exporter": "python",
   "pygments_lexer": "ipython3",
   "version": "3.11.4"
  }
 },
 "nbformat": 4,
 "nbformat_minor": 2
}
